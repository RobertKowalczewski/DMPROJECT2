{
 "cells": [
  {
   "cell_type": "code",
   "execution_count": 1,
   "metadata": {},
   "outputs": [],
   "source": [
    "import pandas as pd\n",
    "import numpy as np\n",
    "from tqdm import tqdm\n",
    "from recommenders import ClusteringBasedRecommender, Data, Apriori\n",
    "from sklearn.cluster import KMeans, DBSCAN, AgglomerativeClustering, SpectralClustering, OPTICS, Birch\n",
    "from sklearn.preprocessing import Normalizer, StandardScaler, MinMaxScaler, PolynomialFeatures\n",
    "from sklearn.impute import SimpleImputer, KNNImputer"
   ]
  },
  {
   "cell_type": "code",
   "execution_count": 2,
   "metadata": {},
   "outputs": [],
   "source": [
    "import random \n",
    "def test_error(epochs, recommender,data:Data, seed=196, sample_size=1000):\n",
    "    random.seed(seed)\n",
    "    rand_seeds = [random.randint(0, 1000) for _ in range(epochs)]\n",
    "    avg_error = 0\n",
    "    for i in range(epochs):\n",
    "        test_data = data.test_data.sample(n=sample_size, random_state=rand_seeds[i])\n",
    "        test_data['predicted_rating'] = test_data.apply(\n",
    "            lambda row: recommender.predict(int(row['userId']), int(row['movieId'])), axis=1\n",
    "            )\n",
    "        avg_error += np.mean(np.abs(test_data['rating'] - test_data['predicted_rating']))\n",
    "    return avg_error / epochs"
   ]
  },
  {
   "cell_type": "code",
   "execution_count": 4,
   "metadata": {},
   "outputs": [
    {
     "name": "stderr",
     "output_type": "stream",
     "text": [
      "  0%|          | 0/3 [00:00<?, ?it/s]c:\\Users\\annamiczke\\AppData\\Local\\Programs\\Python\\Python310\\lib\\site-packages\\sklearn\\cluster\\_kmeans.py:1416: FutureWarning: The default value of `n_init` will change from 10 to 'auto' in 1.4. Set the value of `n_init` explicitly to suppress the warning\n",
      "  super()._check_params_vs_input(X, default_n_init=10)\n",
      "c:\\Users\\annamiczke\\AppData\\Local\\Programs\\Python\\Python310\\lib\\site-packages\\sklearn\\cluster\\_kmeans.py:1416: FutureWarning: The default value of `n_init` will change from 10 to 'auto' in 1.4. Set the value of `n_init` explicitly to suppress the warning\n",
      "  super()._check_params_vs_input(X, default_n_init=10)\n",
      "c:\\Users\\annamiczke\\AppData\\Local\\Programs\\Python\\Python310\\lib\\site-packages\\sklearn\\cluster\\_kmeans.py:1416: FutureWarning: The default value of `n_init` will change from 10 to 'auto' in 1.4. Set the value of `n_init` explicitly to suppress the warning\n",
      "  super()._check_params_vs_input(X, default_n_init=10)\n",
      "c:\\Users\\annamiczke\\AppData\\Local\\Programs\\Python\\Python310\\lib\\site-packages\\sklearn\\cluster\\_kmeans.py:1416: FutureWarning: The default value of `n_init` will change from 10 to 'auto' in 1.4. Set the value of `n_init` explicitly to suppress the warning\n",
      "  super()._check_params_vs_input(X, default_n_init=10)\n",
      "c:\\Users\\annamiczke\\AppData\\Local\\Programs\\Python\\Python310\\lib\\site-packages\\sklearn\\cluster\\_birch.py:725: ConvergenceWarning: Number of subclusters found (1) by BIRCH is less than (10). Decrease the threshold.\n",
      "  warnings.warn(\n",
      "c:\\Users\\annamiczke\\AppData\\Local\\Programs\\Python\\Python310\\lib\\site-packages\\sklearn\\cluster\\_kmeans.py:1416: FutureWarning: The default value of `n_init` will change from 10 to 'auto' in 1.4. Set the value of `n_init` explicitly to suppress the warning\n",
      "  super()._check_params_vs_input(X, default_n_init=10)\n",
      "c:\\Users\\annamiczke\\AppData\\Local\\Programs\\Python\\Python310\\lib\\site-packages\\sklearn\\cluster\\_kmeans.py:1416: FutureWarning: The default value of `n_init` will change from 10 to 'auto' in 1.4. Set the value of `n_init` explicitly to suppress the warning\n",
      "  super()._check_params_vs_input(X, default_n_init=10)\n",
      "c:\\Users\\annamiczke\\AppData\\Local\\Programs\\Python\\Python310\\lib\\site-packages\\sklearn\\cluster\\_birch.py:725: ConvergenceWarning: Number of subclusters found (1) by BIRCH is less than (10). Decrease the threshold.\n",
      "  warnings.warn(\n",
      " 33%|███▎      | 1/3 [00:51<01:43, 51.75s/it]c:\\Users\\annamiczke\\AppData\\Local\\Programs\\Python\\Python310\\lib\\site-packages\\sklearn\\cluster\\_kmeans.py:1416: FutureWarning: The default value of `n_init` will change from 10 to 'auto' in 1.4. Set the value of `n_init` explicitly to suppress the warning\n",
      "  super()._check_params_vs_input(X, default_n_init=10)\n",
      "c:\\Users\\annamiczke\\AppData\\Local\\Programs\\Python\\Python310\\lib\\site-packages\\sklearn\\cluster\\_kmeans.py:1416: FutureWarning: The default value of `n_init` will change from 10 to 'auto' in 1.4. Set the value of `n_init` explicitly to suppress the warning\n",
      "  super()._check_params_vs_input(X, default_n_init=10)\n",
      "c:\\Users\\annamiczke\\AppData\\Local\\Programs\\Python\\Python310\\lib\\site-packages\\sklearn\\cluster\\_kmeans.py:1416: FutureWarning: The default value of `n_init` will change from 10 to 'auto' in 1.4. Set the value of `n_init` explicitly to suppress the warning\n",
      "  super()._check_params_vs_input(X, default_n_init=10)\n",
      "c:\\Users\\annamiczke\\AppData\\Local\\Programs\\Python\\Python310\\lib\\site-packages\\sklearn\\cluster\\_kmeans.py:1416: FutureWarning: The default value of `n_init` will change from 10 to 'auto' in 1.4. Set the value of `n_init` explicitly to suppress the warning\n",
      "  super()._check_params_vs_input(X, default_n_init=10)\n",
      "c:\\Users\\annamiczke\\AppData\\Local\\Programs\\Python\\Python310\\lib\\site-packages\\sklearn\\cluster\\_birch.py:725: ConvergenceWarning: Number of subclusters found (1) by BIRCH is less than (10). Decrease the threshold.\n",
      "  warnings.warn(\n",
      "c:\\Users\\annamiczke\\AppData\\Local\\Programs\\Python\\Python310\\lib\\site-packages\\sklearn\\cluster\\_kmeans.py:1416: FutureWarning: The default value of `n_init` will change from 10 to 'auto' in 1.4. Set the value of `n_init` explicitly to suppress the warning\n",
      "  super()._check_params_vs_input(X, default_n_init=10)\n",
      "c:\\Users\\annamiczke\\AppData\\Local\\Programs\\Python\\Python310\\lib\\site-packages\\sklearn\\cluster\\_kmeans.py:1416: FutureWarning: The default value of `n_init` will change from 10 to 'auto' in 1.4. Set the value of `n_init` explicitly to suppress the warning\n",
      "  super()._check_params_vs_input(X, default_n_init=10)\n",
      "c:\\Users\\annamiczke\\AppData\\Local\\Programs\\Python\\Python310\\lib\\site-packages\\sklearn\\cluster\\_birch.py:725: ConvergenceWarning: Number of subclusters found (1) by BIRCH is less than (10). Decrease the threshold.\n",
      "  warnings.warn(\n",
      " 67%|██████▋   | 2/3 [01:39<00:49, 49.14s/it]c:\\Users\\annamiczke\\AppData\\Local\\Programs\\Python\\Python310\\lib\\site-packages\\sklearn\\cluster\\_kmeans.py:1416: FutureWarning: The default value of `n_init` will change from 10 to 'auto' in 1.4. Set the value of `n_init` explicitly to suppress the warning\n",
      "  super()._check_params_vs_input(X, default_n_init=10)\n",
      "c:\\Users\\annamiczke\\AppData\\Local\\Programs\\Python\\Python310\\lib\\site-packages\\sklearn\\cluster\\_kmeans.py:1416: FutureWarning: The default value of `n_init` will change from 10 to 'auto' in 1.4. Set the value of `n_init` explicitly to suppress the warning\n",
      "  super()._check_params_vs_input(X, default_n_init=10)\n",
      "c:\\Users\\annamiczke\\AppData\\Local\\Programs\\Python\\Python310\\lib\\site-packages\\sklearn\\cluster\\_kmeans.py:1416: FutureWarning: The default value of `n_init` will change from 10 to 'auto' in 1.4. Set the value of `n_init` explicitly to suppress the warning\n",
      "  super()._check_params_vs_input(X, default_n_init=10)\n",
      "c:\\Users\\annamiczke\\AppData\\Local\\Programs\\Python\\Python310\\lib\\site-packages\\sklearn\\cluster\\_kmeans.py:1416: FutureWarning: The default value of `n_init` will change from 10 to 'auto' in 1.4. Set the value of `n_init` explicitly to suppress the warning\n",
      "  super()._check_params_vs_input(X, default_n_init=10)\n",
      "c:\\Users\\annamiczke\\AppData\\Local\\Programs\\Python\\Python310\\lib\\site-packages\\sklearn\\cluster\\_birch.py:725: ConvergenceWarning: Number of subclusters found (1) by BIRCH is less than (10). Decrease the threshold.\n",
      "  warnings.warn(\n",
      "c:\\Users\\annamiczke\\AppData\\Local\\Programs\\Python\\Python310\\lib\\site-packages\\sklearn\\cluster\\_kmeans.py:1416: FutureWarning: The default value of `n_init` will change from 10 to 'auto' in 1.4. Set the value of `n_init` explicitly to suppress the warning\n",
      "  super()._check_params_vs_input(X, default_n_init=10)\n",
      "c:\\Users\\annamiczke\\AppData\\Local\\Programs\\Python\\Python310\\lib\\site-packages\\sklearn\\cluster\\_kmeans.py:1416: FutureWarning: The default value of `n_init` will change from 10 to 'auto' in 1.4. Set the value of `n_init` explicitly to suppress the warning\n",
      "  super()._check_params_vs_input(X, default_n_init=10)\n",
      "c:\\Users\\annamiczke\\AppData\\Local\\Programs\\Python\\Python310\\lib\\site-packages\\sklearn\\cluster\\_birch.py:725: ConvergenceWarning: Number of subclusters found (1) by BIRCH is less than (10). Decrease the threshold.\n",
      "  warnings.warn(\n",
      "100%|██████████| 3/3 [02:33<00:00, 51.11s/it]\n"
     ]
    }
   ],
   "source": [
    "'''testing without apriori'''\n",
    "imputers = [SimpleImputer(strategy='mean'),\n",
    "            SimpleImputer(strategy='median'),\n",
    "            KNNImputer(n_neighbors=4, weights='uniform')]\n",
    "preprocessors = [[], [MinMaxScaler()],\n",
    "                 [StandardScaler()], [Normalizer()],\n",
    "                 [StandardScaler()],\n",
    "                 [MinMaxScaler(), Normalizer()]]\n",
    "clusterers = [KMeans(n_clusters=20), \n",
    "              DBSCAN(eps=0.5, min_samples=5),\n",
    "              AgglomerativeClustering(n_clusters=20),\n",
    "              SpectralClustering(n_clusters=20),\n",
    "              OPTICS(min_samples=5),\n",
    "              Birch(n_clusters=10)]\n",
    "errors = {}\n",
    "\n",
    "for i,imputer in enumerate(tqdm(imputers)):\n",
    "    for preprocessor in preprocessors:\n",
    "        for clusterer in clusterers:\n",
    "            data = Data('ml-latest-small', \n",
    "                        imputer=imputer,\n",
    "                        preprocessors=preprocessor)\n",
    "\n",
    "            recommender = ClusteringBasedRecommender(\n",
    "                data=data.train_data_table_for_clustering_normalized,\n",
    "                data_unnormalized=data.train_data_table_for_clustering,\n",
    "                movie_genres=data.movie_genres,\n",
    "                clusterer=clusterer,apriori=False\n",
    "                )\n",
    "            recommender.train()\n",
    "            errors[(imputer, tuple(preprocessor), clusterer)] = test_error(2, recommender,data,2, sample_size=100)\n"
   ]
  },
  {
   "cell_type": "code",
   "execution_count": 3,
   "metadata": {},
   "outputs": [
    {
     "name": "stderr",
     "output_type": "stream",
     "text": [
      "  0%|          | 0/20 [00:00<?, ?it/s]"
     ]
    },
    {
     "name": "stdout",
     "output_type": "stream",
     "text": [
      "662\n"
     ]
    },
    {
     "name": "stderr",
     "output_type": "stream",
     "text": [
      "  5%|▌         | 1/20 [00:05<01:44,  5.49s/it]"
     ]
    },
    {
     "name": "stdout",
     "output_type": "stream",
     "text": [
      "130\n",
      "539\n"
     ]
    },
    {
     "name": "stderr",
     "output_type": "stream",
     "text": [
      " 10%|█         | 2/20 [00:06<00:46,  2.58s/it]"
     ]
    },
    {
     "name": "stdout",
     "output_type": "stream",
     "text": [
      "699\n",
      "872\n"
     ]
    },
    {
     "name": "stderr",
     "output_type": "stream",
     "text": [
      " 15%|█▌        | 3/20 [01:27<10:53, 38.42s/it]"
     ]
    },
    {
     "name": "stdout",
     "output_type": "stream",
     "text": [
      "277\n",
      "531\n"
     ]
    },
    {
     "name": "stderr",
     "output_type": "stream",
     "text": [
      " 20%|██        | 4/20 [01:27<06:13, 23.34s/it]"
     ]
    },
    {
     "name": "stdout",
     "output_type": "stream",
     "text": [
      "455\n",
      "751\n"
     ]
    },
    {
     "name": "stderr",
     "output_type": "stream",
     "text": [
      " 25%|██▌       | 5/20 [01:49<05:45, 23.05s/it]"
     ]
    },
    {
     "name": "stdout",
     "output_type": "stream",
     "text": [
      "188\n",
      "703\n"
     ]
    },
    {
     "name": "stderr",
     "output_type": "stream",
     "text": [
      " 30%|███       | 6/20 [01:56<04:04, 17.44s/it]"
     ]
    },
    {
     "name": "stdout",
     "output_type": "stream",
     "text": [
      "268\n",
      "857\n"
     ]
    },
    {
     "name": "stderr",
     "output_type": "stream",
     "text": [
      " 35%|███▌      | 7/20 [02:02<02:58, 13.71s/it]"
     ]
    },
    {
     "name": "stdout",
     "output_type": "stream",
     "text": [
      "386\n",
      "799\n"
     ]
    },
    {
     "name": "stderr",
     "output_type": "stream",
     "text": [
      " 40%|████      | 8/20 [02:08<02:13, 11.12s/it]"
     ]
    },
    {
     "name": "stdout",
     "output_type": "stream",
     "text": [
      "376\n",
      "561\n"
     ]
    },
    {
     "name": "stderr",
     "output_type": "stream",
     "text": [
      " 45%|████▌     | 9/20 [02:08<01:25,  7.78s/it]"
     ]
    },
    {
     "name": "stdout",
     "output_type": "stream",
     "text": [
      "605\n",
      "855\n"
     ]
    },
    {
     "name": "stderr",
     "output_type": "stream",
     "text": [
      " 50%|█████     | 10/20 [03:19<04:34, 27.40s/it]"
     ]
    },
    {
     "name": "stdout",
     "output_type": "stream",
     "text": [
      "168\n",
      "696\n"
     ]
    },
    {
     "name": "stderr",
     "output_type": "stream",
     "text": [
      " 60%|██████    | 12/20 [03:21<01:49, 13.67s/it]"
     ]
    },
    {
     "name": "stdout",
     "output_type": "stream",
     "text": [
      "626\n",
      "280\n",
      "218\n"
     ]
    },
    {
     "name": "stderr",
     "output_type": "stream",
     "text": [
      " 65%|██████▌   | 13/20 [03:22<01:07,  9.62s/it]"
     ]
    },
    {
     "name": "stdout",
     "output_type": "stream",
     "text": [
      "617\n",
      "492\n",
      "631\n"
     ]
    },
    {
     "name": "stderr",
     "output_type": "stream",
     "text": [
      " 70%|███████   | 14/20 [03:24<00:45,  7.53s/it]"
     ]
    },
    {
     "name": "stdout",
     "output_type": "stream",
     "text": [
      "593\n",
      "760\n"
     ]
    },
    {
     "name": "stderr",
     "output_type": "stream",
     "text": [
      " 75%|███████▌  | 15/20 [03:26<00:28,  5.77s/it]"
     ]
    },
    {
     "name": "stdout",
     "output_type": "stream",
     "text": [
      "616\n",
      "620\n"
     ]
    },
    {
     "name": "stderr",
     "output_type": "stream",
     "text": [
      " 80%|████████  | 16/20 [03:27<00:17,  4.39s/it]"
     ]
    },
    {
     "name": "stdout",
     "output_type": "stream",
     "text": [
      "895\n",
      "871\n"
     ]
    },
    {
     "name": "stderr",
     "output_type": "stream",
     "text": [
      " 85%|████████▌ | 17/20 [03:49<00:28,  9.54s/it]"
     ]
    },
    {
     "name": "stdout",
     "output_type": "stream",
     "text": [
      "304\n",
      "884\n"
     ]
    },
    {
     "name": "stderr",
     "output_type": "stream",
     "text": [
      " 90%|█████████ | 18/20 [04:59<00:55, 27.68s/it]"
     ]
    },
    {
     "name": "stdout",
     "output_type": "stream",
     "text": [
      "185\n",
      "751\n"
     ]
    },
    {
     "name": "stderr",
     "output_type": "stream",
     "text": [
      "100%|██████████| 20/20 [05:04<00:00, 15.23s/it]"
     ]
    },
    {
     "name": "stdout",
     "output_type": "stream",
     "text": [
      "329\n",
      "354\n",
      "319\n"
     ]
    },
    {
     "name": "stderr",
     "output_type": "stream",
     "text": [
      "\n"
     ]
    },
    {
     "name": "stdout",
     "output_type": "stream",
     "text": [
      "('Sci-Fi', 'rating_4.0', 'userId_186')\n",
      "('rating_3.0', 'userId_54')\n",
      "('159093', 'rating_4.0')\n",
      "('2291', 'rating_4.0')\n",
      "('rating_3.0', 'userId_109')\n",
      "('50', 'rating_2.0')\n",
      "average error when predicting ratings:\n",
      "0.6375 (SimpleImputer(strategy='median'), (), AgglomerativeClustering(n_clusters=20))\n"
     ]
    }
   ],
   "source": [
    "'''best option tried with assosciation rules apriori\n",
    "watch out- process like 30 mins\n",
    "printing, the sizes of frequent  itemsets generated, to see progress\n",
    "and printing the matched assosciation rules to have some comparison '''\n",
    "imputer = SimpleImputer(strategy='median')\n",
    "preprocessor = []\n",
    "clusterer = AgglomerativeClustering(n_clusters=20)\n",
    "#clusterer =KMeans(n_clusters=20)\n",
    "data = Data('ml-latest-small', \n",
    "                        imputer= imputer,\n",
    "                        preprocessors=preprocessor)\n",
    "errors = {}\n",
    "\n",
    "recommender = ClusteringBasedRecommender(\n",
    "    data=data.train_data_table_for_clustering_normalized,\n",
    "    data_unnormalized=data.train_data_table_for_clustering,\n",
    "    movie_genres=data.movie_genres,\n",
    "    clusterer=clusterer,apriori=True)\n",
    "recommender.train()\n",
    "errors[(imputer, tuple(preprocessor), clusterer)] = test_error(2, recommender,data,2, sample_size=100)\n",
    "print(\"average error when predicting ratings:\")\n",
    "for key, value in sorted(errors.items(), key=lambda x: x[1]):\n",
    "    print(value, key)"
   ]
  },
  {
   "cell_type": "code",
   "execution_count": 5,
   "metadata": {},
   "outputs": [
    {
     "name": "stdout",
     "output_type": "stream",
     "text": [
      "average error when predicting ratings:\n",
      "0.6637463398206978 (SimpleImputer(strategy='median'), (), KMeans(n_clusters=20))\n",
      "0.6691391529062851 (SimpleImputer(strategy='median'), (), AgglomerativeClustering(n_clusters=20))\n",
      "0.6695451222899327 (SimpleImputer(), (), KMeans(n_clusters=20))\n",
      "0.6724078684063539 (SimpleImputer(strategy='median'), (StandardScaler(),), KMeans(n_clusters=20))\n",
      "0.6740757132654545 (SimpleImputer(), (MinMaxScaler(),), KMeans(n_clusters=20))\n",
      "0.6742554176260739 (SimpleImputer(strategy='median'), (MinMaxScaler(),), KMeans(n_clusters=20))\n",
      "0.6761412865641284 (SimpleImputer(strategy='median'), (MinMaxScaler(),), AgglomerativeClustering(n_clusters=20))\n",
      "0.6768241960831751 (SimpleImputer(), (), Birch(n_clusters=10))\n",
      "0.6783108620864392 (KNNImputer(n_neighbors=4), (MinMaxScaler(),), KMeans(n_clusters=20))\n",
      "0.6798312898108865 (KNNImputer(n_neighbors=4), (StandardScaler(),), KMeans(n_clusters=20))\n",
      "0.6822060947333347 (KNNImputer(n_neighbors=4), (MinMaxScaler(),), AgglomerativeClustering(n_clusters=20))\n",
      "0.6847045752283712 (SimpleImputer(), (StandardScaler(),), KMeans(n_clusters=20))\n",
      "0.6851389429732488 (KNNImputer(n_neighbors=4), (), AgglomerativeClustering(n_clusters=20))\n",
      "0.6855387216832893 (SimpleImputer(), (StandardScaler(),), KMeans(n_clusters=20))\n",
      "0.6862600698118202 (SimpleImputer(strategy='median'), (StandardScaler(),), KMeans(n_clusters=20))\n",
      "0.6867590108494794 (KNNImputer(n_neighbors=4), (StandardScaler(),), KMeans(n_clusters=20))\n",
      "0.6885725295121063 (SimpleImputer(strategy='median'), (StandardScaler(),), AgglomerativeClustering(n_clusters=20))\n",
      "0.6885725295121063 (SimpleImputer(strategy='median'), (StandardScaler(),), AgglomerativeClustering(n_clusters=20))\n",
      "0.688770245558872 (KNNImputer(n_neighbors=4), (StandardScaler(),), AgglomerativeClustering(n_clusters=20))\n",
      "0.688770245558872 (KNNImputer(n_neighbors=4), (StandardScaler(),), AgglomerativeClustering(n_clusters=20))\n",
      "0.6911827342560775 (KNNImputer(n_neighbors=4), (), KMeans(n_clusters=20))\n",
      "0.6912448339406424 (SimpleImputer(), (StandardScaler(),), AgglomerativeClustering(n_clusters=20))\n",
      "0.6912448339406424 (SimpleImputer(), (StandardScaler(),), AgglomerativeClustering(n_clusters=20))\n",
      "0.6922070432508917 (KNNImputer(n_neighbors=4), (StandardScaler(),), Birch(n_clusters=10))\n",
      "0.6922070432508917 (KNNImputer(n_neighbors=4), (StandardScaler(),), Birch(n_clusters=10))\n",
      "0.6946689273838451 (SimpleImputer(), (MinMaxScaler(),), AgglomerativeClustering(n_clusters=20))\n",
      "0.6952899064140361 (SimpleImputer(), (), AgglomerativeClustering(n_clusters=20))\n",
      "0.6963736274326415 (SimpleImputer(strategy='median'), (), Birch(n_clusters=10))\n",
      "0.6977925000542184 (KNNImputer(n_neighbors=4), (), Birch(n_clusters=10))\n",
      "0.7031258174468029 (SimpleImputer(strategy='median'), (StandardScaler(),), Birch(n_clusters=10))\n",
      "0.7031258174468029 (SimpleImputer(strategy='median'), (StandardScaler(),), Birch(n_clusters=10))\n",
      "0.7035515538223622 (KNNImputer(n_neighbors=4), (MinMaxScaler(),), Birch(n_clusters=10))\n",
      "0.7065036477532732 (SimpleImputer(strategy='median'), (MinMaxScaler(), Normalizer()), KMeans(n_clusters=20))\n",
      "0.7077266507307698 (SimpleImputer(), (StandardScaler(),), Birch(n_clusters=10))\n",
      "0.7077266507307698 (SimpleImputer(), (StandardScaler(),), Birch(n_clusters=10))\n",
      "0.7079373512947211 (KNNImputer(n_neighbors=4), (MinMaxScaler(),), SpectralClustering(n_clusters=20))\n",
      "0.7090351043729277 (SimpleImputer(), (Normalizer(),), KMeans(n_clusters=20))\n",
      "0.7270471972591794 (SimpleImputer(strategy='median'), (MinMaxScaler(),), SpectralClustering(n_clusters=20))\n",
      "0.7366162967230112 (SimpleImputer(), (MinMaxScaler(),), SpectralClustering(n_clusters=20))\n",
      "0.7422601575006464 (SimpleImputer(), (MinMaxScaler(), Normalizer()), AgglomerativeClustering(n_clusters=20))\n",
      "0.7426805128915326 (SimpleImputer(strategy='median'), (Normalizer(),), SpectralClustering(n_clusters=20))\n",
      "0.7463974979387965 (KNNImputer(n_neighbors=4), (Normalizer(),), SpectralClustering(n_clusters=20))\n",
      "0.7465333187131664 (SimpleImputer(), (Normalizer(),), AgglomerativeClustering(n_clusters=20))\n",
      "0.7481561486804178 (SimpleImputer(strategy='median'), (Normalizer(),), KMeans(n_clusters=20))\n",
      "0.7541839385562957 (SimpleImputer(strategy='median'), (Normalizer(),), AgglomerativeClustering(n_clusters=20))\n",
      "0.7544706335408924 (SimpleImputer(strategy='median'), (StandardScaler(),), SpectralClustering(n_clusters=20))\n",
      "0.7555604035137564 (SimpleImputer(strategy='median'), (MinMaxScaler(), Normalizer()), AgglomerativeClustering(n_clusters=20))\n",
      "0.7576320903785788 (KNNImputer(n_neighbors=4), (MinMaxScaler(), Normalizer()), KMeans(n_clusters=20))\n",
      "0.7591881885955261 (SimpleImputer(strategy='median'), (MinMaxScaler(), Normalizer()), SpectralClustering(n_clusters=20))\n",
      "0.7598739974080596 (SimpleImputer(strategy='median'), (StandardScaler(),), SpectralClustering(n_clusters=20))\n",
      "0.7608205382664757 (SimpleImputer(), (MinMaxScaler(), Normalizer()), KMeans(n_clusters=20))\n",
      "0.7608525586226633 (SimpleImputer(), (StandardScaler(),), SpectralClustering(n_clusters=20))\n",
      "0.7609772486297754 (SimpleImputer(), (MinMaxScaler(),), Birch(n_clusters=10))\n",
      "0.7619877271197603 (KNNImputer(n_neighbors=4), (), OPTICS())\n",
      "0.762014604663351 (SimpleImputer(), (MinMaxScaler(), Normalizer()), SpectralClustering(n_clusters=20))\n",
      "0.7620823736698814 (SimpleImputer(strategy='median'), (MinMaxScaler(),), Birch(n_clusters=10))\n",
      "0.7628962166705879 (SimpleImputer(), (StandardScaler(),), SpectralClustering(n_clusters=20))\n",
      "0.7690755428947502 (KNNImputer(n_neighbors=4), (MinMaxScaler(), Normalizer()), SpectralClustering(n_clusters=20))\n",
      "0.7705835799671292 (SimpleImputer(), (Normalizer(),), SpectralClustering(n_clusters=20))\n",
      "0.7770983803135378 (KNNImputer(n_neighbors=4), (MinMaxScaler(), Normalizer()), AgglomerativeClustering(n_clusters=20))\n",
      "0.7788545006855515 (KNNImputer(n_neighbors=4), (Normalizer(),), AgglomerativeClustering(n_clusters=20))\n",
      "0.7790851198895012 (KNNImputer(n_neighbors=4), (Normalizer(),), KMeans(n_clusters=20))\n",
      "0.7815552547036007 (SimpleImputer(strategy='median'), (), OPTICS())\n",
      "0.7871240564122 (KNNImputer(n_neighbors=4), (StandardScaler(),), OPTICS())\n",
      "0.7871240564122 (KNNImputer(n_neighbors=4), (StandardScaler(),), OPTICS())\n",
      "0.787861793787354 (SimpleImputer(), (StandardScaler(),), OPTICS())\n",
      "0.787861793787354 (SimpleImputer(), (StandardScaler(),), OPTICS())\n",
      "0.7886188029612171 (SimpleImputer(), (Normalizer(),), OPTICS())\n",
      "0.7887829102925673 (SimpleImputer(strategy='median'), (MinMaxScaler(), Normalizer()), OPTICS())\n",
      "0.789144059715332 (SimpleImputer(), (MinMaxScaler(), Normalizer()), OPTICS())\n",
      "0.7911474591824446 (SimpleImputer(strategy='median'), (), DBSCAN())\n",
      "0.7911474591824446 (SimpleImputer(strategy='median'), (StandardScaler(),), DBSCAN())\n",
      "0.7911474591824446 (SimpleImputer(strategy='median'), (StandardScaler(),), OPTICS())\n",
      "0.7911474591824446 (SimpleImputer(strategy='median'), (Normalizer(),), DBSCAN())\n",
      "0.7911474591824446 (SimpleImputer(strategy='median'), (Normalizer(),), Birch(n_clusters=10))\n",
      "0.7911474591824446 (SimpleImputer(strategy='median'), (StandardScaler(),), DBSCAN())\n",
      "0.7911474591824446 (SimpleImputer(strategy='median'), (StandardScaler(),), OPTICS())\n",
      "0.7911474591824446 (SimpleImputer(strategy='median'), (MinMaxScaler(), Normalizer()), Birch(n_clusters=10))\n",
      "0.7912594222158469 (SimpleImputer(strategy='median'), (MinMaxScaler(), Normalizer()), DBSCAN())\n",
      "0.7913877111138262 (KNNImputer(n_neighbors=4), (), DBSCAN())\n",
      "0.7913877111138262 (KNNImputer(n_neighbors=4), (StandardScaler(),), DBSCAN())\n",
      "0.7913877111138262 (KNNImputer(n_neighbors=4), (Normalizer(),), DBSCAN())\n",
      "0.7913877111138262 (KNNImputer(n_neighbors=4), (Normalizer(),), Birch(n_clusters=10))\n",
      "0.7913877111138262 (KNNImputer(n_neighbors=4), (StandardScaler(),), DBSCAN())\n",
      "0.7913877111138262 (KNNImputer(n_neighbors=4), (MinMaxScaler(), Normalizer()), Birch(n_clusters=10))\n",
      "0.7915821205458592 (KNNImputer(n_neighbors=4), (MinMaxScaler(), Normalizer()), DBSCAN())\n",
      "0.7917806958830316 (SimpleImputer(), (), DBSCAN())\n",
      "0.7917806958830316 (SimpleImputer(), (), OPTICS())\n",
      "0.7917806958830316 (SimpleImputer(), (MinMaxScaler(),), OPTICS())\n",
      "0.7917806958830316 (SimpleImputer(), (StandardScaler(),), DBSCAN())\n",
      "0.7917806958830316 (SimpleImputer(), (Normalizer(),), DBSCAN())\n",
      "0.7917806958830316 (SimpleImputer(), (Normalizer(),), Birch(n_clusters=10))\n",
      "0.7917806958830316 (SimpleImputer(), (StandardScaler(),), DBSCAN())\n",
      "0.7917806958830316 (SimpleImputer(), (MinMaxScaler(), Normalizer()), Birch(n_clusters=10))\n",
      "0.7918965550907899 (SimpleImputer(), (MinMaxScaler(), Normalizer()), DBSCAN())\n",
      "0.7942570235668597 (KNNImputer(n_neighbors=4), (MinMaxScaler(), Normalizer()), OPTICS())\n",
      "0.7944353892841343 (SimpleImputer(strategy='median'), (MinMaxScaler(),), OPTICS())\n",
      "0.7945614458329366 (KNNImputer(n_neighbors=4), (MinMaxScaler(),), OPTICS())\n",
      "0.7949788727092953 (KNNImputer(n_neighbors=4), (Normalizer(),), OPTICS())\n",
      "0.7958570379700045 (SimpleImputer(strategy='median'), (), SpectralClustering(n_clusters=20))\n",
      "0.7960106733646635 (SimpleImputer(), (), SpectralClustering(n_clusters=20))\n",
      "0.8010194160853623 (SimpleImputer(), (MinMaxScaler(),), DBSCAN())\n",
      "0.8030280511951324 (SimpleImputer(strategy='median'), (MinMaxScaler(),), DBSCAN())\n",
      "0.8036423656121521 (SimpleImputer(strategy='median'), (Normalizer(),), OPTICS())\n",
      "0.8054328382377234 (KNNImputer(n_neighbors=4), (), SpectralClustering(n_clusters=20))\n",
      "0.8067531218653312 (KNNImputer(n_neighbors=4), (StandardScaler(),), SpectralClustering(n_clusters=20))\n",
      "0.8067531218653312 (KNNImputer(n_neighbors=4), (StandardScaler(),), SpectralClustering(n_clusters=20))\n",
      "0.8093125171854998 (KNNImputer(n_neighbors=4), (MinMaxScaler(),), DBSCAN())\n"
     ]
    }
   ],
   "source": [
    "print(\"average error when predicting ratings:\")\n",
    "for key, value in sorted(errors.items(), key=lambda x: x[1]):\n",
    "    print(value, key)"
   ]
  }
 ],
 "metadata": {
  "kernelspec": {
   "display_name": "Python 3",
   "language": "python",
   "name": "python3"
  },
  "language_info": {
   "codemirror_mode": {
    "name": "ipython",
    "version": 3
   },
   "file_extension": ".py",
   "mimetype": "text/x-python",
   "name": "python",
   "nbconvert_exporter": "python",
   "pygments_lexer": "ipython3",
   "version": "3.10.2"
  }
 },
 "nbformat": 4,
 "nbformat_minor": 2
}
