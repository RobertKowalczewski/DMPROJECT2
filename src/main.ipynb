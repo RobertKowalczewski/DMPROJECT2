{
 "cells": [
  {
   "cell_type": "code",
   "execution_count": 2,
   "metadata": {},
   "outputs": [],
   "source": [
    "import pandas as pd\n",
    "import numpy as np\n",
    "from tqdm import tqdm\n",
    "from recommenders import ClusteringBasedRecommender,ClusteringAndAprioriBasedRecommender, Data, Apriori\n",
    "from sklearn.cluster import KMeans, DBSCAN, AgglomerativeClustering, SpectralClustering, OPTICS, Birch\n",
    "from sklearn.preprocessing import Normalizer, StandardScaler, MinMaxScaler, PolynomialFeatures\n",
    "from sklearn.impute import SimpleImputer, KNNImputer"
   ]
  },
  {
   "cell_type": "code",
   "execution_count": 4,
   "metadata": {},
   "outputs": [],
   "source": [
    "import random \n",
    "def test_error(epochs, recommender,data:Data, seed=196, sample_size=1000):\n",
    "    random.seed(seed)\n",
    "    rand_seeds = [random.randint(0, 1000) for _ in range(epochs)]\n",
    "    avg_error = 0\n",
    "    for i in range(epochs):\n",
    "        test_data = data.test_data.sample(n=sample_size, random_state=rand_seeds[i])\n",
    "        test_data['predicted_rating'] = test_data.apply(\n",
    "            lambda row: recommender.predict(int(row['userId']), int(row['movieId'])), axis=1\n",
    "            )\n",
    "        avg_error += np.mean(np.abs(test_data['rating'] - test_data['predicted_rating']))\n",
    "    return avg_error / epochs"
   ]
  },
  {
   "cell_type": "code",
   "execution_count": 3,
   "metadata": {},
   "outputs": [
    {
     "name": "stderr",
     "output_type": "stream",
     "text": [
      "  0%|          | 0/3 [00:00<?, ?it/s]"
     ]
    },
    {
     "name": "stderr",
     "output_type": "stream",
     "text": [
      "c:\\Users\\annamiczke\\AppData\\Local\\Programs\\Python\\Python310\\lib\\site-packages\\sklearn\\cluster\\_kmeans.py:1416: FutureWarning: The default value of `n_init` will change from 10 to 'auto' in 1.4. Set the value of `n_init` explicitly to suppress the warning\n",
      "  super()._check_params_vs_input(X, default_n_init=10)\n",
      "c:\\Users\\annamiczke\\AppData\\Local\\Programs\\Python\\Python310\\lib\\site-packages\\sklearn\\cluster\\_kmeans.py:1416: FutureWarning: The default value of `n_init` will change from 10 to 'auto' in 1.4. Set the value of `n_init` explicitly to suppress the warning\n",
      "  super()._check_params_vs_input(X, default_n_init=10)\n",
      "c:\\Users\\annamiczke\\AppData\\Local\\Programs\\Python\\Python310\\lib\\site-packages\\sklearn\\cluster\\_kmeans.py:1416: FutureWarning: The default value of `n_init` will change from 10 to 'auto' in 1.4. Set the value of `n_init` explicitly to suppress the warning\n",
      "  super()._check_params_vs_input(X, default_n_init=10)\n",
      "c:\\Users\\annamiczke\\AppData\\Local\\Programs\\Python\\Python310\\lib\\site-packages\\sklearn\\cluster\\_kmeans.py:1416: FutureWarning: The default value of `n_init` will change from 10 to 'auto' in 1.4. Set the value of `n_init` explicitly to suppress the warning\n",
      "  super()._check_params_vs_input(X, default_n_init=10)\n",
      "c:\\Users\\annamiczke\\AppData\\Local\\Programs\\Python\\Python310\\lib\\site-packages\\sklearn\\cluster\\_birch.py:725: ConvergenceWarning: Number of subclusters found (1) by BIRCH is less than (10). Decrease the threshold.\n",
      "  warnings.warn(\n",
      "c:\\Users\\annamiczke\\AppData\\Local\\Programs\\Python\\Python310\\lib\\site-packages\\sklearn\\cluster\\_kmeans.py:1416: FutureWarning: The default value of `n_init` will change from 10 to 'auto' in 1.4. Set the value of `n_init` explicitly to suppress the warning\n",
      "  super()._check_params_vs_input(X, default_n_init=10)\n",
      "c:\\Users\\annamiczke\\AppData\\Local\\Programs\\Python\\Python310\\lib\\site-packages\\sklearn\\cluster\\_kmeans.py:1416: FutureWarning: The default value of `n_init` will change from 10 to 'auto' in 1.4. Set the value of `n_init` explicitly to suppress the warning\n",
      "  super()._check_params_vs_input(X, default_n_init=10)\n",
      "c:\\Users\\annamiczke\\AppData\\Local\\Programs\\Python\\Python310\\lib\\site-packages\\sklearn\\cluster\\_birch.py:725: ConvergenceWarning: Number of subclusters found (1) by BIRCH is less than (10). Decrease the threshold.\n",
      "  warnings.warn(\n",
      " 33%|███▎      | 1/3 [00:52<01:44, 52.42s/it]c:\\Users\\annamiczke\\AppData\\Local\\Programs\\Python\\Python310\\lib\\site-packages\\sklearn\\cluster\\_kmeans.py:1416: FutureWarning: The default value of `n_init` will change from 10 to 'auto' in 1.4. Set the value of `n_init` explicitly to suppress the warning\n",
      "  super()._check_params_vs_input(X, default_n_init=10)\n",
      "c:\\Users\\annamiczke\\AppData\\Local\\Programs\\Python\\Python310\\lib\\site-packages\\sklearn\\cluster\\_kmeans.py:1416: FutureWarning: The default value of `n_init` will change from 10 to 'auto' in 1.4. Set the value of `n_init` explicitly to suppress the warning\n",
      "  super()._check_params_vs_input(X, default_n_init=10)\n",
      "c:\\Users\\annamiczke\\AppData\\Local\\Programs\\Python\\Python310\\lib\\site-packages\\sklearn\\cluster\\_kmeans.py:1416: FutureWarning: The default value of `n_init` will change from 10 to 'auto' in 1.4. Set the value of `n_init` explicitly to suppress the warning\n",
      "  super()._check_params_vs_input(X, default_n_init=10)\n",
      "c:\\Users\\annamiczke\\AppData\\Local\\Programs\\Python\\Python310\\lib\\site-packages\\sklearn\\cluster\\_kmeans.py:1416: FutureWarning: The default value of `n_init` will change from 10 to 'auto' in 1.4. Set the value of `n_init` explicitly to suppress the warning\n",
      "  super()._check_params_vs_input(X, default_n_init=10)\n",
      "c:\\Users\\annamiczke\\AppData\\Local\\Programs\\Python\\Python310\\lib\\site-packages\\sklearn\\cluster\\_birch.py:725: ConvergenceWarning: Number of subclusters found (1) by BIRCH is less than (10). Decrease the threshold.\n",
      "  warnings.warn(\n",
      "c:\\Users\\annamiczke\\AppData\\Local\\Programs\\Python\\Python310\\lib\\site-packages\\sklearn\\cluster\\_kmeans.py:1416: FutureWarning: The default value of `n_init` will change from 10 to 'auto' in 1.4. Set the value of `n_init` explicitly to suppress the warning\n",
      "  super()._check_params_vs_input(X, default_n_init=10)\n",
      "c:\\Users\\annamiczke\\AppData\\Local\\Programs\\Python\\Python310\\lib\\site-packages\\sklearn\\cluster\\_kmeans.py:1416: FutureWarning: The default value of `n_init` will change from 10 to 'auto' in 1.4. Set the value of `n_init` explicitly to suppress the warning\n",
      "  super()._check_params_vs_input(X, default_n_init=10)\n",
      "c:\\Users\\annamiczke\\AppData\\Local\\Programs\\Python\\Python310\\lib\\site-packages\\sklearn\\cluster\\_birch.py:725: ConvergenceWarning: Number of subclusters found (1) by BIRCH is less than (10). Decrease the threshold.\n",
      "  warnings.warn(\n",
      " 67%|██████▋   | 2/3 [01:44<00:52, 52.46s/it]c:\\Users\\annamiczke\\AppData\\Local\\Programs\\Python\\Python310\\lib\\site-packages\\sklearn\\cluster\\_kmeans.py:1416: FutureWarning: The default value of `n_init` will change from 10 to 'auto' in 1.4. Set the value of `n_init` explicitly to suppress the warning\n",
      "  super()._check_params_vs_input(X, default_n_init=10)\n",
      "c:\\Users\\annamiczke\\AppData\\Local\\Programs\\Python\\Python310\\lib\\site-packages\\sklearn\\cluster\\_kmeans.py:1416: FutureWarning: The default value of `n_init` will change from 10 to 'auto' in 1.4. Set the value of `n_init` explicitly to suppress the warning\n",
      "  super()._check_params_vs_input(X, default_n_init=10)\n",
      "c:\\Users\\annamiczke\\AppData\\Local\\Programs\\Python\\Python310\\lib\\site-packages\\sklearn\\cluster\\_kmeans.py:1416: FutureWarning: The default value of `n_init` will change from 10 to 'auto' in 1.4. Set the value of `n_init` explicitly to suppress the warning\n",
      "  super()._check_params_vs_input(X, default_n_init=10)\n",
      "c:\\Users\\annamiczke\\AppData\\Local\\Programs\\Python\\Python310\\lib\\site-packages\\sklearn\\cluster\\_kmeans.py:1416: FutureWarning: The default value of `n_init` will change from 10 to 'auto' in 1.4. Set the value of `n_init` explicitly to suppress the warning\n",
      "  super()._check_params_vs_input(X, default_n_init=10)\n",
      "c:\\Users\\annamiczke\\AppData\\Local\\Programs\\Python\\Python310\\lib\\site-packages\\sklearn\\cluster\\_birch.py:725: ConvergenceWarning: Number of subclusters found (1) by BIRCH is less than (10). Decrease the threshold.\n",
      "  warnings.warn(\n",
      "c:\\Users\\annamiczke\\AppData\\Local\\Programs\\Python\\Python310\\lib\\site-packages\\sklearn\\cluster\\_kmeans.py:1416: FutureWarning: The default value of `n_init` will change from 10 to 'auto' in 1.4. Set the value of `n_init` explicitly to suppress the warning\n",
      "  super()._check_params_vs_input(X, default_n_init=10)\n",
      "c:\\Users\\annamiczke\\AppData\\Local\\Programs\\Python\\Python310\\lib\\site-packages\\sklearn\\cluster\\_kmeans.py:1416: FutureWarning: The default value of `n_init` will change from 10 to 'auto' in 1.4. Set the value of `n_init` explicitly to suppress the warning\n",
      "  super()._check_params_vs_input(X, default_n_init=10)\n",
      "c:\\Users\\annamiczke\\AppData\\Local\\Programs\\Python\\Python310\\lib\\site-packages\\sklearn\\cluster\\_birch.py:725: ConvergenceWarning: Number of subclusters found (1) by BIRCH is less than (10). Decrease the threshold.\n",
      "  warnings.warn(\n",
      "100%|██████████| 3/3 [02:40<00:00, 53.62s/it]\n"
     ]
    }
   ],
   "source": [
    "'''testing the clustering based reccomender on different combinations'''\n",
    "imputers = [SimpleImputer(strategy='mean'),\n",
    "            SimpleImputer(strategy='median'),\n",
    "            KNNImputer(n_neighbors=4, weights='uniform')]\n",
    "preprocessors = [[], [MinMaxScaler()],\n",
    "                 [StandardScaler()], [Normalizer()],\n",
    "                 [StandardScaler()],\n",
    "                 [MinMaxScaler(), Normalizer()]]\n",
    "clusterers = [KMeans(n_clusters=20), \n",
    "              DBSCAN(eps=0.5, min_samples=5),\n",
    "              AgglomerativeClustering(n_clusters=20),\n",
    "              SpectralClustering(n_clusters=20),\n",
    "              OPTICS(min_samples=5),\n",
    "              Birch(n_clusters=10)]\n",
    "errors = {}\n",
    "\n",
    "for i,imputer in enumerate(tqdm(imputers)):\n",
    "    for preprocessor in preprocessors:\n",
    "        for clusterer in clusterers:\n",
    "            data = Data('ml-latest-small', \n",
    "                        imputer=imputer,\n",
    "                        preprocessors=preprocessor)\n",
    "\n",
    "            recommender = ClusteringBasedRecommender(\n",
    "                data=data.train_data_table_for_clustering_normalized,\n",
    "                data_unnormalized=data.train_data_table_for_clustering,\n",
    "                movie_genres=data.movie_genres,\n",
    "                clusterer=clusterer\n",
    "                )\n",
    "            recommender.train()\n",
    "            errors[(imputer, tuple(preprocessor), clusterer)] = test_error(2, recommender,data,2, sample_size=100)\n"
   ]
  },
  {
   "cell_type": "code",
   "execution_count": 4,
   "metadata": {},
   "outputs": [
    {
     "name": "stdout",
     "output_type": "stream",
     "text": [
      "average error when predicting ratings:\n",
      "0.6525000000000001 (SimpleImputer(strategy='median'), (), AgglomerativeClustering(n_clusters=20))\n",
      "0.6575 (SimpleImputer(), (), Birch(n_clusters=10))\n",
      "0.6575 (SimpleImputer(), (StandardScaler(),), KMeans(n_clusters=20))\n",
      "0.6575 (KNNImputer(n_neighbors=4), (MinMaxScaler(),), AgglomerativeClustering(n_clusters=20))\n",
      "0.66 (SimpleImputer(strategy='median'), (StandardScaler(),), KMeans(n_clusters=20))\n",
      "0.665 (KNNImputer(n_neighbors=4), (), KMeans(n_clusters=20))\n",
      "0.6675 (SimpleImputer(), (), KMeans(n_clusters=20))\n",
      "0.6699999999999999 (SimpleImputer(strategy='median'), (MinMaxScaler(),), AgglomerativeClustering(n_clusters=20))\n",
      "0.67 (KNNImputer(n_neighbors=4), (), Birch(n_clusters=10))\n",
      "0.6725000000000001 (SimpleImputer(strategy='median'), (), KMeans(n_clusters=20))\n",
      "0.675 (SimpleImputer(strategy='median'), (), Birch(n_clusters=10))\n",
      "0.6775 (SimpleImputer(), (MinMaxScaler(),), KMeans(n_clusters=20))\n",
      "0.6775 (KNNImputer(n_neighbors=4), (), AgglomerativeClustering(n_clusters=20))\n",
      "0.6775 (KNNImputer(n_neighbors=4), (StandardScaler(),), Birch(n_clusters=10))\n",
      "0.6775 (KNNImputer(n_neighbors=4), (StandardScaler(),), Birch(n_clusters=10))\n",
      "0.6799999999999999 (SimpleImputer(strategy='median'), (MinMaxScaler(),), KMeans(n_clusters=20))\n",
      "0.6799999999999999 (KNNImputer(n_neighbors=4), (StandardScaler(),), KMeans(n_clusters=20))\n",
      "0.6825 (SimpleImputer(strategy='median'), (StandardScaler(),), AgglomerativeClustering(n_clusters=20))\n",
      "0.6825 (SimpleImputer(strategy='median'), (StandardScaler(),), AgglomerativeClustering(n_clusters=20))\n",
      "0.685 (SimpleImputer(), (MinMaxScaler(),), AgglomerativeClustering(n_clusters=20))\n",
      "0.685 (SimpleImputer(), (StandardScaler(),), AgglomerativeClustering(n_clusters=20))\n",
      "0.685 (SimpleImputer(), (StandardScaler(),), AgglomerativeClustering(n_clusters=20))\n",
      "0.685 (KNNImputer(n_neighbors=4), (MinMaxScaler(),), KMeans(n_clusters=20))\n",
      "0.685 (KNNImputer(n_neighbors=4), (StandardScaler(),), KMeans(n_clusters=20))\n",
      "0.6875 (SimpleImputer(strategy='median'), (StandardScaler(),), Birch(n_clusters=10))\n",
      "0.6875 (SimpleImputer(strategy='median'), (StandardScaler(),), Birch(n_clusters=10))\n",
      "0.69 (SimpleImputer(), (StandardScaler(),), KMeans(n_clusters=20))\n",
      "0.69 (KNNImputer(n_neighbors=4), (StandardScaler(),), AgglomerativeClustering(n_clusters=20))\n",
      "0.69 (KNNImputer(n_neighbors=4), (StandardScaler(),), AgglomerativeClustering(n_clusters=20))\n",
      "0.6925 (SimpleImputer(), (StandardScaler(),), Birch(n_clusters=10))\n",
      "0.6925 (SimpleImputer(), (StandardScaler(),), Birch(n_clusters=10))\n",
      "0.6950000000000001 (SimpleImputer(), (MinMaxScaler(),), SpectralClustering(n_clusters=20))\n",
      "0.6950000000000001 (SimpleImputer(strategy='median'), (StandardScaler(),), KMeans(n_clusters=20))\n",
      "0.6975 (SimpleImputer(), (), AgglomerativeClustering(n_clusters=20))\n",
      "0.7 (KNNImputer(n_neighbors=4), (MinMaxScaler(),), SpectralClustering(n_clusters=20))\n",
      "0.7050000000000001 (KNNImputer(n_neighbors=4), (Normalizer(),), KMeans(n_clusters=20))\n",
      "0.7075 (KNNImputer(n_neighbors=4), (MinMaxScaler(),), Birch(n_clusters=10))\n",
      "0.7124999999999999 (SimpleImputer(), (MinMaxScaler(), Normalizer()), AgglomerativeClustering(n_clusters=20))\n",
      "0.715 (SimpleImputer(strategy='median'), (MinMaxScaler(), Normalizer()), KMeans(n_clusters=20))\n",
      "0.7175 (SimpleImputer(), (MinMaxScaler(), Normalizer()), KMeans(n_clusters=20))\n",
      "0.7175 (SimpleImputer(), (MinMaxScaler(), Normalizer()), SpectralClustering(n_clusters=20))\n",
      "0.7175 (SimpleImputer(strategy='median'), (MinMaxScaler(),), SpectralClustering(n_clusters=20))\n",
      "0.7175 (SimpleImputer(strategy='median'), (Normalizer(),), KMeans(n_clusters=20))\n",
      "0.7224999999999999 (SimpleImputer(strategy='median'), (StandardScaler(),), SpectralClustering(n_clusters=20))\n",
      "0.725 (SimpleImputer(), (Normalizer(),), KMeans(n_clusters=20))\n",
      "0.725 (SimpleImputer(strategy='median'), (StandardScaler(),), SpectralClustering(n_clusters=20))\n",
      "0.7275 (SimpleImputer(), (Normalizer(),), SpectralClustering(n_clusters=20))\n",
      "0.74 (SimpleImputer(strategy='median'), (Normalizer(),), AgglomerativeClustering(n_clusters=20))\n",
      "0.7424999999999999 (SimpleImputer(), (MinMaxScaler(),), Birch(n_clusters=10))\n",
      "0.7424999999999999 (SimpleImputer(), (StandardScaler(),), SpectralClustering(n_clusters=20))\n",
      "0.7424999999999999 (SimpleImputer(strategy='median'), (MinMaxScaler(),), Birch(n_clusters=10))\n",
      "0.745 (SimpleImputer(), (StandardScaler(),), SpectralClustering(n_clusters=20))\n",
      "0.75 (SimpleImputer(), (Normalizer(),), AgglomerativeClustering(n_clusters=20))\n",
      "0.7525 (SimpleImputer(strategy='median'), (), SpectralClustering(n_clusters=20))\n",
      "0.7575000000000001 (KNNImputer(n_neighbors=4), (Normalizer(),), SpectralClustering(n_clusters=20))\n",
      "0.7625 (SimpleImputer(strategy='median'), (Normalizer(),), SpectralClustering(n_clusters=20))\n",
      "0.7625 (SimpleImputer(strategy='median'), (MinMaxScaler(), Normalizer()), AgglomerativeClustering(n_clusters=20))\n",
      "0.7675000000000001 (SimpleImputer(strategy='median'), (MinMaxScaler(), Normalizer()), OPTICS())\n",
      "0.7725 (SimpleImputer(strategy='median'), (), OPTICS())\n",
      "0.7725 (SimpleImputer(strategy='median'), (MinMaxScaler(),), OPTICS())\n",
      "0.7725 (SimpleImputer(strategy='median'), (MinMaxScaler(), Normalizer()), SpectralClustering(n_clusters=20))\n",
      "0.7725 (KNNImputer(n_neighbors=4), (), OPTICS())\n",
      "0.775 (SimpleImputer(strategy='median'), (MinMaxScaler(),), DBSCAN())\n",
      "0.7775 (SimpleImputer(), (), SpectralClustering(n_clusters=20))\n",
      "0.7775000000000001 (SimpleImputer(), (Normalizer(),), OPTICS())\n",
      "0.7775000000000001 (SimpleImputer(), (MinMaxScaler(), Normalizer()), OPTICS())\n",
      "0.7775000000000001 (SimpleImputer(strategy='median'), (Normalizer(),), OPTICS())\n",
      "0.7775000000000001 (KNNImputer(n_neighbors=4), (Normalizer(),), AgglomerativeClustering(n_clusters=20))\n",
      "0.78 (SimpleImputer(), (MinMaxScaler(),), DBSCAN())\n",
      "0.78 (SimpleImputer(), (StandardScaler(),), OPTICS())\n",
      "0.78 (SimpleImputer(), (StandardScaler(),), OPTICS())\n",
      "0.78 (KNNImputer(n_neighbors=4), (Normalizer(),), OPTICS())\n",
      "0.7825 (SimpleImputer(strategy='median'), (MinMaxScaler(), Normalizer()), DBSCAN())\n",
      "0.7825 (KNNImputer(n_neighbors=4), (MinMaxScaler(), Normalizer()), KMeans(n_clusters=20))\n",
      "0.7849999999999999 (KNNImputer(n_neighbors=4), (StandardScaler(),), SpectralClustering(n_clusters=20))\n",
      "0.7849999999999999 (KNNImputer(n_neighbors=4), (StandardScaler(),), SpectralClustering(n_clusters=20))\n",
      "0.785 (KNNImputer(n_neighbors=4), (MinMaxScaler(),), DBSCAN())\n",
      "0.785 (KNNImputer(n_neighbors=4), (MinMaxScaler(), Normalizer()), SpectralClustering(n_clusters=20))\n",
      "0.7875 (SimpleImputer(), (), DBSCAN())\n",
      "0.7875 (SimpleImputer(), (), OPTICS())\n",
      "0.7875 (SimpleImputer(), (MinMaxScaler(),), OPTICS())\n",
      "0.7875 (SimpleImputer(), (StandardScaler(),), DBSCAN())\n",
      "0.7875 (SimpleImputer(), (Normalizer(),), DBSCAN())\n",
      "0.7875 (SimpleImputer(), (Normalizer(),), Birch(n_clusters=10))\n",
      "0.7875 (SimpleImputer(), (StandardScaler(),), DBSCAN())\n",
      "0.7875 (SimpleImputer(), (MinMaxScaler(), Normalizer()), DBSCAN())\n",
      "0.7875 (SimpleImputer(), (MinMaxScaler(), Normalizer()), Birch(n_clusters=10))\n",
      "0.7875 (SimpleImputer(strategy='median'), (), DBSCAN())\n",
      "0.7875 (SimpleImputer(strategy='median'), (StandardScaler(),), DBSCAN())\n",
      "0.7875 (SimpleImputer(strategy='median'), (StandardScaler(),), OPTICS())\n",
      "0.7875 (SimpleImputer(strategy='median'), (Normalizer(),), DBSCAN())\n",
      "0.7875 (SimpleImputer(strategy='median'), (Normalizer(),), Birch(n_clusters=10))\n",
      "0.7875 (SimpleImputer(strategy='median'), (StandardScaler(),), DBSCAN())\n",
      "0.7875 (SimpleImputer(strategy='median'), (StandardScaler(),), OPTICS())\n",
      "0.7875 (SimpleImputer(strategy='median'), (MinMaxScaler(), Normalizer()), Birch(n_clusters=10))\n",
      "0.7875 (KNNImputer(n_neighbors=4), (), DBSCAN())\n",
      "0.7875 (KNNImputer(n_neighbors=4), (StandardScaler(),), DBSCAN())\n",
      "0.7875 (KNNImputer(n_neighbors=4), (StandardScaler(),), OPTICS())\n",
      "0.7875 (KNNImputer(n_neighbors=4), (Normalizer(),), DBSCAN())\n",
      "0.7875 (KNNImputer(n_neighbors=4), (Normalizer(),), Birch(n_clusters=10))\n",
      "0.7875 (KNNImputer(n_neighbors=4), (StandardScaler(),), DBSCAN())\n",
      "0.7875 (KNNImputer(n_neighbors=4), (StandardScaler(),), OPTICS())\n",
      "0.7875 (KNNImputer(n_neighbors=4), (MinMaxScaler(), Normalizer()), DBSCAN())\n",
      "0.7875 (KNNImputer(n_neighbors=4), (MinMaxScaler(), Normalizer()), Birch(n_clusters=10))\n",
      "0.79 (KNNImputer(n_neighbors=4), (), SpectralClustering(n_clusters=20))\n",
      "0.7925 (KNNImputer(n_neighbors=4), (MinMaxScaler(), Normalizer()), AgglomerativeClustering(n_clusters=20))\n",
      "0.7949999999999999 (KNNImputer(n_neighbors=4), (MinMaxScaler(),), OPTICS())\n",
      "0.7949999999999999 (KNNImputer(n_neighbors=4), (MinMaxScaler(), Normalizer()), OPTICS())\n"
     ]
    }
   ],
   "source": [
    "print(\"average error when predicting ratings:\")\n",
    "for key, value in sorted(errors.items(), key=lambda x: x[1]):\n",
    "    print(value, key)"
   ]
  },
  {
   "cell_type": "code",
   "execution_count": 5,
   "metadata": {},
   "outputs": [
    {
     "name": "stderr",
     "output_type": "stream",
     "text": [
      "100%|██████████| 20/20 [10:47<00:00, 32.40s/it]\n",
      "100%|██████████| 20/20 [10:11<00:00, 30.57s/it]\n",
      "100%|██████████| 20/20 [10:09<00:00, 30.47s/it]\n",
      "100%|██████████| 20/20 [07:40<00:00, 23.01s/it]t]\n",
      "100%|██████████| 20/20 [07:31<00:00, 22.59s/it]\n",
      "100%|██████████| 20/20 [08:16<00:00, 24.82s/it]\n",
      "100%|██████████| 20/20 [06:05<00:00, 18.25s/it]t]\n",
      "100%|██████████| 20/20 [06:04<00:00, 18.22s/it]\n",
      "100%|██████████| 20/20 [06:05<00:00, 18.28s/it]\n",
      "100%|██████████| 20/20 [04:39<00:00, 13.98s/it]t]\n",
      "100%|██████████| 20/20 [04:43<00:00, 14.19s/it]\n",
      "100%|██████████| 20/20 [04:43<00:00, 14.18s/it]\n",
      "100%|██████████| 20/20 [02:31<00:00,  7.58s/it]t]\n",
      "100%|██████████| 20/20 [02:48<00:00,  8.42s/it]\n",
      "100%|██████████| 20/20 [02:43<00:00,  8.18s/it]\n",
      "100%|██████████| 5/5 [1:35:23<00:00, 1144.63s/it]"
     ]
    },
    {
     "name": "stdout",
     "output_type": "stream",
     "text": [
      "average error when predicting ratings:\n",
      "0.6375 (SimpleImputer(strategy='median'), (), AgglomerativeClustering(n_clusters=20), 'support0.0007', 'confidence0.7')\n",
      "average error when predicting ratings:\n",
      "0.6375 (SimpleImputer(strategy='median'), (), AgglomerativeClustering(n_clusters=20), 'support0.0008', 'confidence0.7')\n",
      "average error when predicting ratings:\n",
      "0.6375 (SimpleImputer(strategy='median'), (), AgglomerativeClustering(n_clusters=20), 'support0.0009', 'confidence0.7')\n",
      "average error when predicting ratings:\n",
      "0.6375 (SimpleImputer(strategy='median'), (), AgglomerativeClustering(n_clusters=20), 'support0.001', 'confidence0.7')\n",
      "average error when predicting ratings:\n",
      "0.6375 (SimpleImputer(strategy='median'), (), AgglomerativeClustering(n_clusters=20), 'support0.002', 'confidence0.7')\n",
      "average error when predicting ratings:\n",
      "0.64 (SimpleImputer(strategy='median'), (), AgglomerativeClustering(n_clusters=20), 'support0.0007', 'confidence0.8')\n",
      "average error when predicting ratings:\n",
      "0.64 (SimpleImputer(strategy='median'), (), AgglomerativeClustering(n_clusters=20), 'support0.0007', 'confidence0.9')\n",
      "average error when predicting ratings:\n",
      "0.64 (SimpleImputer(strategy='median'), (), AgglomerativeClustering(n_clusters=20), 'support0.0008', 'confidence0.8')\n",
      "average error when predicting ratings:\n",
      "0.64 (SimpleImputer(strategy='median'), (), AgglomerativeClustering(n_clusters=20), 'support0.0008', 'confidence0.9')\n",
      "average error when predicting ratings:\n",
      "0.64 (SimpleImputer(strategy='median'), (), AgglomerativeClustering(n_clusters=20), 'support0.0009', 'confidence0.8')\n",
      "average error when predicting ratings:\n",
      "0.64 (SimpleImputer(strategy='median'), (), AgglomerativeClustering(n_clusters=20), 'support0.0009', 'confidence0.9')\n",
      "average error when predicting ratings:\n",
      "0.64 (SimpleImputer(strategy='median'), (), AgglomerativeClustering(n_clusters=20), 'support0.001', 'confidence0.8')\n",
      "average error when predicting ratings:\n",
      "0.64 (SimpleImputer(strategy='median'), (), AgglomerativeClustering(n_clusters=20), 'support0.001', 'confidence0.9')\n",
      "average error when predicting ratings:\n",
      "0.64 (SimpleImputer(strategy='median'), (), AgglomerativeClustering(n_clusters=20), 'support0.002', 'confidence0.8')\n",
      "average error when predicting ratings:\n",
      "0.64 (SimpleImputer(strategy='median'), (), AgglomerativeClustering(n_clusters=20), 'support0.002', 'confidence0.9')\n"
     ]
    },
    {
     "name": "stderr",
     "output_type": "stream",
     "text": [
      "\n"
     ]
    }
   ],
   "source": [
    "'''one of twhe best clustering options tried with assosciation rules apriori, tried with \n",
    "different confidences and supports to check which is th best '''\n",
    "imputer = SimpleImputer(strategy='median')\n",
    "preprocessor = []\n",
    "clusterer = AgglomerativeClustering(n_clusters=20)\n",
    "#clusterer =KMeans(n_clusters=20)\n",
    "data = Data('ml-latest-small', \n",
    "                        imputer= imputer,\n",
    "                        preprocessors=preprocessor)\n",
    "errors = {}\n",
    "supports = [0.0007,0.0008,0.0009,0.001,0.002]\n",
    "confidences = [0.7,0.8,0.9]\n",
    "for supp in tqdm(supports):\n",
    "    for  conf in confidences:\n",
    "        recommender = ClusteringAndAprioriBasedRecommender(\n",
    "        data=data.train_data_table_for_clustering_normalized,\n",
    "        data_unnormalized=data.train_data_table_for_clustering,\n",
    "        movie_genres=data.movie_genres,\n",
    "        clusterer=clusterer,min_support = supp,metric=\"confidence\",min_threshold=conf)\n",
    "        recommender.train()\n",
    "        errors[(imputer, tuple(preprocessor), clusterer,\"support{}\".format(supp),\"confidence{}\".format(conf))] = test_error(2, recommender,data,2, sample_size=100)\n",
    "       \n",
    "for key, value in sorted(errors.items(), key=lambda x: x[1]):\n",
    "    print(\"average error when predicting ratings:\")\n",
    "    print(value, key)"
   ]
  },
  {
   "cell_type": "code",
   "execution_count": 6,
   "metadata": {},
   "outputs": [
    {
     "name": "stderr",
     "output_type": "stream",
     "text": [
      "  0%|          | 0/5 [00:00<?, ?it/s]c:\\Users\\annamiczke\\AppData\\Local\\Programs\\Python\\Python310\\lib\\site-packages\\sklearn\\cluster\\_kmeans.py:1416: FutureWarning: The default value of `n_init` will change from 10 to 'auto' in 1.4. Set the value of `n_init` explicitly to suppress the warning\n",
      "  super()._check_params_vs_input(X, default_n_init=10)\n",
      "100%|██████████| 20/20 [11:06<00:00, 33.31s/it]\n"
     ]
    },
    {
     "name": "stdout",
     "output_type": "stream",
     "text": [
      "average error when predicting ratings:\n"
     ]
    },
    {
     "name": "stderr",
     "output_type": "stream",
     "text": [
      "c:\\Users\\annamiczke\\AppData\\Local\\Programs\\Python\\Python310\\lib\\site-packages\\sklearn\\cluster\\_kmeans.py:1416: FutureWarning: The default value of `n_init` will change from 10 to 'auto' in 1.4. Set the value of `n_init` explicitly to suppress the warning\n",
      "  super()._check_params_vs_input(X, default_n_init=10)\n",
      "100%|██████████| 20/20 [10:35<00:00, 31.76s/it]\n"
     ]
    },
    {
     "name": "stdout",
     "output_type": "stream",
     "text": [
      "average error when predicting ratings:\n"
     ]
    },
    {
     "name": "stderr",
     "output_type": "stream",
     "text": [
      "c:\\Users\\annamiczke\\AppData\\Local\\Programs\\Python\\Python310\\lib\\site-packages\\sklearn\\cluster\\_kmeans.py:1416: FutureWarning: The default value of `n_init` will change from 10 to 'auto' in 1.4. Set the value of `n_init` explicitly to suppress the warning\n",
      "  super()._check_params_vs_input(X, default_n_init=10)\n",
      "100%|██████████| 20/20 [10:30<00:00, 31.53s/it]\n",
      " 20%|██        | 1/5 [32:19<2:09:19, 1939.79s/it]"
     ]
    },
    {
     "name": "stdout",
     "output_type": "stream",
     "text": [
      "average error when predicting ratings:\n"
     ]
    },
    {
     "name": "stderr",
     "output_type": "stream",
     "text": [
      "c:\\Users\\annamiczke\\AppData\\Local\\Programs\\Python\\Python310\\lib\\site-packages\\sklearn\\cluster\\_kmeans.py:1416: FutureWarning: The default value of `n_init` will change from 10 to 'auto' in 1.4. Set the value of `n_init` explicitly to suppress the warning\n",
      "  super()._check_params_vs_input(X, default_n_init=10)\n",
      "100%|██████████| 20/20 [08:12<00:00, 24.62s/it]\n"
     ]
    },
    {
     "name": "stdout",
     "output_type": "stream",
     "text": [
      "average error when predicting ratings:\n"
     ]
    },
    {
     "name": "stderr",
     "output_type": "stream",
     "text": [
      "c:\\Users\\annamiczke\\AppData\\Local\\Programs\\Python\\Python310\\lib\\site-packages\\sklearn\\cluster\\_kmeans.py:1416: FutureWarning: The default value of `n_init` will change from 10 to 'auto' in 1.4. Set the value of `n_init` explicitly to suppress the warning\n",
      "  super()._check_params_vs_input(X, default_n_init=10)\n",
      "100%|██████████| 20/20 [07:40<00:00, 23.04s/it]\n"
     ]
    },
    {
     "name": "stdout",
     "output_type": "stream",
     "text": [
      "average error when predicting ratings:\n"
     ]
    },
    {
     "name": "stderr",
     "output_type": "stream",
     "text": [
      "c:\\Users\\annamiczke\\AppData\\Local\\Programs\\Python\\Python310\\lib\\site-packages\\sklearn\\cluster\\_kmeans.py:1416: FutureWarning: The default value of `n_init` will change from 10 to 'auto' in 1.4. Set the value of `n_init` explicitly to suppress the warning\n",
      "  super()._check_params_vs_input(X, default_n_init=10)\n",
      "100%|██████████| 20/20 [07:40<00:00, 23.00s/it]\n",
      " 40%|████      | 2/5 [55:59<1:21:42, 1634.01s/it]"
     ]
    },
    {
     "name": "stdout",
     "output_type": "stream",
     "text": [
      "average error when predicting ratings:\n"
     ]
    },
    {
     "name": "stderr",
     "output_type": "stream",
     "text": [
      "c:\\Users\\annamiczke\\AppData\\Local\\Programs\\Python\\Python310\\lib\\site-packages\\sklearn\\cluster\\_kmeans.py:1416: FutureWarning: The default value of `n_init` will change from 10 to 'auto' in 1.4. Set the value of `n_init` explicitly to suppress the warning\n",
      "  super()._check_params_vs_input(X, default_n_init=10)\n",
      "100%|██████████| 20/20 [05:31<00:00, 16.57s/it]\n"
     ]
    },
    {
     "name": "stdout",
     "output_type": "stream",
     "text": [
      "average error when predicting ratings:\n"
     ]
    },
    {
     "name": "stderr",
     "output_type": "stream",
     "text": [
      "c:\\Users\\annamiczke\\AppData\\Local\\Programs\\Python\\Python310\\lib\\site-packages\\sklearn\\cluster\\_kmeans.py:1416: FutureWarning: The default value of `n_init` will change from 10 to 'auto' in 1.4. Set the value of `n_init` explicitly to suppress the warning\n",
      "  super()._check_params_vs_input(X, default_n_init=10)\n",
      "100%|██████████| 20/20 [05:44<00:00, 17.23s/it]\n"
     ]
    },
    {
     "name": "stdout",
     "output_type": "stream",
     "text": [
      "average error when predicting ratings:\n"
     ]
    },
    {
     "name": "stderr",
     "output_type": "stream",
     "text": [
      "c:\\Users\\annamiczke\\AppData\\Local\\Programs\\Python\\Python310\\lib\\site-packages\\sklearn\\cluster\\_kmeans.py:1416: FutureWarning: The default value of `n_init` will change from 10 to 'auto' in 1.4. Set the value of `n_init` explicitly to suppress the warning\n",
      "  super()._check_params_vs_input(X, default_n_init=10)\n",
      "100%|██████████| 20/20 [05:24<00:00, 16.21s/it]\n",
      " 60%|██████    | 3/5 [1:12:47<44:55, 1347.88s/it]"
     ]
    },
    {
     "name": "stdout",
     "output_type": "stream",
     "text": [
      "average error when predicting ratings:\n"
     ]
    },
    {
     "name": "stderr",
     "output_type": "stream",
     "text": [
      "c:\\Users\\annamiczke\\AppData\\Local\\Programs\\Python\\Python310\\lib\\site-packages\\sklearn\\cluster\\_kmeans.py:1416: FutureWarning: The default value of `n_init` will change from 10 to 'auto' in 1.4. Set the value of `n_init` explicitly to suppress the warning\n",
      "  super()._check_params_vs_input(X, default_n_init=10)\n",
      "100%|██████████| 20/20 [04:31<00:00, 13.57s/it]\n"
     ]
    },
    {
     "name": "stdout",
     "output_type": "stream",
     "text": [
      "average error when predicting ratings:\n"
     ]
    },
    {
     "name": "stderr",
     "output_type": "stream",
     "text": [
      "c:\\Users\\annamiczke\\AppData\\Local\\Programs\\Python\\Python310\\lib\\site-packages\\sklearn\\cluster\\_kmeans.py:1416: FutureWarning: The default value of `n_init` will change from 10 to 'auto' in 1.4. Set the value of `n_init` explicitly to suppress the warning\n",
      "  super()._check_params_vs_input(X, default_n_init=10)\n",
      "100%|██████████| 20/20 [04:55<00:00, 14.79s/it]\n"
     ]
    },
    {
     "name": "stdout",
     "output_type": "stream",
     "text": [
      "average error when predicting ratings:\n"
     ]
    },
    {
     "name": "stderr",
     "output_type": "stream",
     "text": [
      "c:\\Users\\annamiczke\\AppData\\Local\\Programs\\Python\\Python310\\lib\\site-packages\\sklearn\\cluster\\_kmeans.py:1416: FutureWarning: The default value of `n_init` will change from 10 to 'auto' in 1.4. Set the value of `n_init` explicitly to suppress the warning\n",
      "  super()._check_params_vs_input(X, default_n_init=10)\n",
      "100%|██████████| 20/20 [04:59<00:00, 14.99s/it]\n",
      " 80%|████████  | 4/5 [1:27:20<19:20, 1160.57s/it]"
     ]
    },
    {
     "name": "stdout",
     "output_type": "stream",
     "text": [
      "average error when predicting ratings:\n"
     ]
    },
    {
     "name": "stderr",
     "output_type": "stream",
     "text": [
      "c:\\Users\\annamiczke\\AppData\\Local\\Programs\\Python\\Python310\\lib\\site-packages\\sklearn\\cluster\\_kmeans.py:1416: FutureWarning: The default value of `n_init` will change from 10 to 'auto' in 1.4. Set the value of `n_init` explicitly to suppress the warning\n",
      "  super()._check_params_vs_input(X, default_n_init=10)\n",
      "100%|██████████| 20/20 [01:40<00:00,  5.01s/it]\n"
     ]
    },
    {
     "name": "stdout",
     "output_type": "stream",
     "text": [
      "average error when predicting ratings:\n"
     ]
    },
    {
     "name": "stderr",
     "output_type": "stream",
     "text": [
      "c:\\Users\\annamiczke\\AppData\\Local\\Programs\\Python\\Python310\\lib\\site-packages\\sklearn\\cluster\\_kmeans.py:1416: FutureWarning: The default value of `n_init` will change from 10 to 'auto' in 1.4. Set the value of `n_init` explicitly to suppress the warning\n",
      "  super()._check_params_vs_input(X, default_n_init=10)\n",
      "100%|██████████| 20/20 [01:50<00:00,  5.54s/it]\n"
     ]
    },
    {
     "name": "stdout",
     "output_type": "stream",
     "text": [
      "average error when predicting ratings:\n"
     ]
    },
    {
     "name": "stderr",
     "output_type": "stream",
     "text": [
      "c:\\Users\\annamiczke\\AppData\\Local\\Programs\\Python\\Python310\\lib\\site-packages\\sklearn\\cluster\\_kmeans.py:1416: FutureWarning: The default value of `n_init` will change from 10 to 'auto' in 1.4. Set the value of `n_init` explicitly to suppress the warning\n",
      "  super()._check_params_vs_input(X, default_n_init=10)\n",
      "100%|██████████| 20/20 [01:49<00:00,  5.46s/it]\n",
      "100%|██████████| 5/5 [1:32:47<00:00, 1113.42s/it]"
     ]
    },
    {
     "name": "stdout",
     "output_type": "stream",
     "text": [
      "average error when predicting ratings:\n",
      "0.6325000000000001 (SimpleImputer(), (), KMeans(n_clusters=20), 'support0.001', 'confidence0.9')\n",
      "0.6375 (SimpleImputer(), (), KMeans(n_clusters=20), 'support0.001', 'confidence0.7')\n",
      "0.6375 (SimpleImputer(), (), KMeans(n_clusters=20), 'support0.001', 'confidence0.8')\n",
      "0.645 (SimpleImputer(), (), KMeans(n_clusters=20), 'support0.0007', 'confidence0.7')\n",
      "0.645 (SimpleImputer(), (), KMeans(n_clusters=20), 'support0.0007', 'confidence0.8')\n",
      "0.6475 (SimpleImputer(), (), KMeans(n_clusters=20), 'support0.0008', 'confidence0.7')\n",
      "0.6475 (SimpleImputer(), (), KMeans(n_clusters=20), 'support0.0009', 'confidence0.9')\n",
      "0.6525000000000001 (SimpleImputer(), (), KMeans(n_clusters=20), 'support0.0009', 'confidence0.7')\n",
      "0.6525000000000001 (SimpleImputer(), (), KMeans(n_clusters=20), 'support0.002', 'confidence0.7')\n",
      "0.655 (SimpleImputer(), (), KMeans(n_clusters=20), 'support0.0008', 'confidence0.8')\n",
      "0.655 (SimpleImputer(), (), KMeans(n_clusters=20), 'support0.0009', 'confidence0.8')\n",
      "0.6575 (SimpleImputer(), (), KMeans(n_clusters=20), 'support0.002', 'confidence0.8')\n",
      "0.6625 (SimpleImputer(), (), KMeans(n_clusters=20), 'support0.0007', 'confidence0.9')\n",
      "0.6675 (SimpleImputer(), (), KMeans(n_clusters=20), 'support0.002', 'confidence0.9')\n",
      "0.6725 (SimpleImputer(), (), KMeans(n_clusters=20), 'support0.0008', 'confidence0.9')\n"
     ]
    },
    {
     "name": "stderr",
     "output_type": "stream",
     "text": [
      "\n"
     ]
    }
   ],
   "source": [
    "'''another of the best clustering combinations tried with assosciation rules apriori, \n",
    "tried with different confidences and supports to see which is the best '''\n",
    "imputer = SimpleImputer()\n",
    "preprocessor = []\n",
    "clusterer = KMeans(n_clusters=20)\n",
    "data = Data('ml-latest-small', \n",
    "                        imputer= imputer,\n",
    "                        preprocessors=preprocessor)\n",
    "errors = {}\n",
    "supports = [0.0007,0.0008,0.0009,0.001,0.002]\n",
    "confidences = [0.7,0.8,0.9]\n",
    "for supp in tqdm(supports):\n",
    "    for  conf in confidences:\n",
    "        recommender = ClusteringAndAprioriBasedRecommender(\n",
    "        data=data.train_data_table_for_clustering_normalized,\n",
    "        data_unnormalized=data.train_data_table_for_clustering,\n",
    "        movie_genres=data.movie_genres,\n",
    "        clusterer=clusterer,min_support = supp,metric=\"confidence\",min_threshold=conf)\n",
    "        recommender.train()\n",
    "        errors[(imputer, tuple(preprocessor), clusterer,\"support{}\".format(supp),\"confidence{}\".format(conf))] = test_error(2, recommender,data,2, sample_size=100)\n",
    "        \n",
    "for key, value in sorted(errors.items(), key=lambda x: x[1]):\n",
    "    print(\"average error when predicting ratings:\")\n",
    "    print(value, key)"
   ]
  },
  {
   "cell_type": "code",
   "execution_count": 3,
   "metadata": {},
   "outputs": [
    {
     "name": "stderr",
     "output_type": "stream",
     "text": [
      "c:\\Users\\annamiczke\\AppData\\Local\\Programs\\Python\\Python310\\lib\\site-packages\\sklearn\\cluster\\_kmeans.py:1416: FutureWarning: The default value of `n_init` will change from 10 to 'auto' in 1.4. Set the value of `n_init` explicitly to suppress the warning\n",
      "  super()._check_params_vs_input(X, default_n_init=10)\n",
      "c:\\Users\\annamiczke\\AppData\\Local\\Programs\\Python\\Python310\\lib\\site-packages\\sklearn\\cluster\\_kmeans.py:1416: FutureWarning: The default value of `n_init` will change from 10 to 'auto' in 1.4. Set the value of `n_init` explicitly to suppress the warning\n",
      "  super()._check_params_vs_input(X, default_n_init=10)\n",
      "c:\\Users\\annamiczke\\AppData\\Local\\Programs\\Python\\Python310\\lib\\site-packages\\sklearn\\cluster\\_kmeans.py:1416: FutureWarning: The default value of `n_init` will change from 10 to 'auto' in 1.4. Set the value of `n_init` explicitly to suppress the warning\n",
      "  super()._check_params_vs_input(X, default_n_init=10)\n",
      "c:\\Users\\annamiczke\\AppData\\Local\\Programs\\Python\\Python310\\lib\\site-packages\\sklearn\\cluster\\_kmeans.py:1416: FutureWarning: The default value of `n_init` will change from 10 to 'auto' in 1.4. Set the value of `n_init` explicitly to suppress the warning\n",
      "  super()._check_params_vs_input(X, default_n_init=10)\n",
      "c:\\Users\\annamiczke\\AppData\\Local\\Programs\\Python\\Python310\\lib\\site-packages\\sklearn\\cluster\\_kmeans.py:1416: FutureWarning: The default value of `n_init` will change from 10 to 'auto' in 1.4. Set the value of `n_init` explicitly to suppress the warning\n",
      "  super()._check_params_vs_input(X, default_n_init=10)\n",
      "c:\\Users\\annamiczke\\AppData\\Local\\Programs\\Python\\Python310\\lib\\site-packages\\sklearn\\cluster\\_kmeans.py:1416: FutureWarning: The default value of `n_init` will change from 10 to 'auto' in 1.4. Set the value of `n_init` explicitly to suppress the warning\n",
      "  super()._check_params_vs_input(X, default_n_init=10)\n",
      "c:\\Users\\annamiczke\\AppData\\Local\\Programs\\Python\\Python310\\lib\\site-packages\\sklearn\\cluster\\_kmeans.py:1416: FutureWarning: The default value of `n_init` will change from 10 to 'auto' in 1.4. Set the value of `n_init` explicitly to suppress the warning\n",
      "  super()._check_params_vs_input(X, default_n_init=10)\n",
      "c:\\Users\\annamiczke\\AppData\\Local\\Programs\\Python\\Python310\\lib\\site-packages\\sklearn\\cluster\\_kmeans.py:1416: FutureWarning: The default value of `n_init` will change from 10 to 'auto' in 1.4. Set the value of `n_init` explicitly to suppress the warning\n",
      "  super()._check_params_vs_input(X, default_n_init=10)\n",
      "c:\\Users\\annamiczke\\AppData\\Local\\Programs\\Python\\Python310\\lib\\site-packages\\sklearn\\cluster\\_kmeans.py:1416: FutureWarning: The default value of `n_init` will change from 10 to 'auto' in 1.4. Set the value of `n_init` explicitly to suppress the warning\n",
      "  super()._check_params_vs_input(X, default_n_init=10)\n",
      "c:\\Users\\annamiczke\\AppData\\Local\\Programs\\Python\\Python310\\lib\\site-packages\\sklearn\\cluster\\_kmeans.py:1416: FutureWarning: The default value of `n_init` will change from 10 to 'auto' in 1.4. Set the value of `n_init` explicitly to suppress the warning\n",
      "  super()._check_params_vs_input(X, default_n_init=10)\n",
      "c:\\Users\\annamiczke\\AppData\\Local\\Programs\\Python\\Python310\\lib\\site-packages\\sklearn\\cluster\\_kmeans.py:1416: FutureWarning: The default value of `n_init` will change from 10 to 'auto' in 1.4. Set the value of `n_init` explicitly to suppress the warning\n",
      "  super()._check_params_vs_input(X, default_n_init=10)\n",
      "c:\\Users\\annamiczke\\AppData\\Local\\Programs\\Python\\Python310\\lib\\site-packages\\sklearn\\cluster\\_kmeans.py:1416: FutureWarning: The default value of `n_init` will change from 10 to 'auto' in 1.4. Set the value of `n_init` explicitly to suppress the warning\n",
      "  super()._check_params_vs_input(X, default_n_init=10)\n",
      "c:\\Users\\annamiczke\\AppData\\Local\\Programs\\Python\\Python310\\lib\\site-packages\\sklearn\\cluster\\_kmeans.py:1416: FutureWarning: The default value of `n_init` will change from 10 to 'auto' in 1.4. Set the value of `n_init` explicitly to suppress the warning\n",
      "  super()._check_params_vs_input(X, default_n_init=10)\n",
      "c:\\Users\\annamiczke\\AppData\\Local\\Programs\\Python\\Python310\\lib\\site-packages\\sklearn\\cluster\\_kmeans.py:1416: FutureWarning: The default value of `n_init` will change from 10 to 'auto' in 1.4. Set the value of `n_init` explicitly to suppress the warning\n",
      "  super()._check_params_vs_input(X, default_n_init=10)\n",
      "c:\\Users\\annamiczke\\AppData\\Local\\Programs\\Python\\Python310\\lib\\site-packages\\sklearn\\cluster\\_kmeans.py:1416: FutureWarning: The default value of `n_init` will change from 10 to 'auto' in 1.4. Set the value of `n_init` explicitly to suppress the warning\n",
      "  super()._check_params_vs_input(X, default_n_init=10)\n",
      "c:\\Users\\annamiczke\\AppData\\Local\\Programs\\Python\\Python310\\lib\\site-packages\\sklearn\\cluster\\_kmeans.py:1416: FutureWarning: The default value of `n_init` will change from 10 to 'auto' in 1.4. Set the value of `n_init` explicitly to suppress the warning\n",
      "  super()._check_params_vs_input(X, default_n_init=10)\n",
      "c:\\Users\\annamiczke\\AppData\\Local\\Programs\\Python\\Python310\\lib\\site-packages\\sklearn\\cluster\\_kmeans.py:1416: FutureWarning: The default value of `n_init` will change from 10 to 'auto' in 1.4. Set the value of `n_init` explicitly to suppress the warning\n",
      "  super()._check_params_vs_input(X, default_n_init=10)\n",
      "c:\\Users\\annamiczke\\AppData\\Local\\Programs\\Python\\Python310\\lib\\site-packages\\sklearn\\cluster\\_kmeans.py:1416: FutureWarning: The default value of `n_init` will change from 10 to 'auto' in 1.4. Set the value of `n_init` explicitly to suppress the warning\n",
      "  super()._check_params_vs_input(X, default_n_init=10)\n",
      "c:\\Users\\annamiczke\\AppData\\Local\\Programs\\Python\\Python310\\lib\\site-packages\\sklearn\\cluster\\_kmeans.py:1416: FutureWarning: The default value of `n_init` will change from 10 to 'auto' in 1.4. Set the value of `n_init` explicitly to suppress the warning\n",
      "  super()._check_params_vs_input(X, default_n_init=10)\n",
      "c:\\Users\\annamiczke\\AppData\\Local\\Programs\\Python\\Python310\\lib\\site-packages\\sklearn\\cluster\\_kmeans.py:1416: FutureWarning: The default value of `n_init` will change from 10 to 'auto' in 1.4. Set the value of `n_init` explicitly to suppress the warning\n",
      "  super()._check_params_vs_input(X, default_n_init=10)\n",
      "c:\\Users\\annamiczke\\AppData\\Local\\Programs\\Python\\Python310\\lib\\site-packages\\sklearn\\cluster\\_kmeans.py:1416: FutureWarning: The default value of `n_init` will change from 10 to 'auto' in 1.4. Set the value of `n_init` explicitly to suppress the warning\n",
      "  super()._check_params_vs_input(X, default_n_init=10)\n",
      "c:\\Users\\annamiczke\\AppData\\Local\\Programs\\Python\\Python310\\lib\\site-packages\\sklearn\\cluster\\_kmeans.py:1416: FutureWarning: The default value of `n_init` will change from 10 to 'auto' in 1.4. Set the value of `n_init` explicitly to suppress the warning\n",
      "  super()._check_params_vs_input(X, default_n_init=10)\n",
      "c:\\Users\\annamiczke\\AppData\\Local\\Programs\\Python\\Python310\\lib\\site-packages\\sklearn\\cluster\\_kmeans.py:1416: FutureWarning: The default value of `n_init` will change from 10 to 'auto' in 1.4. Set the value of `n_init` explicitly to suppress the warning\n",
      "  super()._check_params_vs_input(X, default_n_init=10)\n",
      "c:\\Users\\annamiczke\\AppData\\Local\\Programs\\Python\\Python310\\lib\\site-packages\\sklearn\\cluster\\_kmeans.py:1416: FutureWarning: The default value of `n_init` will change from 10 to 'auto' in 1.4. Set the value of `n_init` explicitly to suppress the warning\n",
      "  super()._check_params_vs_input(X, default_n_init=10)\n",
      "c:\\Users\\annamiczke\\AppData\\Local\\Programs\\Python\\Python310\\lib\\site-packages\\sklearn\\cluster\\_kmeans.py:1416: FutureWarning: The default value of `n_init` will change from 10 to 'auto' in 1.4. Set the value of `n_init` explicitly to suppress the warning\n",
      "  super()._check_params_vs_input(X, default_n_init=10)\n",
      "c:\\Users\\annamiczke\\AppData\\Local\\Programs\\Python\\Python310\\lib\\site-packages\\sklearn\\cluster\\_kmeans.py:1416: FutureWarning: The default value of `n_init` will change from 10 to 'auto' in 1.4. Set the value of `n_init` explicitly to suppress the warning\n",
      "  super()._check_params_vs_input(X, default_n_init=10)\n",
      "c:\\Users\\annamiczke\\AppData\\Local\\Programs\\Python\\Python310\\lib\\site-packages\\sklearn\\cluster\\_kmeans.py:1416: FutureWarning: The default value of `n_init` will change from 10 to 'auto' in 1.4. Set the value of `n_init` explicitly to suppress the warning\n",
      "  super()._check_params_vs_input(X, default_n_init=10)\n",
      "c:\\Users\\annamiczke\\AppData\\Local\\Programs\\Python\\Python310\\lib\\site-packages\\sklearn\\cluster\\_kmeans.py:1416: FutureWarning: The default value of `n_init` will change from 10 to 'auto' in 1.4. Set the value of `n_init` explicitly to suppress the warning\n",
      "  super()._check_params_vs_input(X, default_n_init=10)\n",
      "c:\\Users\\annamiczke\\AppData\\Local\\Programs\\Python\\Python310\\lib\\site-packages\\sklearn\\cluster\\_kmeans.py:1416: FutureWarning: The default value of `n_init` will change from 10 to 'auto' in 1.4. Set the value of `n_init` explicitly to suppress the warning\n",
      "  super()._check_params_vs_input(X, default_n_init=10)\n",
      "c:\\Users\\annamiczke\\AppData\\Local\\Programs\\Python\\Python310\\lib\\site-packages\\sklearn\\cluster\\_kmeans.py:1416: FutureWarning: The default value of `n_init` will change from 10 to 'auto' in 1.4. Set the value of `n_init` explicitly to suppress the warning\n",
      "  super()._check_params_vs_input(X, default_n_init=10)\n",
      "c:\\Users\\annamiczke\\AppData\\Local\\Programs\\Python\\Python310\\lib\\site-packages\\sklearn\\cluster\\_kmeans.py:1416: FutureWarning: The default value of `n_init` will change from 10 to 'auto' in 1.4. Set the value of `n_init` explicitly to suppress the warning\n",
      "  super()._check_params_vs_input(X, default_n_init=10)\n",
      "c:\\Users\\annamiczke\\AppData\\Local\\Programs\\Python\\Python310\\lib\\site-packages\\sklearn\\cluster\\_kmeans.py:1416: FutureWarning: The default value of `n_init` will change from 10 to 'auto' in 1.4. Set the value of `n_init` explicitly to suppress the warning\n",
      "  super()._check_params_vs_input(X, default_n_init=10)\n",
      "c:\\Users\\annamiczke\\AppData\\Local\\Programs\\Python\\Python310\\lib\\site-packages\\sklearn\\cluster\\_kmeans.py:1416: FutureWarning: The default value of `n_init` will change from 10 to 'auto' in 1.4. Set the value of `n_init` explicitly to suppress the warning\n",
      "  super()._check_params_vs_input(X, default_n_init=10)\n",
      "c:\\Users\\annamiczke\\AppData\\Local\\Programs\\Python\\Python310\\lib\\site-packages\\sklearn\\cluster\\_kmeans.py:1416: FutureWarning: The default value of `n_init` will change from 10 to 'auto' in 1.4. Set the value of `n_init` explicitly to suppress the warning\n",
      "  super()._check_params_vs_input(X, default_n_init=10)\n",
      "c:\\Users\\annamiczke\\AppData\\Local\\Programs\\Python\\Python310\\lib\\site-packages\\sklearn\\cluster\\_kmeans.py:1416: FutureWarning: The default value of `n_init` will change from 10 to 'auto' in 1.4. Set the value of `n_init` explicitly to suppress the warning\n",
      "  super()._check_params_vs_input(X, default_n_init=10)\n",
      "c:\\Users\\annamiczke\\AppData\\Local\\Programs\\Python\\Python310\\lib\\site-packages\\sklearn\\cluster\\_kmeans.py:1416: FutureWarning: The default value of `n_init` will change from 10 to 'auto' in 1.4. Set the value of `n_init` explicitly to suppress the warning\n",
      "  super()._check_params_vs_input(X, default_n_init=10)\n",
      "c:\\Users\\annamiczke\\AppData\\Local\\Programs\\Python\\Python310\\lib\\site-packages\\sklearn\\cluster\\_kmeans.py:1416: FutureWarning: The default value of `n_init` will change from 10 to 'auto' in 1.4. Set the value of `n_init` explicitly to suppress the warning\n",
      "  super()._check_params_vs_input(X, default_n_init=10)\n",
      "c:\\Users\\annamiczke\\AppData\\Local\\Programs\\Python\\Python310\\lib\\site-packages\\sklearn\\cluster\\_kmeans.py:1416: FutureWarning: The default value of `n_init` will change from 10 to 'auto' in 1.4. Set the value of `n_init` explicitly to suppress the warning\n",
      "  super()._check_params_vs_input(X, default_n_init=10)\n",
      "c:\\Users\\annamiczke\\AppData\\Local\\Programs\\Python\\Python310\\lib\\site-packages\\sklearn\\cluster\\_kmeans.py:1416: FutureWarning: The default value of `n_init` will change from 10 to 'auto' in 1.4. Set the value of `n_init` explicitly to suppress the warning\n",
      "  super()._check_params_vs_input(X, default_n_init=10)\n",
      "c:\\Users\\annamiczke\\AppData\\Local\\Programs\\Python\\Python310\\lib\\site-packages\\sklearn\\cluster\\_kmeans.py:1416: FutureWarning: The default value of `n_init` will change from 10 to 'auto' in 1.4. Set the value of `n_init` explicitly to suppress the warning\n",
      "  super()._check_params_vs_input(X, default_n_init=10)\n",
      "c:\\Users\\annamiczke\\AppData\\Local\\Programs\\Python\\Python310\\lib\\site-packages\\sklearn\\cluster\\_kmeans.py:1416: FutureWarning: The default value of `n_init` will change from 10 to 'auto' in 1.4. Set the value of `n_init` explicitly to suppress the warning\n",
      "  super()._check_params_vs_input(X, default_n_init=10)\n",
      "c:\\Users\\annamiczke\\AppData\\Local\\Programs\\Python\\Python310\\lib\\site-packages\\sklearn\\cluster\\_kmeans.py:1416: FutureWarning: The default value of `n_init` will change from 10 to 'auto' in 1.4. Set the value of `n_init` explicitly to suppress the warning\n",
      "  super()._check_params_vs_input(X, default_n_init=10)\n",
      "c:\\Users\\annamiczke\\AppData\\Local\\Programs\\Python\\Python310\\lib\\site-packages\\sklearn\\cluster\\_kmeans.py:1416: FutureWarning: The default value of `n_init` will change from 10 to 'auto' in 1.4. Set the value of `n_init` explicitly to suppress the warning\n",
      "  super()._check_params_vs_input(X, default_n_init=10)\n",
      "c:\\Users\\annamiczke\\AppData\\Local\\Programs\\Python\\Python310\\lib\\site-packages\\sklearn\\cluster\\_kmeans.py:1416: FutureWarning: The default value of `n_init` will change from 10 to 'auto' in 1.4. Set the value of `n_init` explicitly to suppress the warning\n",
      "  super()._check_params_vs_input(X, default_n_init=10)\n",
      "c:\\Users\\annamiczke\\AppData\\Local\\Programs\\Python\\Python310\\lib\\site-packages\\sklearn\\cluster\\_kmeans.py:1416: FutureWarning: The default value of `n_init` will change from 10 to 'auto' in 1.4. Set the value of `n_init` explicitly to suppress the warning\n",
      "  super()._check_params_vs_input(X, default_n_init=10)\n",
      "c:\\Users\\annamiczke\\AppData\\Local\\Programs\\Python\\Python310\\lib\\site-packages\\sklearn\\cluster\\_kmeans.py:1416: FutureWarning: The default value of `n_init` will change from 10 to 'auto' in 1.4. Set the value of `n_init` explicitly to suppress the warning\n",
      "  super()._check_params_vs_input(X, default_n_init=10)\n",
      "c:\\Users\\annamiczke\\AppData\\Local\\Programs\\Python\\Python310\\lib\\site-packages\\sklearn\\cluster\\_kmeans.py:1416: FutureWarning: The default value of `n_init` will change from 10 to 'auto' in 1.4. Set the value of `n_init` explicitly to suppress the warning\n",
      "  super()._check_params_vs_input(X, default_n_init=10)\n",
      "c:\\Users\\annamiczke\\AppData\\Local\\Programs\\Python\\Python310\\lib\\site-packages\\sklearn\\cluster\\_kmeans.py:1416: FutureWarning: The default value of `n_init` will change from 10 to 'auto' in 1.4. Set the value of `n_init` explicitly to suppress the warning\n",
      "  super()._check_params_vs_input(X, default_n_init=10)\n",
      "c:\\Users\\annamiczke\\AppData\\Local\\Programs\\Python\\Python310\\lib\\site-packages\\sklearn\\cluster\\_kmeans.py:1416: FutureWarning: The default value of `n_init` will change from 10 to 'auto' in 1.4. Set the value of `n_init` explicitly to suppress the warning\n",
      "  super()._check_params_vs_input(X, default_n_init=10)\n"
     ]
    },
    {
     "name": "stdout",
     "output_type": "stream",
     "text": [
      "0.6325000000000001 (SimpleImputer(), (), KMeans(n_clusters=28))\n",
      "0.635 (SimpleImputer(), (), KMeans(n_clusters=34))\n",
      "0.635 (SimpleImputer(), (), KMeans(n_clusters=60))\n",
      "0.6375 (SimpleImputer(), (), KMeans(n_clusters=32))\n",
      "0.6375 (SimpleImputer(), (), KMeans(n_clusters=56))\n",
      "0.64 (SimpleImputer(), (), KMeans(n_clusters=36))\n",
      "0.645 (SimpleImputer(), (), KMeans(n_clusters=18))\n",
      "0.645 (SimpleImputer(), (), KMeans(n_clusters=24))\n",
      "0.645 (SimpleImputer(), (), KMeans(n_clusters=30))\n",
      "0.645 (SimpleImputer(), (), KMeans(n_clusters=62))\n",
      "0.6475 (SimpleImputer(), (), KMeans(n_clusters=20))\n",
      "0.6475 (SimpleImputer(), (), KMeans(n_clusters=22))\n",
      "0.6475 (SimpleImputer(), (), KMeans(n_clusters=44))\n",
      "0.6475 (SimpleImputer(), (), KMeans(n_clusters=48))\n",
      "0.6475 (SimpleImputer(), (), KMeans(n_clusters=58))\n",
      "0.65 (SimpleImputer(), (), KMeans(n_clusters=86))\n",
      "0.6525 (SimpleImputer(), (), KMeans(n_clusters=50))\n",
      "0.6525000000000001 (SimpleImputer(), (), KMeans(n_clusters=92))\n",
      "0.655 (SimpleImputer(), (), KMeans(n_clusters=40))\n",
      "0.655 (SimpleImputer(), (), KMeans(n_clusters=54))\n",
      "0.655 (SimpleImputer(), (), KMeans(n_clusters=66))\n",
      "0.655 (SimpleImputer(), (), KMeans(n_clusters=84))\n",
      "0.655 (SimpleImputer(), (), KMeans(n_clusters=94))\n",
      "0.655 (SimpleImputer(), (), KMeans(n_clusters=96))\n",
      "0.6575 (SimpleImputer(), (), KMeans(n_clusters=38))\n",
      "0.6575 (SimpleImputer(), (), KMeans(n_clusters=46))\n",
      "0.6575 (SimpleImputer(), (), KMeans(n_clusters=70))\n",
      "0.6575 (SimpleImputer(), (), KMeans(n_clusters=80))\n",
      "0.6575 (SimpleImputer(), (), KMeans(n_clusters=98))\n",
      "0.6599999999999999 (SimpleImputer(), (), KMeans(n_clusters=52))\n",
      "0.6599999999999999 (SimpleImputer(), (), KMeans(n_clusters=64))\n",
      "0.6599999999999999 (SimpleImputer(), (), KMeans(n_clusters=78))\n",
      "0.66 (SimpleImputer(), (), KMeans(n_clusters=26))\n",
      "0.66 (SimpleImputer(), (), KMeans(n_clusters=42))\n",
      "0.66 (SimpleImputer(), (), KMeans(n_clusters=82))\n",
      "0.6625 (SimpleImputer(), (), KMeans(n_clusters=90))\n",
      "0.6625000000000001 (SimpleImputer(), (), KMeans(n_clusters=16))\n",
      "0.6625000000000001 (SimpleImputer(), (), KMeans(n_clusters=88))\n",
      "0.665 (SimpleImputer(), (), KMeans())\n",
      "0.665 (SimpleImputer(), (), KMeans(n_clusters=68))\n",
      "0.6675 (SimpleImputer(), (), KMeans(n_clusters=76))\n",
      "0.6699999999999999 (SimpleImputer(), (), KMeans(n_clusters=74))\n",
      "0.6725 (SimpleImputer(), (), KMeans(n_clusters=6))\n",
      "0.6725000000000001 (SimpleImputer(), (), KMeans(n_clusters=14))\n",
      "0.675 (SimpleImputer(), (), KMeans(n_clusters=10))\n",
      "0.6775 (SimpleImputer(), (), KMeans(n_clusters=72))\n",
      "0.6825 (SimpleImputer(), (), KMeans(n_clusters=2))\n",
      "0.6825 (SimpleImputer(), (), KMeans(n_clusters=12))\n",
      "0.7 (SimpleImputer(), (), KMeans(n_clusters=4))\n"
     ]
    }
   ],
   "source": [
    "'''determining the optimal number of clusters when we decided to use Kmeans() with no prcprocessor and SipleImputer after the tests \n",
    "in the previous two cells'''\n",
    "imputer = SimpleImputer()\n",
    "preprocessor = []\n",
    "data = Data('ml-latest-small', \n",
    "                        imputer=imputer,\n",
    "                        preprocessors=preprocessor)\n",
    "errors = {}\n",
    "for i in range(2,100,2):\n",
    "            clusterer = KMeans(n_clusters=i)\n",
    "            recommender = ClusteringBasedRecommender(\n",
    "                data=data.train_data_table_for_clustering_normalized,\n",
    "                data_unnormalized=data.train_data_table_for_clustering,\n",
    "                movie_genres=data.movie_genres,\n",
    "                clusterer=clusterer\n",
    "                )\n",
    "            recommender.train()\n",
    "            errors[(imputer, tuple(preprocessor), clusterer)] = test_error(2, recommender,data,2, sample_size=100)\n",
    "for key, value in sorted(errors.items(), key=lambda x: x[1]):\n",
    "    print(value, key)"
   ]
  },
  {
   "cell_type": "code",
   "execution_count": 4,
   "metadata": {},
   "outputs": [
    {
     "name": "stderr",
     "output_type": "stream",
     "text": [
      "  0%|          | 0/5 [00:00<?, ?it/s]c:\\Users\\annamiczke\\AppData\\Local\\Programs\\Python\\Python310\\lib\\site-packages\\sklearn\\cluster\\_kmeans.py:1416: FutureWarning: The default value of `n_init` will change from 10 to 'auto' in 1.4. Set the value of `n_init` explicitly to suppress the warning\n",
      "  super()._check_params_vs_input(X, default_n_init=10)\n",
      "100%|██████████| 28/28 [08:19<00:00, 17.86s/it]\n",
      "c:\\Users\\annamiczke\\AppData\\Local\\Programs\\Python\\Python310\\lib\\site-packages\\sklearn\\cluster\\_kmeans.py:1416: FutureWarning: The default value of `n_init` will change from 10 to 'auto' in 1.4. Set the value of `n_init` explicitly to suppress the warning\n",
      "  super()._check_params_vs_input(X, default_n_init=10)\n",
      "100%|██████████| 28/28 [08:49<00:00, 18.92s/it]\n",
      "c:\\Users\\annamiczke\\AppData\\Local\\Programs\\Python\\Python310\\lib\\site-packages\\sklearn\\cluster\\_kmeans.py:1416: FutureWarning: The default value of `n_init` will change from 10 to 'auto' in 1.4. Set the value of `n_init` explicitly to suppress the warning\n",
      "  super()._check_params_vs_input(X, default_n_init=10)\n",
      "100%|██████████| 28/28 [09:23<00:00, 20.11s/it]\n",
      " 20%|██        | 1/5 [26:36<1:46:27, 1596.96s/it]c:\\Users\\annamiczke\\AppData\\Local\\Programs\\Python\\Python310\\lib\\site-packages\\sklearn\\cluster\\_kmeans.py:1416: FutureWarning: The default value of `n_init` will change from 10 to 'auto' in 1.4. Set the value of `n_init` explicitly to suppress the warning\n",
      "  super()._check_params_vs_input(X, default_n_init=10)\n",
      "100%|██████████| 28/28 [06:07<00:00, 13.11s/it]\n",
      "c:\\Users\\annamiczke\\AppData\\Local\\Programs\\Python\\Python310\\lib\\site-packages\\sklearn\\cluster\\_kmeans.py:1416: FutureWarning: The default value of `n_init` will change from 10 to 'auto' in 1.4. Set the value of `n_init` explicitly to suppress the warning\n",
      "  super()._check_params_vs_input(X, default_n_init=10)\n",
      "100%|██████████| 28/28 [06:24<00:00, 13.73s/it]\n",
      "c:\\Users\\annamiczke\\AppData\\Local\\Programs\\Python\\Python310\\lib\\site-packages\\sklearn\\cluster\\_kmeans.py:1416: FutureWarning: The default value of `n_init` will change from 10 to 'auto' in 1.4. Set the value of `n_init` explicitly to suppress the warning\n",
      "  super()._check_params_vs_input(X, default_n_init=10)\n",
      "100%|██████████| 28/28 [06:00<00:00, 12.86s/it]\n",
      " 40%|████      | 2/5 [45:12<1:05:41, 1313.79s/it]c:\\Users\\annamiczke\\AppData\\Local\\Programs\\Python\\Python310\\lib\\site-packages\\sklearn\\cluster\\_kmeans.py:1416: FutureWarning: The default value of `n_init` will change from 10 to 'auto' in 1.4. Set the value of `n_init` explicitly to suppress the warning\n",
      "  super()._check_params_vs_input(X, default_n_init=10)\n",
      "100%|██████████| 28/28 [04:14<00:00,  9.09s/it]\n",
      "c:\\Users\\annamiczke\\AppData\\Local\\Programs\\Python\\Python310\\lib\\site-packages\\sklearn\\cluster\\_kmeans.py:1416: FutureWarning: The default value of `n_init` will change from 10 to 'auto' in 1.4. Set the value of `n_init` explicitly to suppress the warning\n",
      "  super()._check_params_vs_input(X, default_n_init=10)\n",
      "100%|██████████| 28/28 [04:39<00:00,  9.97s/it]\n",
      "c:\\Users\\annamiczke\\AppData\\Local\\Programs\\Python\\Python310\\lib\\site-packages\\sklearn\\cluster\\_kmeans.py:1416: FutureWarning: The default value of `n_init` will change from 10 to 'auto' in 1.4. Set the value of `n_init` explicitly to suppress the warning\n",
      "  super()._check_params_vs_input(X, default_n_init=10)\n",
      "100%|██████████| 28/28 [04:31<00:00,  9.71s/it]\n",
      " 60%|██████    | 3/5 [58:42<36:07, 1083.53s/it]  c:\\Users\\annamiczke\\AppData\\Local\\Programs\\Python\\Python310\\lib\\site-packages\\sklearn\\cluster\\_kmeans.py:1416: FutureWarning: The default value of `n_init` will change from 10 to 'auto' in 1.4. Set the value of `n_init` explicitly to suppress the warning\n",
      "  super()._check_params_vs_input(X, default_n_init=10)\n",
      "100%|██████████| 28/28 [03:21<00:00,  7.20s/it]\n",
      "c:\\Users\\annamiczke\\AppData\\Local\\Programs\\Python\\Python310\\lib\\site-packages\\sklearn\\cluster\\_kmeans.py:1416: FutureWarning: The default value of `n_init` will change from 10 to 'auto' in 1.4. Set the value of `n_init` explicitly to suppress the warning\n",
      "  super()._check_params_vs_input(X, default_n_init=10)\n",
      "100%|██████████| 28/28 [03:28<00:00,  7.45s/it]\n",
      "c:\\Users\\annamiczke\\AppData\\Local\\Programs\\Python\\Python310\\lib\\site-packages\\sklearn\\cluster\\_kmeans.py:1416: FutureWarning: The default value of `n_init` will change from 10 to 'auto' in 1.4. Set the value of `n_init` explicitly to suppress the warning\n",
      "  super()._check_params_vs_input(X, default_n_init=10)\n",
      "100%|██████████| 28/28 [03:25<00:00,  7.33s/it]\n",
      " 80%|████████  | 4/5 [1:09:01<15:00, 900.27s/it]c:\\Users\\annamiczke\\AppData\\Local\\Programs\\Python\\Python310\\lib\\site-packages\\sklearn\\cluster\\_kmeans.py:1416: FutureWarning: The default value of `n_init` will change from 10 to 'auto' in 1.4. Set the value of `n_init` explicitly to suppress the warning\n",
      "  super()._check_params_vs_input(X, default_n_init=10)\n",
      "100%|██████████| 28/28 [00:58<00:00,  2.10s/it]\n",
      "c:\\Users\\annamiczke\\AppData\\Local\\Programs\\Python\\Python310\\lib\\site-packages\\sklearn\\cluster\\_kmeans.py:1416: FutureWarning: The default value of `n_init` will change from 10 to 'auto' in 1.4. Set the value of `n_init` explicitly to suppress the warning\n",
      "  super()._check_params_vs_input(X, default_n_init=10)\n",
      "100%|██████████| 28/28 [00:57<00:00,  2.07s/it]\n",
      "c:\\Users\\annamiczke\\AppData\\Local\\Programs\\Python\\Python310\\lib\\site-packages\\sklearn\\cluster\\_kmeans.py:1416: FutureWarning: The default value of `n_init` will change from 10 to 'auto' in 1.4. Set the value of `n_init` explicitly to suppress the warning\n",
      "  super()._check_params_vs_input(X, default_n_init=10)\n",
      "100%|██████████| 28/28 [01:00<00:00,  2.15s/it]\n",
      "100%|██████████| 5/5 [1:12:02<00:00, 864.45s/it]"
     ]
    },
    {
     "name": "stdout",
     "output_type": "stream",
     "text": [
      "average error when predicting ratings:\n",
      "0.595 (SimpleImputer(), (), KMeans(n_clusters=28), 'support0.001', 'confidence0.7')\n",
      "average error when predicting ratings:\n",
      "0.6174999999999999 (SimpleImputer(), (), KMeans(n_clusters=28), 'support0.0009', 'confidence0.9')\n",
      "average error when predicting ratings:\n",
      "0.6275 (SimpleImputer(), (), KMeans(n_clusters=28), 'support0.002', 'confidence0.7')\n",
      "average error when predicting ratings:\n",
      "0.63 (SimpleImputer(), (), KMeans(n_clusters=28), 'support0.0009', 'confidence0.8')\n",
      "average error when predicting ratings:\n",
      "0.63 (SimpleImputer(), (), KMeans(n_clusters=28), 'support0.001', 'confidence0.8')\n",
      "average error when predicting ratings:\n",
      "0.6325000000000001 (SimpleImputer(), (), KMeans(n_clusters=28), 'support0.0008', 'confidence0.7')\n",
      "average error when predicting ratings:\n",
      "0.6325000000000001 (SimpleImputer(), (), KMeans(n_clusters=28), 'support0.0008', 'confidence0.8')\n",
      "average error when predicting ratings:\n",
      "0.6325000000000001 (SimpleImputer(), (), KMeans(n_clusters=28), 'support0.002', 'confidence0.8')\n",
      "average error when predicting ratings:\n",
      "0.635 (SimpleImputer(), (), KMeans(n_clusters=28), 'support0.001', 'confidence0.9')\n",
      "average error when predicting ratings:\n",
      "0.635 (SimpleImputer(), (), KMeans(n_clusters=28), 'support0.002', 'confidence0.9')\n",
      "average error when predicting ratings:\n",
      "0.6375 (SimpleImputer(), (), KMeans(n_clusters=28), 'support0.0007', 'confidence0.9')\n",
      "average error when predicting ratings:\n",
      "0.64 (SimpleImputer(), (), KMeans(n_clusters=28), 'support0.0007', 'confidence0.7')\n",
      "average error when predicting ratings:\n",
      "0.6425000000000001 (SimpleImputer(), (), KMeans(n_clusters=28), 'support0.0007', 'confidence0.8')\n",
      "average error when predicting ratings:\n",
      "0.6425000000000001 (SimpleImputer(), (), KMeans(n_clusters=28), 'support0.0009', 'confidence0.7')\n",
      "average error when predicting ratings:\n",
      "0.645 (SimpleImputer(), (), KMeans(n_clusters=28), 'support0.0008', 'confidence0.9')\n"
     ]
    },
    {
     "name": "stderr",
     "output_type": "stream",
     "text": [
      "\n"
     ]
    }
   ],
   "source": [
    "'''The best clustering option that we decided upon is now combined with an optimal number of clusters for it, and the Apriori algorithm'''\n",
    "imputer = SimpleImputer()\n",
    "preprocessor = []\n",
    "clusterer = KMeans(n_clusters=28)\n",
    "data = Data('ml-latest-small', \n",
    "                        imputer= imputer,\n",
    "                        preprocessors=preprocessor)\n",
    "errors = {}\n",
    "supports = [0.0007,0.0008,0.0009,0.001,0.002]\n",
    "confidences = [0.7,0.8,0.9]\n",
    "for supp in tqdm(supports):\n",
    "    for  conf in confidences:\n",
    "        recommender = ClusteringAndAprioriBasedRecommender(\n",
    "        data=data.train_data_table_for_clustering_normalized,\n",
    "        data_unnormalized=data.train_data_table_for_clustering,\n",
    "        movie_genres=data.movie_genres,\n",
    "        clusterer=clusterer,min_support = supp,metric=\"confidence\",min_threshold=conf)\n",
    "        recommender.train()\n",
    "        errors[(imputer, tuple(preprocessor), clusterer,\"support{}\".format(supp),\"confidence{}\".format(conf))] = test_error(2, recommender,data,2, sample_size=100)\n",
    "        \n",
    "for key, value in sorted(errors.items(), key=lambda x: x[1]):\n",
    "    print(\"average error when predicting ratings:\")\n",
    "    print(value, key)"
   ]
  },
  {
   "cell_type": "code",
   "execution_count": 4,
   "metadata": {},
   "outputs": [
    {
     "name": "stderr",
     "output_type": "stream",
     "text": [
      "100%|██████████| 10/10 [08:12<00:00, 49.22s/it]\n",
      "100%|██████████| 10/10 [08:14<00:00, 49.42s/it]\n",
      "100%|██████████| 10/10 [07:55<00:00, 47.56s/it]\n",
      "100%|██████████| 10/10 [05:59<00:00, 35.99s/it]\n",
      "100%|██████████| 10/10 [06:01<00:00, 36.18s/it]\n",
      "100%|██████████| 10/10 [06:05<00:00, 36.53s/it]\n",
      "100%|██████████| 10/10 [01:45<00:00, 10.51s/it]\n",
      "100%|██████████| 10/10 [01:50<00:00, 11.09s/it]\n",
      "100%|██████████| 10/10 [01:50<00:00, 11.08s/it]\n",
      "100%|██████████| 3/3 [48:06<00:00, 962.09s/it] "
     ]
    },
    {
     "name": "stdout",
     "output_type": "stream",
     "text": [
      "average error when predicting ratings:\n",
      "0.65 (SimpleImputer(), (), Birch(n_clusters=10), 'support0.0009', 'confidence0.7')\n",
      "average error when predicting ratings:\n",
      "0.65 (SimpleImputer(), (), Birch(n_clusters=10), 'support0.001', 'confidence0.7')\n",
      "average error when predicting ratings:\n",
      "0.6525000000000001 (SimpleImputer(), (), Birch(n_clusters=10), 'support0.0009', 'confidence0.8')\n",
      "average error when predicting ratings:\n",
      "0.6525000000000001 (SimpleImputer(), (), Birch(n_clusters=10), 'support0.0009', 'confidence0.9')\n",
      "average error when predicting ratings:\n",
      "0.6525000000000001 (SimpleImputer(), (), Birch(n_clusters=10), 'support0.001', 'confidence0.8')\n",
      "average error when predicting ratings:\n",
      "0.6525000000000001 (SimpleImputer(), (), Birch(n_clusters=10), 'support0.001', 'confidence0.9')\n",
      "average error when predicting ratings:\n",
      "0.655 (SimpleImputer(), (), Birch(n_clusters=10), 'support0.002', 'confidence0.7')\n",
      "average error when predicting ratings:\n",
      "0.6575 (SimpleImputer(), (), Birch(n_clusters=10), 'support0.002', 'confidence0.8')\n",
      "average error when predicting ratings:\n",
      "0.6575 (SimpleImputer(), (), Birch(n_clusters=10), 'support0.002', 'confidence0.9')\n"
     ]
    },
    {
     "name": "stderr",
     "output_type": "stream",
     "text": [
      "\n"
     ]
    }
   ],
   "source": [
    "'''one of three best clustering options tried with assosciation rules apriori, tried with \n",
    "different confidences and supports to check which is th best '''\n",
    "imputer = SimpleImputer()\n",
    "preprocessor = []\n",
    "clusterer = Birch(n_clusters=10)\n",
    "#clusterer =KMeans(n_clusters=20)\n",
    "data = Data('ml-latest-small', \n",
    "                        imputer= imputer,\n",
    "                        preprocessors=preprocessor)\n",
    "errors = {}\n",
    "supports = [0.0009,0.001,0.002]\n",
    "confidences = [0.7,0.8,0.9]\n",
    "for supp in tqdm(supports):\n",
    "    for  conf in confidences:\n",
    "        recommender = ClusteringAndAprioriBasedRecommender(\n",
    "        data=data.train_data_table_for_clustering_normalized,\n",
    "        data_unnormalized=data.train_data_table_for_clustering,\n",
    "        movie_genres=data.movie_genres,\n",
    "        clusterer=clusterer,min_support = supp,metric=\"confidence\",min_threshold=conf)\n",
    "        recommender.train()\n",
    "        errors[(imputer, tuple(preprocessor), clusterer,\"support{}\".format(supp),\"confidence{}\".format(conf))] = test_error(2, recommender,data,2, sample_size=100)\n",
    "       \n",
    "for key, value in sorted(errors.items(), key=lambda x: x[1]):\n",
    "    print(\"average error when predicting ratings:\")\n",
    "    print(value, key)"
   ]
  }
 ],
 "metadata": {
  "kernelspec": {
   "display_name": "Python 3",
   "language": "python",
   "name": "python3"
  },
  "language_info": {
   "codemirror_mode": {
    "name": "ipython",
    "version": 3
   },
   "file_extension": ".py",
   "mimetype": "text/x-python",
   "name": "python",
   "nbconvert_exporter": "python",
   "pygments_lexer": "ipython3",
   "version": "3.10.2"
  }
 },
 "nbformat": 4,
 "nbformat_minor": 2
}
