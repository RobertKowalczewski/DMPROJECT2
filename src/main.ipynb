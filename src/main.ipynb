{
 "cells": [
  {
   "cell_type": "code",
   "execution_count": 2,
   "metadata": {},
   "outputs": [],
   "source": [
    "import pandas as pd\n",
    "import numpy as np\n",
    "from tqdm import tqdm\n",
    "from recommenders import ClusteringBasedRecommender, Data\n",
    "from sklearn.cluster import KMeans, DBSCAN"
   ]
  },
  {
   "cell_type": "code",
   "execution_count": 14,
   "metadata": {},
   "outputs": [],
   "source": [
    "import random \n",
    "def test_error(epochs, recommender,data:Data, seed=196):\n",
    "    random.seed(seed)\n",
    "    rand_seeds = [random.randint(0, 1000) for _ in range(epochs)]\n",
    "    avg_error = 0\n",
    "    for i in tqdm(range(epochs)):\n",
    "        test_data = data.test_data.sample(n=1000, random_state=rand_seeds[i])\n",
    "        test_data['predicted_rating'] = test_data.apply(\n",
    "            lambda row: recommender.predict(int(row['userId']), int(row['movieId'])), axis=1\n",
    "            )\n",
    "        avg_error += np.mean(np.abs(test_data['rating'] - test_data['predicted_rating']))\n",
    "    return avg_error / epochs"
   ]
  },
  {
   "cell_type": "code",
   "execution_count": 3,
   "metadata": {},
   "outputs": [
    {
     "name": "stderr",
     "output_type": "stream",
     "text": [
      "100%|██████████| 5/5 [00:03<00:00,  1.31it/s]\n",
      "100%|██████████| 5/5 [00:03<00:00,  1.39it/s]\n",
      "100%|██████████| 5/5 [00:03<00:00,  1.51it/s]\n",
      "100%|██████████| 5/5 [00:03<00:00,  1.49it/s]\n",
      "100%|██████████| 5/5 [00:03<00:00,  1.54it/s]\n",
      "100%|██████████| 5/5 [00:03<00:00,  1.44it/s]\n",
      "100%|██████████| 5/5 [00:03<00:00,  1.51it/s]\n",
      "100%|██████████| 5/5 [00:03<00:00,  1.39it/s]"
     ]
    },
    {
     "name": "stdout",
     "output_type": "stream",
     "text": [
      "kmeans: [0.7529760401586489, 0.7354300230780361, 0.729899393236475, 0.727501673133021]\n",
      "dbscan: [0.8331100383769316, 0.8331100383769316, 0.8331100383769316, 0.8285061293098144]\n"
     ]
    },
    {
     "name": "stderr",
     "output_type": "stream",
     "text": [
      "\n"
     ]
    }
   ],
   "source": [
    "errors_kmeans = []\n",
    "errors_dbscan = []\n",
    "\n",
    "clusters = [5,20,40,80]\n",
    "epsilons = [0.5, 0.3, 0.1, 0.7]\n",
    "min_samples = [5, 10, 20,3]\n",
    "seed = 124\n",
    "\n",
    "data = Data('ml-latest-small')\n",
    "\n",
    "for n_cluster, eps,min_samp in zip(clusters, epsilons, min_samples):\n",
    "    kmeans = ClusteringBasedRecommender(data=data.train_data_table_for_clustering,\n",
    "                                        movie_genres=data.movie_genres,\n",
    "                                        Clusterer=KMeans,\n",
    "                                        clusterer_params={'n_clusters': n_cluster, \"random_state\": seed})\n",
    "    kmeans.train()\n",
    "    errors_kmeans.append(test_error(5, kmeans,data,seed))\n",
    "\n",
    "    dbscan = ClusteringBasedRecommender(data=data.train_data_table_for_clustering,\n",
    "                                        movie_genres=data.movie_genres,\n",
    "                                        Clusterer=DBSCAN,\n",
    "                                        clusterer_params={'eps':eps, 'min_samples': min_samp})\n",
    "    dbscan.train()\n",
    "    errors_dbscan.append(test_error(5, dbscan,data,seed))\n",
    "\n",
    "print(\"kmeans:\", errors_kmeans)\n",
    "print(\"dbscan:\", errors_dbscan)"
   ]
  }
 ],
 "metadata": {
  "kernelspec": {
   "display_name": "Python 3",
   "language": "python",
   "name": "python3"
  },
  "language_info": {
   "codemirror_mode": {
    "name": "ipython",
    "version": 3
   },
   "file_extension": ".py",
   "mimetype": "text/x-python",
   "name": "python",
   "nbconvert_exporter": "python",
   "pygments_lexer": "ipython3",
   "version": "3.12.2"
  }
 },
 "nbformat": 4,
 "nbformat_minor": 2
}
