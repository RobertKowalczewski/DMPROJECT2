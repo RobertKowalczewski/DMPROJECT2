{
 "cells": [
  {
   "cell_type": "code",
   "execution_count": 6,
   "metadata": {},
   "outputs": [],
   "source": [
    "import pandas as pd\n",
    "import numpy as np\n",
    "from tqdm import tqdm\n",
    "from recommenders import ClusteringBasedRecommender,ClusteringAndAprioriBasedRecommender, Data, Apriori\n",
    "from sklearn.cluster import KMeans, DBSCAN, AgglomerativeClustering, SpectralClustering, OPTICS, Birch\n",
    "from sklearn.preprocessing import Normalizer, StandardScaler, MinMaxScaler, PolynomialFeatures\n",
    "from sklearn.impute import SimpleImputer, KNNImputer"
   ]
  },
  {
   "cell_type": "code",
   "execution_count": 2,
   "metadata": {},
   "outputs": [],
   "source": [
    "import random \n",
    "def test_error(epochs, recommender,data:Data, seed=196, sample_size=1000):\n",
    "    random.seed(seed)\n",
    "    rand_seeds = [random.randint(0, 1000) for _ in range(epochs)]\n",
    "    avg_error = 0\n",
    "    for i in range(epochs):\n",
    "        test_data = data.test_data.sample(n=sample_size, random_state=rand_seeds[i])\n",
    "        test_data['predicted_rating'] = test_data.apply(\n",
    "            lambda row: recommender.predict(int(row['userId']), int(row['movieId'])), axis=1\n",
    "            )\n",
    "        avg_error += np.mean(np.abs(test_data['rating'] - test_data['predicted_rating']))\n",
    "    return avg_error / epochs"
   ]
  },
  {
   "cell_type": "code",
   "execution_count": 3,
   "metadata": {},
   "outputs": [
    {
     "name": "stderr",
     "output_type": "stream",
     "text": [
      "  0%|          | 0/3 [00:00<?, ?it/s]"
     ]
    },
    {
     "name": "stderr",
     "output_type": "stream",
     "text": [
      "c:\\Users\\annamiczke\\AppData\\Local\\Programs\\Python\\Python310\\lib\\site-packages\\sklearn\\cluster\\_kmeans.py:1416: FutureWarning: The default value of `n_init` will change from 10 to 'auto' in 1.4. Set the value of `n_init` explicitly to suppress the warning\n",
      "  super()._check_params_vs_input(X, default_n_init=10)\n",
      "c:\\Users\\annamiczke\\AppData\\Local\\Programs\\Python\\Python310\\lib\\site-packages\\sklearn\\cluster\\_kmeans.py:1416: FutureWarning: The default value of `n_init` will change from 10 to 'auto' in 1.4. Set the value of `n_init` explicitly to suppress the warning\n",
      "  super()._check_params_vs_input(X, default_n_init=10)\n",
      "c:\\Users\\annamiczke\\AppData\\Local\\Programs\\Python\\Python310\\lib\\site-packages\\sklearn\\cluster\\_kmeans.py:1416: FutureWarning: The default value of `n_init` will change from 10 to 'auto' in 1.4. Set the value of `n_init` explicitly to suppress the warning\n",
      "  super()._check_params_vs_input(X, default_n_init=10)\n",
      "c:\\Users\\annamiczke\\AppData\\Local\\Programs\\Python\\Python310\\lib\\site-packages\\sklearn\\cluster\\_kmeans.py:1416: FutureWarning: The default value of `n_init` will change from 10 to 'auto' in 1.4. Set the value of `n_init` explicitly to suppress the warning\n",
      "  super()._check_params_vs_input(X, default_n_init=10)\n",
      "c:\\Users\\annamiczke\\AppData\\Local\\Programs\\Python\\Python310\\lib\\site-packages\\sklearn\\cluster\\_birch.py:725: ConvergenceWarning: Number of subclusters found (1) by BIRCH is less than (10). Decrease the threshold.\n",
      "  warnings.warn(\n",
      "c:\\Users\\annamiczke\\AppData\\Local\\Programs\\Python\\Python310\\lib\\site-packages\\sklearn\\cluster\\_kmeans.py:1416: FutureWarning: The default value of `n_init` will change from 10 to 'auto' in 1.4. Set the value of `n_init` explicitly to suppress the warning\n",
      "  super()._check_params_vs_input(X, default_n_init=10)\n",
      "c:\\Users\\annamiczke\\AppData\\Local\\Programs\\Python\\Python310\\lib\\site-packages\\sklearn\\cluster\\_kmeans.py:1416: FutureWarning: The default value of `n_init` will change from 10 to 'auto' in 1.4. Set the value of `n_init` explicitly to suppress the warning\n",
      "  super()._check_params_vs_input(X, default_n_init=10)\n",
      "c:\\Users\\annamiczke\\AppData\\Local\\Programs\\Python\\Python310\\lib\\site-packages\\sklearn\\cluster\\_birch.py:725: ConvergenceWarning: Number of subclusters found (1) by BIRCH is less than (10). Decrease the threshold.\n",
      "  warnings.warn(\n",
      " 33%|███▎      | 1/3 [00:42<01:25, 42.84s/it]c:\\Users\\annamiczke\\AppData\\Local\\Programs\\Python\\Python310\\lib\\site-packages\\sklearn\\cluster\\_kmeans.py:1416: FutureWarning: The default value of `n_init` will change from 10 to 'auto' in 1.4. Set the value of `n_init` explicitly to suppress the warning\n",
      "  super()._check_params_vs_input(X, default_n_init=10)\n",
      "c:\\Users\\annamiczke\\AppData\\Local\\Programs\\Python\\Python310\\lib\\site-packages\\sklearn\\cluster\\_kmeans.py:1416: FutureWarning: The default value of `n_init` will change from 10 to 'auto' in 1.4. Set the value of `n_init` explicitly to suppress the warning\n",
      "  super()._check_params_vs_input(X, default_n_init=10)\n",
      "c:\\Users\\annamiczke\\AppData\\Local\\Programs\\Python\\Python310\\lib\\site-packages\\sklearn\\cluster\\_kmeans.py:1416: FutureWarning: The default value of `n_init` will change from 10 to 'auto' in 1.4. Set the value of `n_init` explicitly to suppress the warning\n",
      "  super()._check_params_vs_input(X, default_n_init=10)\n",
      "c:\\Users\\annamiczke\\AppData\\Local\\Programs\\Python\\Python310\\lib\\site-packages\\sklearn\\cluster\\_kmeans.py:1416: FutureWarning: The default value of `n_init` will change from 10 to 'auto' in 1.4. Set the value of `n_init` explicitly to suppress the warning\n",
      "  super()._check_params_vs_input(X, default_n_init=10)\n",
      "c:\\Users\\annamiczke\\AppData\\Local\\Programs\\Python\\Python310\\lib\\site-packages\\sklearn\\cluster\\_birch.py:725: ConvergenceWarning: Number of subclusters found (1) by BIRCH is less than (10). Decrease the threshold.\n",
      "  warnings.warn(\n",
      "c:\\Users\\annamiczke\\AppData\\Local\\Programs\\Python\\Python310\\lib\\site-packages\\sklearn\\cluster\\_kmeans.py:1416: FutureWarning: The default value of `n_init` will change from 10 to 'auto' in 1.4. Set the value of `n_init` explicitly to suppress the warning\n",
      "  super()._check_params_vs_input(X, default_n_init=10)\n",
      "c:\\Users\\annamiczke\\AppData\\Local\\Programs\\Python\\Python310\\lib\\site-packages\\sklearn\\cluster\\_kmeans.py:1416: FutureWarning: The default value of `n_init` will change from 10 to 'auto' in 1.4. Set the value of `n_init` explicitly to suppress the warning\n",
      "  super()._check_params_vs_input(X, default_n_init=10)\n",
      "c:\\Users\\annamiczke\\AppData\\Local\\Programs\\Python\\Python310\\lib\\site-packages\\sklearn\\cluster\\_birch.py:725: ConvergenceWarning: Number of subclusters found (1) by BIRCH is less than (10). Decrease the threshold.\n",
      "  warnings.warn(\n",
      " 67%|██████▋   | 2/3 [01:21<00:40, 40.53s/it]c:\\Users\\annamiczke\\AppData\\Local\\Programs\\Python\\Python310\\lib\\site-packages\\sklearn\\cluster\\_kmeans.py:1416: FutureWarning: The default value of `n_init` will change from 10 to 'auto' in 1.4. Set the value of `n_init` explicitly to suppress the warning\n",
      "  super()._check_params_vs_input(X, default_n_init=10)\n",
      "c:\\Users\\annamiczke\\AppData\\Local\\Programs\\Python\\Python310\\lib\\site-packages\\sklearn\\cluster\\_kmeans.py:1416: FutureWarning: The default value of `n_init` will change from 10 to 'auto' in 1.4. Set the value of `n_init` explicitly to suppress the warning\n",
      "  super()._check_params_vs_input(X, default_n_init=10)\n",
      "c:\\Users\\annamiczke\\AppData\\Local\\Programs\\Python\\Python310\\lib\\site-packages\\sklearn\\cluster\\_kmeans.py:1416: FutureWarning: The default value of `n_init` will change from 10 to 'auto' in 1.4. Set the value of `n_init` explicitly to suppress the warning\n",
      "  super()._check_params_vs_input(X, default_n_init=10)\n",
      "c:\\Users\\annamiczke\\AppData\\Local\\Programs\\Python\\Python310\\lib\\site-packages\\sklearn\\cluster\\_kmeans.py:1416: FutureWarning: The default value of `n_init` will change from 10 to 'auto' in 1.4. Set the value of `n_init` explicitly to suppress the warning\n",
      "  super()._check_params_vs_input(X, default_n_init=10)\n",
      "c:\\Users\\annamiczke\\AppData\\Local\\Programs\\Python\\Python310\\lib\\site-packages\\sklearn\\cluster\\_birch.py:725: ConvergenceWarning: Number of subclusters found (1) by BIRCH is less than (10). Decrease the threshold.\n",
      "  warnings.warn(\n",
      "c:\\Users\\annamiczke\\AppData\\Local\\Programs\\Python\\Python310\\lib\\site-packages\\sklearn\\cluster\\_kmeans.py:1416: FutureWarning: The default value of `n_init` will change from 10 to 'auto' in 1.4. Set the value of `n_init` explicitly to suppress the warning\n",
      "  super()._check_params_vs_input(X, default_n_init=10)\n",
      "c:\\Users\\annamiczke\\AppData\\Local\\Programs\\Python\\Python310\\lib\\site-packages\\sklearn\\cluster\\_kmeans.py:1416: FutureWarning: The default value of `n_init` will change from 10 to 'auto' in 1.4. Set the value of `n_init` explicitly to suppress the warning\n",
      "  super()._check_params_vs_input(X, default_n_init=10)\n",
      "c:\\Users\\annamiczke\\AppData\\Local\\Programs\\Python\\Python310\\lib\\site-packages\\sklearn\\cluster\\_birch.py:725: ConvergenceWarning: Number of subclusters found (1) by BIRCH is less than (10). Decrease the threshold.\n",
      "  warnings.warn(\n",
      "100%|██████████| 3/3 [02:02<00:00, 40.68s/it]\n"
     ]
    }
   ],
   "source": [
    "'''testing without apriori'''\n",
    "imputers = [SimpleImputer(strategy='mean'),\n",
    "            SimpleImputer(strategy='median'),\n",
    "            KNNImputer(n_neighbors=4, weights='uniform')]\n",
    "preprocessors = [[], [MinMaxScaler()],\n",
    "                 [StandardScaler()], [Normalizer()],\n",
    "                 [StandardScaler()],\n",
    "                 [MinMaxScaler(), Normalizer()]]\n",
    "clusterers = [KMeans(n_clusters=20), \n",
    "              DBSCAN(eps=0.5, min_samples=5),\n",
    "              AgglomerativeClustering(n_clusters=20),\n",
    "              SpectralClustering(n_clusters=20),\n",
    "              OPTICS(min_samples=5),\n",
    "              Birch(n_clusters=10)]\n",
    "errors = {}\n",
    "\n",
    "for i,imputer in enumerate(tqdm(imputers)):\n",
    "    for preprocessor in preprocessors:\n",
    "        for clusterer in clusterers:\n",
    "            data = Data('ml-latest-small', \n",
    "                        imputer=imputer,\n",
    "                        preprocessors=preprocessor)\n",
    "\n",
    "            recommender = ClusteringBasedRecommender(\n",
    "                data=data.train_data_table_for_clustering_normalized,\n",
    "                data_unnormalized=data.train_data_table_for_clustering,\n",
    "                movie_genres=data.movie_genres,\n",
    "                clusterer=clusterer\n",
    "                )\n",
    "            recommender.train()\n",
    "            errors[(imputer, tuple(preprocessor), clusterer)] = test_error(2, recommender,data,2, sample_size=100)\n"
   ]
  },
  {
   "cell_type": "code",
   "execution_count": 8,
   "metadata": {},
   "outputs": [
    {
     "name": "stderr",
     "output_type": "stream",
     "text": [
      "  0%|          | 0/20 [00:00<?, ?it/s]"
     ]
    },
    {
     "name": "stdout",
     "output_type": "stream",
     "text": [
      "662\n"
     ]
    },
    {
     "name": "stderr",
     "output_type": "stream",
     "text": [
      "  5%|▌         | 1/20 [00:05<01:45,  5.57s/it]"
     ]
    },
    {
     "name": "stdout",
     "output_type": "stream",
     "text": [
      "130\n",
      "539\n"
     ]
    },
    {
     "name": "stderr",
     "output_type": "stream",
     "text": [
      " 10%|█         | 2/20 [00:06<00:47,  2.62s/it]"
     ]
    },
    {
     "name": "stdout",
     "output_type": "stream",
     "text": [
      "699\n",
      "872\n"
     ]
    },
    {
     "name": "stderr",
     "output_type": "stream",
     "text": [
      " 15%|█▌        | 3/20 [01:26<10:45, 37.99s/it]"
     ]
    },
    {
     "name": "stdout",
     "output_type": "stream",
     "text": [
      "277\n",
      "531\n"
     ]
    },
    {
     "name": "stderr",
     "output_type": "stream",
     "text": [
      " 20%|██        | 4/20 [01:26<06:09, 23.09s/it]"
     ]
    },
    {
     "name": "stdout",
     "output_type": "stream",
     "text": [
      "455\n",
      "751\n"
     ]
    },
    {
     "name": "stderr",
     "output_type": "stream",
     "text": [
      " 25%|██▌       | 5/20 [01:49<05:45, 23.01s/it]"
     ]
    },
    {
     "name": "stdout",
     "output_type": "stream",
     "text": [
      "188\n",
      "703\n"
     ]
    },
    {
     "name": "stderr",
     "output_type": "stream",
     "text": [
      " 30%|███       | 6/20 [01:55<04:03, 17.39s/it]"
     ]
    },
    {
     "name": "stdout",
     "output_type": "stream",
     "text": [
      "268\n",
      "857\n"
     ]
    },
    {
     "name": "stderr",
     "output_type": "stream",
     "text": [
      " 35%|███▌      | 7/20 [02:01<02:57, 13.68s/it]"
     ]
    },
    {
     "name": "stdout",
     "output_type": "stream",
     "text": [
      "386\n",
      "799\n"
     ]
    },
    {
     "name": "stderr",
     "output_type": "stream",
     "text": [
      " 40%|████      | 8/20 [02:07<02:12, 11.07s/it]"
     ]
    },
    {
     "name": "stdout",
     "output_type": "stream",
     "text": [
      "376\n",
      "561\n"
     ]
    },
    {
     "name": "stderr",
     "output_type": "stream",
     "text": [
      " 45%|████▌     | 9/20 [02:07<01:25,  7.73s/it]"
     ]
    },
    {
     "name": "stdout",
     "output_type": "stream",
     "text": [
      "605\n",
      "855\n"
     ]
    },
    {
     "name": "stderr",
     "output_type": "stream",
     "text": [
      " 50%|█████     | 10/20 [03:15<04:24, 26.42s/it]"
     ]
    },
    {
     "name": "stdout",
     "output_type": "stream",
     "text": [
      "168\n",
      "696\n"
     ]
    },
    {
     "name": "stderr",
     "output_type": "stream",
     "text": [
      " 55%|█████▌    | 11/20 [03:17<02:49, 18.82s/it]"
     ]
    },
    {
     "name": "stdout",
     "output_type": "stream",
     "text": [
      "626\n",
      "280\n",
      "218\n",
      "617\n"
     ]
    },
    {
     "name": "stderr",
     "output_type": "stream",
     "text": [
      " 65%|██████▌   | 13/20 [03:17<01:10, 10.11s/it]"
     ]
    },
    {
     "name": "stdout",
     "output_type": "stream",
     "text": [
      "492\n",
      "631\n"
     ]
    },
    {
     "name": "stderr",
     "output_type": "stream",
     "text": [
      " 70%|███████   | 14/20 [03:20<00:49,  8.21s/it]"
     ]
    },
    {
     "name": "stdout",
     "output_type": "stream",
     "text": [
      "593\n",
      "760\n"
     ]
    },
    {
     "name": "stderr",
     "output_type": "stream",
     "text": [
      " 75%|███████▌  | 15/20 [03:21<00:32,  6.44s/it]"
     ]
    },
    {
     "name": "stdout",
     "output_type": "stream",
     "text": [
      "616\n",
      "620\n"
     ]
    },
    {
     "name": "stderr",
     "output_type": "stream",
     "text": [
      " 80%|████████  | 16/20 [03:22<00:19,  4.97s/it]"
     ]
    },
    {
     "name": "stdout",
     "output_type": "stream",
     "text": [
      "895\n",
      "871\n"
     ]
    },
    {
     "name": "stderr",
     "output_type": "stream",
     "text": [
      " 85%|████████▌ | 17/20 [03:42<00:27,  9.16s/it]"
     ]
    },
    {
     "name": "stdout",
     "output_type": "stream",
     "text": [
      "304\n",
      "884\n"
     ]
    },
    {
     "name": "stderr",
     "output_type": "stream",
     "text": [
      " 90%|█████████ | 18/20 [04:48<00:50, 25.21s/it]"
     ]
    },
    {
     "name": "stdout",
     "output_type": "stream",
     "text": [
      "185\n",
      "751\n"
     ]
    },
    {
     "name": "stderr",
     "output_type": "stream",
     "text": [
      "100%|██████████| 20/20 [04:54<00:00, 14.72s/it]"
     ]
    },
    {
     "name": "stdout",
     "output_type": "stream",
     "text": [
      "329\n",
      "354\n",
      "319\n"
     ]
    },
    {
     "name": "stderr",
     "output_type": "stream",
     "text": [
      "\n"
     ]
    },
    {
     "name": "stdout",
     "output_type": "stream",
     "text": [
      "('Sci-Fi', 'rating_4.0', 'userId_186')\n",
      "('rating_3.0', 'userId_54')\n",
      "('159093', 'rating_4.0')\n",
      "('2291', 'rating_4.0')\n",
      "('rating_3.0', 'userId_109')\n",
      "('50', 'rating_2.0')\n",
      "average error when predicting ratings:\n",
      "0.6375 (SimpleImputer(strategy='median'), (), AgglomerativeClustering(n_clusters=20))\n"
     ]
    }
   ],
   "source": [
    "'''best option tried with assosciation rules apriori\n",
    "printing, the sizes of frequent  itemsets generated, to see progress\n",
    "and printing the matched assosciation rules to have some comparison '''\n",
    "imputer = SimpleImputer(strategy='median')\n",
    "preprocessor = []\n",
    "clusterer = AgglomerativeClustering(n_clusters=20)\n",
    "#clusterer =KMeans(n_clusters=20)\n",
    "data = Data('ml-latest-small', \n",
    "                        imputer= imputer,\n",
    "                        preprocessors=preprocessor)\n",
    "errors = {}\n",
    "\n",
    "recommender = ClusteringAndAprioriBasedRecommender(\n",
    "    data=data.train_data_table_for_clustering_normalized,\n",
    "    data_unnormalized=data.train_data_table_for_clustering,\n",
    "    movie_genres=data.movie_genres,\n",
    "    clusterer=clusterer)\n",
    "recommender.train()\n",
    "errors[(imputer, tuple(preprocessor), clusterer)] = test_error(2, recommender,data,2, sample_size=100)\n",
    "print(\"average error when predicting ratings:\")\n",
    "for key, value in sorted(errors.items(), key=lambda x: x[1]):\n",
    "    print(value, key)"
   ]
  },
  {
   "cell_type": "code",
   "execution_count": 4,
   "metadata": {},
   "outputs": [
    {
     "name": "stdout",
     "output_type": "stream",
     "text": [
      "average error when predicting ratings:\n",
      "0.65 (SimpleImputer(), (), KMeans(n_clusters=20))\n",
      "0.6525000000000001 (SimpleImputer(strategy='median'), (), AgglomerativeClustering(n_clusters=20))\n",
      "0.6575 (SimpleImputer(), (), Birch(n_clusters=10))\n",
      "0.6575 (KNNImputer(n_neighbors=4), (MinMaxScaler(),), AgglomerativeClustering(n_clusters=20))\n",
      "0.66 (SimpleImputer(strategy='median'), (), KMeans(n_clusters=20))\n",
      "0.66 (KNNImputer(n_neighbors=4), (StandardScaler(),), KMeans(n_clusters=20))\n",
      "0.6625 (SimpleImputer(strategy='median'), (MinMaxScaler(),), KMeans(n_clusters=20))\n",
      "0.6675 (SimpleImputer(strategy='median'), (StandardScaler(),), KMeans(n_clusters=20))\n",
      "0.6699999999999999 (SimpleImputer(strategy='median'), (MinMaxScaler(),), AgglomerativeClustering(n_clusters=20))\n",
      "0.67 (KNNImputer(n_neighbors=4), (), Birch(n_clusters=10))\n",
      "0.675 (SimpleImputer(strategy='median'), (), Birch(n_clusters=10))\n",
      "0.675 (KNNImputer(n_neighbors=4), (), KMeans(n_clusters=20))\n",
      "0.6775 (SimpleImputer(), (MinMaxScaler(),), KMeans(n_clusters=20))\n",
      "0.6775 (SimpleImputer(strategy='median'), (StandardScaler(),), KMeans(n_clusters=20))\n",
      "0.6775 (KNNImputer(n_neighbors=4), (), AgglomerativeClustering(n_clusters=20))\n",
      "0.6775 (KNNImputer(n_neighbors=4), (StandardScaler(),), KMeans(n_clusters=20))\n",
      "0.6775 (KNNImputer(n_neighbors=4), (StandardScaler(),), Birch(n_clusters=10))\n",
      "0.6775 (KNNImputer(n_neighbors=4), (StandardScaler(),), Birch(n_clusters=10))\n",
      "0.6825 (SimpleImputer(strategy='median'), (StandardScaler(),), AgglomerativeClustering(n_clusters=20))\n",
      "0.6825 (SimpleImputer(strategy='median'), (StandardScaler(),), AgglomerativeClustering(n_clusters=20))\n",
      "0.685 (SimpleImputer(), (MinMaxScaler(),), AgglomerativeClustering(n_clusters=20))\n",
      "0.685 (SimpleImputer(), (StandardScaler(),), AgglomerativeClustering(n_clusters=20))\n",
      "0.685 (SimpleImputer(), (StandardScaler(),), AgglomerativeClustering(n_clusters=20))\n",
      "0.6875 (SimpleImputer(), (StandardScaler(),), KMeans(n_clusters=20))\n",
      "0.6875 (SimpleImputer(strategy='median'), (StandardScaler(),), Birch(n_clusters=10))\n",
      "0.6875 (SimpleImputer(strategy='median'), (StandardScaler(),), Birch(n_clusters=10))\n",
      "0.69 (KNNImputer(n_neighbors=4), (MinMaxScaler(),), KMeans(n_clusters=20))\n",
      "0.69 (KNNImputer(n_neighbors=4), (StandardScaler(),), AgglomerativeClustering(n_clusters=20))\n",
      "0.69 (KNNImputer(n_neighbors=4), (StandardScaler(),), AgglomerativeClustering(n_clusters=20))\n",
      "0.6925 (SimpleImputer(), (StandardScaler(),), Birch(n_clusters=10))\n",
      "0.6925 (SimpleImputer(), (StandardScaler(),), Birch(n_clusters=10))\n",
      "0.6975 (SimpleImputer(), (), AgglomerativeClustering(n_clusters=20))\n",
      "0.6975 (SimpleImputer(), (MinMaxScaler(),), SpectralClustering(n_clusters=20))\n",
      "0.6975 (SimpleImputer(), (StandardScaler(),), KMeans(n_clusters=20))\n",
      "0.7050000000000001 (SimpleImputer(strategy='median'), (Normalizer(),), KMeans(n_clusters=20))\n",
      "0.7075 (KNNImputer(n_neighbors=4), (MinMaxScaler(),), SpectralClustering(n_clusters=20))\n",
      "0.7075 (KNNImputer(n_neighbors=4), (MinMaxScaler(),), Birch(n_clusters=10))\n",
      "0.7124999999999999 (SimpleImputer(), (MinMaxScaler(), Normalizer()), AgglomerativeClustering(n_clusters=20))\n",
      "0.7175 (SimpleImputer(strategy='median'), (MinMaxScaler(), Normalizer()), KMeans(n_clusters=20))\n",
      "0.72 (SimpleImputer(strategy='median'), (MinMaxScaler(),), SpectralClustering(n_clusters=20))\n",
      "0.7224999999999999 (SimpleImputer(), (MinMaxScaler(), Normalizer()), KMeans(n_clusters=20))\n",
      "0.7224999999999999 (SimpleImputer(strategy='median'), (StandardScaler(),), SpectralClustering(n_clusters=20))\n",
      "0.7224999999999999 (SimpleImputer(strategy='median'), (StandardScaler(),), SpectralClustering(n_clusters=20))\n",
      "0.73 (SimpleImputer(), (Normalizer(),), SpectralClustering(n_clusters=20))\n",
      "0.7324999999999999 (SimpleImputer(), (Normalizer(),), KMeans(n_clusters=20))\n",
      "0.7324999999999999 (KNNImputer(n_neighbors=4), (Normalizer(),), KMeans(n_clusters=20))\n",
      "0.7324999999999999 (KNNImputer(n_neighbors=4), (MinMaxScaler(), Normalizer()), KMeans(n_clusters=20))\n",
      "0.74 (SimpleImputer(strategy='median'), (Normalizer(),), AgglomerativeClustering(n_clusters=20))\n",
      "0.74 (SimpleImputer(strategy='median'), (Normalizer(),), SpectralClustering(n_clusters=20))\n",
      "0.74 (KNNImputer(n_neighbors=4), (MinMaxScaler(), Normalizer()), SpectralClustering(n_clusters=20))\n",
      "0.7424999999999999 (SimpleImputer(), (MinMaxScaler(),), Birch(n_clusters=10))\n",
      "0.7424999999999999 (SimpleImputer(), (StandardScaler(),), SpectralClustering(n_clusters=20))\n",
      "0.7424999999999999 (SimpleImputer(), (StandardScaler(),), SpectralClustering(n_clusters=20))\n",
      "0.7424999999999999 (SimpleImputer(strategy='median'), (MinMaxScaler(),), Birch(n_clusters=10))\n",
      "0.745 (SimpleImputer(), (MinMaxScaler(), Normalizer()), SpectralClustering(n_clusters=20))\n",
      "0.75 (SimpleImputer(), (Normalizer(),), AgglomerativeClustering(n_clusters=20))\n",
      "0.755 (KNNImputer(n_neighbors=4), (Normalizer(),), SpectralClustering(n_clusters=20))\n",
      "0.76 (SimpleImputer(strategy='median'), (MinMaxScaler(), Normalizer()), SpectralClustering(n_clusters=20))\n",
      "0.7625 (SimpleImputer(strategy='median'), (MinMaxScaler(), Normalizer()), AgglomerativeClustering(n_clusters=20))\n",
      "0.7675000000000001 (SimpleImputer(strategy='median'), (MinMaxScaler(), Normalizer()), OPTICS())\n",
      "0.7725 (SimpleImputer(strategy='median'), (), SpectralClustering(n_clusters=20))\n",
      "0.7725 (SimpleImputer(strategy='median'), (), OPTICS())\n",
      "0.7725 (SimpleImputer(strategy='median'), (MinMaxScaler(),), OPTICS())\n",
      "0.7725 (KNNImputer(n_neighbors=4), (), OPTICS())\n",
      "0.775 (SimpleImputer(strategy='median'), (MinMaxScaler(),), DBSCAN())\n",
      "0.7775000000000001 (SimpleImputer(), (Normalizer(),), OPTICS())\n",
      "0.7775000000000001 (SimpleImputer(), (MinMaxScaler(), Normalizer()), OPTICS())\n",
      "0.7775000000000001 (SimpleImputer(strategy='median'), (Normalizer(),), OPTICS())\n",
      "0.7775000000000001 (KNNImputer(n_neighbors=4), (Normalizer(),), AgglomerativeClustering(n_clusters=20))\n",
      "0.78 (SimpleImputer(), (MinMaxScaler(),), DBSCAN())\n",
      "0.78 (SimpleImputer(), (StandardScaler(),), OPTICS())\n",
      "0.78 (SimpleImputer(), (StandardScaler(),), OPTICS())\n",
      "0.78 (KNNImputer(n_neighbors=4), (Normalizer(),), OPTICS())\n",
      "0.7825 (SimpleImputer(strategy='median'), (MinMaxScaler(), Normalizer()), DBSCAN())\n",
      "0.7849999999999999 (SimpleImputer(), (), SpectralClustering(n_clusters=20))\n",
      "0.7849999999999999 (KNNImputer(n_neighbors=4), (StandardScaler(),), SpectralClustering(n_clusters=20))\n",
      "0.785 (KNNImputer(n_neighbors=4), (MinMaxScaler(),), DBSCAN())\n",
      "0.7875 (SimpleImputer(), (), DBSCAN())\n",
      "0.7875 (SimpleImputer(), (), OPTICS())\n",
      "0.7875 (SimpleImputer(), (MinMaxScaler(),), OPTICS())\n",
      "0.7875 (SimpleImputer(), (StandardScaler(),), DBSCAN())\n",
      "0.7875 (SimpleImputer(), (Normalizer(),), DBSCAN())\n",
      "0.7875 (SimpleImputer(), (Normalizer(),), Birch(n_clusters=10))\n",
      "0.7875 (SimpleImputer(), (StandardScaler(),), DBSCAN())\n",
      "0.7875 (SimpleImputer(), (MinMaxScaler(), Normalizer()), DBSCAN())\n",
      "0.7875 (SimpleImputer(), (MinMaxScaler(), Normalizer()), Birch(n_clusters=10))\n",
      "0.7875 (SimpleImputer(strategy='median'), (), DBSCAN())\n",
      "0.7875 (SimpleImputer(strategy='median'), (StandardScaler(),), DBSCAN())\n",
      "0.7875 (SimpleImputer(strategy='median'), (StandardScaler(),), OPTICS())\n",
      "0.7875 (SimpleImputer(strategy='median'), (Normalizer(),), DBSCAN())\n",
      "0.7875 (SimpleImputer(strategy='median'), (Normalizer(),), Birch(n_clusters=10))\n",
      "0.7875 (SimpleImputer(strategy='median'), (StandardScaler(),), DBSCAN())\n",
      "0.7875 (SimpleImputer(strategy='median'), (StandardScaler(),), OPTICS())\n",
      "0.7875 (SimpleImputer(strategy='median'), (MinMaxScaler(), Normalizer()), Birch(n_clusters=10))\n",
      "0.7875 (KNNImputer(n_neighbors=4), (), DBSCAN())\n",
      "0.7875 (KNNImputer(n_neighbors=4), (), SpectralClustering(n_clusters=20))\n",
      "0.7875 (KNNImputer(n_neighbors=4), (StandardScaler(),), DBSCAN())\n",
      "0.7875 (KNNImputer(n_neighbors=4), (StandardScaler(),), OPTICS())\n",
      "0.7875 (KNNImputer(n_neighbors=4), (Normalizer(),), DBSCAN())\n",
      "0.7875 (KNNImputer(n_neighbors=4), (Normalizer(),), Birch(n_clusters=10))\n",
      "0.7875 (KNNImputer(n_neighbors=4), (StandardScaler(),), DBSCAN())\n",
      "0.7875 (KNNImputer(n_neighbors=4), (StandardScaler(),), SpectralClustering(n_clusters=20))\n",
      "0.7875 (KNNImputer(n_neighbors=4), (StandardScaler(),), OPTICS())\n",
      "0.7875 (KNNImputer(n_neighbors=4), (MinMaxScaler(), Normalizer()), DBSCAN())\n",
      "0.7875 (KNNImputer(n_neighbors=4), (MinMaxScaler(), Normalizer()), Birch(n_clusters=10))\n",
      "0.7925 (KNNImputer(n_neighbors=4), (MinMaxScaler(), Normalizer()), AgglomerativeClustering(n_clusters=20))\n",
      "0.7949999999999999 (KNNImputer(n_neighbors=4), (MinMaxScaler(),), OPTICS())\n",
      "0.7949999999999999 (KNNImputer(n_neighbors=4), (MinMaxScaler(), Normalizer()), OPTICS())\n"
     ]
    }
   ],
   "source": [
    "print(\"average error when predicting ratings:\")\n",
    "for key, value in sorted(errors.items(), key=lambda x: x[1]):\n",
    "    print(value, key)"
   ]
  }
 ],
 "metadata": {
  "kernelspec": {
   "display_name": "Python 3",
   "language": "python",
   "name": "python3"
  },
  "language_info": {
   "codemirror_mode": {
    "name": "ipython",
    "version": 3
   },
   "file_extension": ".py",
   "mimetype": "text/x-python",
   "name": "python",
   "nbconvert_exporter": "python",
   "pygments_lexer": "ipython3",
   "version": "3.10.2"
  }
 },
 "nbformat": 4,
 "nbformat_minor": 2
}
