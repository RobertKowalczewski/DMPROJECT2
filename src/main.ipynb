{
 "cells": [
  {
   "cell_type": "code",
   "execution_count": 11,
   "metadata": {},
   "outputs": [],
   "source": [
    "import pandas as pd\n",
    "import numpy as np\n",
    "from tqdm import tqdm\n",
    "from recommenders import ClusteringBasedRecommender, Data\n",
    "from sklearn.cluster import KMeans, DBSCAN\n",
    "from sklearn.preprocessing import Normalizer, StandardScaler, MinMaxScaler, PolynomialFeatures\n",
    "from sklearn.impute import SimpleImputer, KNNImputer"
   ]
  },
  {
   "cell_type": "code",
   "execution_count": 19,
   "metadata": {},
   "outputs": [],
   "source": [
    "import random \n",
    "def test_error(epochs, recommender,data:Data, seed=196, sample_size=1000):\n",
    "    random.seed(seed)\n",
    "    rand_seeds = [random.randint(0, 1000) for _ in range(epochs)]\n",
    "    avg_error = 0\n",
    "    for i in range(epochs):\n",
    "        test_data = data.test_data.sample(n=sample_size, random_state=rand_seeds[i])\n",
    "        test_data['predicted_rating'] = test_data.apply(\n",
    "            lambda row: recommender.predict(int(row['userId']), int(row['movieId'])), axis=1\n",
    "            )\n",
    "        avg_error += np.mean(np.abs(test_data['rating'] - test_data['predicted_rating']))\n",
    "    return avg_error / epochs"
   ]
  },
  {
   "cell_type": "code",
   "execution_count": 24,
   "metadata": {},
   "outputs": [
    {
     "name": "stderr",
     "output_type": "stream",
     "text": [
      "4it [00:14,  3.61s/it]\n"
     ]
    }
   ],
   "source": [
    "imputers = [SimpleImputer(strategy='mean'),\n",
    "            SimpleImputer(strategy='constant', fill_value=0),\n",
    "            SimpleImputer(strategy='median'),\n",
    "            KNNImputer(n_neighbors=2, weights='uniform')]\n",
    "preprocessors = [[], [MinMaxScaler()],\n",
    "                 [StandardScaler()], [Normalizer()],\n",
    "                 [MinMaxScaler(), StandardScaler()],\n",
    "                 [MinMaxScaler(), Normalizer()],\n",
    "                 [StandardScaler(), Normalizer()],\n",
    "                 [MinMaxScaler(), StandardScaler(), Normalizer()]]\n",
    "\n",
    "errors = {}\n",
    "\n",
    "for i,imputer in tqdm(enumerate(imputers)):\n",
    "    for preprocessor in preprocessors:\n",
    "        data = Data('ml-latest-small', \n",
    "                    imputer=imputer,\n",
    "                    preprocessors=preprocessor)\n",
    "\n",
    "        kmeans = ClusteringBasedRecommender(\n",
    "            data=data.train_data_table_for_clustering_normalized,\n",
    "            data_unnormalized=data.train_data_table_for_clustering,\n",
    "            movie_genres=data.movie_genres,\n",
    "            clusterer=KMeans(n_clusters=20, random_state=1)\n",
    "            )\n",
    "        kmeans.train()\n",
    "        errors[(imputer, tuple(preprocessor))] = test_error(2, kmeans,data,2, sample_size=100)"
   ]
  },
  {
   "cell_type": "code",
   "execution_count": 28,
   "metadata": {},
   "outputs": [
    {
     "name": "stdout",
     "output_type": "stream",
     "text": [
      "0.6560681155458934 (SimpleImputer(), (MinMaxScaler(),))\n",
      "0.6752668422810978 (SimpleImputer(strategy='median'), (StandardScaler(), Normalizer()))\n",
      "0.6752668422810978 (SimpleImputer(strategy='median'), (MinMaxScaler(), StandardScaler(), Normalizer()))\n",
      "0.6856638854238828 (KNNImputer(n_neighbors=2), (StandardScaler(),))\n",
      "0.6856638854238828 (KNNImputer(n_neighbors=2), (MinMaxScaler(), StandardScaler()))\n",
      "0.6872638547713823 (SimpleImputer(), ())\n",
      "0.6901642302094824 (SimpleImputer(strategy='median'), (StandardScaler(),))\n",
      "0.6901642302094824 (SimpleImputer(strategy='median'), (MinMaxScaler(), StandardScaler()))\n",
      "0.6910879258398093 (KNNImputer(n_neighbors=2), (MinMaxScaler(),))\n",
      "0.6945610840316233 (KNNImputer(n_neighbors=2), ())\n",
      "0.6950767669715316 (SimpleImputer(), (StandardScaler(), Normalizer()))\n",
      "0.6950767669715316 (SimpleImputer(), (MinMaxScaler(), StandardScaler(), Normalizer()))\n",
      "0.6958196424882629 (SimpleImputer(strategy='median'), ())\n",
      "0.6978398546432227 (SimpleImputer(), (StandardScaler(),))\n",
      "0.6978398546432227 (SimpleImputer(), (MinMaxScaler(), StandardScaler()))\n",
      "0.6997217428970576 (KNNImputer(n_neighbors=2), (StandardScaler(), Normalizer()))\n",
      "0.6997217428970576 (KNNImputer(n_neighbors=2), (MinMaxScaler(), StandardScaler(), Normalizer()))\n",
      "0.7013336599092921 (SimpleImputer(strategy='median'), (MinMaxScaler(),))\n",
      "0.7163715686257419 (SimpleImputer(fill_value=0, strategy='constant'), (StandardScaler(),))\n",
      "0.7163715686257419 (SimpleImputer(fill_value=0, strategy='constant'), (MinMaxScaler(), StandardScaler()))\n",
      "0.7245090378643294 (SimpleImputer(), (MinMaxScaler(), Normalizer()))\n",
      "0.7259624339033648 (SimpleImputer(strategy='median'), (MinMaxScaler(), Normalizer()))\n",
      "0.7273526775843818 (SimpleImputer(), (Normalizer(),))\n",
      "0.7329122942115303 (SimpleImputer(strategy='median'), (Normalizer(),))\n",
      "0.7382424753568573 (SimpleImputer(fill_value=0, strategy='constant'), (StandardScaler(), Normalizer()))\n",
      "0.7382424753568573 (SimpleImputer(fill_value=0, strategy='constant'), (MinMaxScaler(), StandardScaler(), Normalizer()))\n",
      "0.7656544642008911 (SimpleImputer(fill_value=0, strategy='constant'), ())\n",
      "0.7701078899290628 (KNNImputer(n_neighbors=2), (Normalizer(),))\n",
      "0.7714230896490419 (KNNImputer(n_neighbors=2), (MinMaxScaler(), Normalizer()))\n",
      "0.7742265379083625 (SimpleImputer(fill_value=0, strategy='constant'), (MinMaxScaler(),))\n",
      "0.7985481188222012 (SimpleImputer(fill_value=0, strategy='constant'), (MinMaxScaler(), Normalizer()))\n",
      "0.8027707308829457 (SimpleImputer(fill_value=0, strategy='constant'), (Normalizer(),))\n"
     ]
    }
   ],
   "source": [
    "for key, value in sorted(errors.items(), key=lambda x: x[1]):\n",
    "    print(value, key)"
   ]
  },
  {
   "cell_type": "code",
   "execution_count": 6,
   "metadata": {},
   "outputs": [
    {
     "name": "stderr",
     "output_type": "stream",
     "text": [
      "100%|██████████| 10/10 [00:07<00:00,  1.42it/s]\n"
     ]
    },
    {
     "data": {
      "text/plain": [
       "0.7972607871884272"
      ]
     },
     "execution_count": 6,
     "metadata": {},
     "output_type": "execute_result"
    }
   ],
   "source": [
    "data = Data('ml-latest-small', normalization_type=\"l1\")\n",
    "kmeans = ClusteringBasedRecommender(\n",
    "    data=data.train_data_table_for_clustering_normalized,\n",
    "    data_unnormalized=data.train_data_table_for_clustering,\n",
    "    movie_genres=data.movie_genres,\n",
    "    Clusterer=KMeans,\n",
    "    clusterer_params={'n_clusters': 10, \"random_state\": 1}\n",
    "    )\n",
    "kmeans.train()\n",
    "test_error(10, kmeans,data,2)"
   ]
  },
  {
   "cell_type": "code",
   "execution_count": 7,
   "metadata": {},
   "outputs": [
    {
     "name": "stderr",
     "output_type": "stream",
     "text": [
      "100%|██████████| 10/10 [00:06<00:00,  1.45it/s]\n"
     ]
    },
    {
     "data": {
      "text/plain": [
       "0.7982009049975425"
      ]
     },
     "execution_count": 7,
     "metadata": {},
     "output_type": "execute_result"
    }
   ],
   "source": [
    "data = Data('ml-latest-small', normalization_type=\"l2\")\n",
    "kmeans = ClusteringBasedRecommender(\n",
    "    data=data.train_data_table_for_clustering_normalized,\n",
    "    data_unnormalized=data.train_data_table_for_clustering,\n",
    "    movie_genres=data.movie_genres,\n",
    "    Clusterer=KMeans,\n",
    "    clusterer_params={'n_clusters': 10, \"random_state\": 1}\n",
    "    )\n",
    "kmeans.train()\n",
    "test_error(10, kmeans,data,2)"
   ]
  },
  {
   "cell_type": "code",
   "execution_count": 8,
   "metadata": {},
   "outputs": [
    {
     "name": "stderr",
     "output_type": "stream",
     "text": [
      "100%|██████████| 10/10 [00:06<00:00,  1.51it/s]\n"
     ]
    },
    {
     "data": {
      "text/plain": [
       "0.7884868973623075"
      ]
     },
     "execution_count": 8,
     "metadata": {},
     "output_type": "execute_result"
    }
   ],
   "source": [
    "data = Data('ml-latest-small', normalization_type=\"max\")\n",
    "kmeans = ClusteringBasedRecommender(\n",
    "    data=data.train_data_table_for_clustering_normalized,\n",
    "    data_unnormalized=data.train_data_table_for_clustering,\n",
    "    movie_genres=data.movie_genres,\n",
    "    Clusterer=KMeans,\n",
    "    clusterer_params={'n_clusters': 10, \"random_state\": 1}\n",
    "    )\n",
    "kmeans.train()\n",
    "test_error(10, kmeans,data,2)"
   ]
  }
 ],
 "metadata": {
  "kernelspec": {
   "display_name": "Python 3",
   "language": "python",
   "name": "python3"
  },
  "language_info": {
   "codemirror_mode": {
    "name": "ipython",
    "version": 3
   },
   "file_extension": ".py",
   "mimetype": "text/x-python",
   "name": "python",
   "nbconvert_exporter": "python",
   "pygments_lexer": "ipython3",
   "version": "3.12.2"
  }
 },
 "nbformat": 4,
 "nbformat_minor": 2
}
