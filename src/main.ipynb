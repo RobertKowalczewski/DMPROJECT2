{
 "cells": [
  {
   "cell_type": "code",
   "execution_count": 1,
   "metadata": {},
   "outputs": [],
   "source": [
    "import pandas as pd\n",
    "import numpy as np\n",
    "from tqdm import tqdm\n",
    "from recommenders import ClusteringBasedRecommender, Data, Apriori\n",
    "from sklearn.cluster import KMeans, DBSCAN, AgglomerativeClustering, SpectralClustering, OPTICS, Birch\n",
    "from sklearn.preprocessing import Normalizer, StandardScaler, MinMaxScaler, PolynomialFeatures\n",
    "from sklearn.impute import SimpleImputer, KNNImputer"
   ]
  },
  {
   "cell_type": "code",
   "execution_count": 2,
   "metadata": {},
   "outputs": [],
   "source": [
    "import random \n",
    "def test_error(epochs, recommender,data:Data, seed=196, sample_size=1000):\n",
    "    random.seed(seed)\n",
    "    rand_seeds = [random.randint(0, 1000) for _ in range(epochs)]\n",
    "    avg_error = 0\n",
    "    for i in range(epochs):\n",
    "        test_data = data.test_data.sample(n=sample_size, random_state=rand_seeds[i])\n",
    "        test_data['predicted_rating'] = test_data.apply(\n",
    "            lambda row: recommender.predict(int(row['userId']), int(row['movieId'])), axis=1\n",
    "            )\n",
    "        avg_error += np.mean(np.abs(test_data['rating'] - test_data['predicted_rating']))\n",
    "    return avg_error / epochs"
   ]
  },
  {
   "cell_type": "code",
   "execution_count": 8,
   "metadata": {},
   "outputs": [
    {
     "name": "stderr",
     "output_type": "stream",
     "text": [
      "  0%|          | 0/3 [00:00<?, ?it/s]c:\\Users\\annamiczke\\AppData\\Local\\Programs\\Python\\Python310\\lib\\site-packages\\sklearn\\cluster\\_kmeans.py:1416: FutureWarning: The default value of `n_init` will change from 10 to 'auto' in 1.4. Set the value of `n_init` explicitly to suppress the warning\n",
      "  super()._check_params_vs_input(X, default_n_init=10)\n"
     ]
    },
    {
     "name": "stdout",
     "output_type": "stream",
     "text": [
      "[978, 883]\n",
      "[978, 883]\n",
      "[978, 883]\n",
      "[978, 883]\n",
      "[978, 883]\n",
      "[978, 883]\n"
     ]
    },
    {
     "name": "stderr",
     "output_type": "stream",
     "text": [
      "c:\\Users\\annamiczke\\AppData\\Local\\Programs\\Python\\Python310\\lib\\site-packages\\sklearn\\cluster\\_kmeans.py:1416: FutureWarning: The default value of `n_init` will change from 10 to 'auto' in 1.4. Set the value of `n_init` explicitly to suppress the warning\n",
      "  super()._check_params_vs_input(X, default_n_init=10)\n"
     ]
    },
    {
     "name": "stdout",
     "output_type": "stream",
     "text": [
      "[978, 883]\n",
      "[978, 883]\n",
      "[978, 883]\n",
      "[978, 883]\n",
      "[978, 883]\n",
      "[978, 883]\n"
     ]
    },
    {
     "name": "stderr",
     "output_type": "stream",
     "text": [
      "c:\\Users\\annamiczke\\AppData\\Local\\Programs\\Python\\Python310\\lib\\site-packages\\sklearn\\cluster\\_kmeans.py:1416: FutureWarning: The default value of `n_init` will change from 10 to 'auto' in 1.4. Set the value of `n_init` explicitly to suppress the warning\n",
      "  super()._check_params_vs_input(X, default_n_init=10)\n"
     ]
    },
    {
     "name": "stdout",
     "output_type": "stream",
     "text": [
      "[978, 883]\n",
      "[978, 883]\n",
      "[978, 883]\n",
      "[978, 883]\n",
      "[978, 883]\n",
      "[978, 883]\n"
     ]
    },
    {
     "name": "stderr",
     "output_type": "stream",
     "text": [
      "c:\\Users\\annamiczke\\AppData\\Local\\Programs\\Python\\Python310\\lib\\site-packages\\sklearn\\cluster\\_kmeans.py:1416: FutureWarning: The default value of `n_init` will change from 10 to 'auto' in 1.4. Set the value of `n_init` explicitly to suppress the warning\n",
      "  super()._check_params_vs_input(X, default_n_init=10)\n"
     ]
    },
    {
     "name": "stdout",
     "output_type": "stream",
     "text": [
      "[978, 883]\n",
      "[978, 883]\n",
      "[978, 883]\n",
      "[978, 883]\n",
      "[978, 883]\n"
     ]
    },
    {
     "name": "stderr",
     "output_type": "stream",
     "text": [
      "c:\\Users\\annamiczke\\AppData\\Local\\Programs\\Python\\Python310\\lib\\site-packages\\sklearn\\cluster\\_birch.py:725: ConvergenceWarning: Number of subclusters found (1) by BIRCH is less than (10). Decrease the threshold.\n",
      "  warnings.warn(\n"
     ]
    },
    {
     "name": "stdout",
     "output_type": "stream",
     "text": [
      "[978, 883]\n"
     ]
    },
    {
     "name": "stderr",
     "output_type": "stream",
     "text": [
      "c:\\Users\\annamiczke\\AppData\\Local\\Programs\\Python\\Python310\\lib\\site-packages\\sklearn\\cluster\\_kmeans.py:1416: FutureWarning: The default value of `n_init` will change from 10 to 'auto' in 1.4. Set the value of `n_init` explicitly to suppress the warning\n",
      "  super()._check_params_vs_input(X, default_n_init=10)\n"
     ]
    },
    {
     "name": "stdout",
     "output_type": "stream",
     "text": [
      "[978, 883]\n",
      "[978, 883]\n",
      "[978, 883]\n",
      "[978, 883]\n",
      "[978, 883]\n",
      "[978, 883]\n"
     ]
    },
    {
     "name": "stderr",
     "output_type": "stream",
     "text": [
      "c:\\Users\\annamiczke\\AppData\\Local\\Programs\\Python\\Python310\\lib\\site-packages\\sklearn\\cluster\\_kmeans.py:1416: FutureWarning: The default value of `n_init` will change from 10 to 'auto' in 1.4. Set the value of `n_init` explicitly to suppress the warning\n",
      "  super()._check_params_vs_input(X, default_n_init=10)\n"
     ]
    },
    {
     "name": "stdout",
     "output_type": "stream",
     "text": [
      "[978, 883]\n",
      "[978, 883]\n",
      "[978, 883]\n",
      "[978, 883]\n",
      "[978, 883]\n"
     ]
    },
    {
     "name": "stderr",
     "output_type": "stream",
     "text": [
      "c:\\Users\\annamiczke\\AppData\\Local\\Programs\\Python\\Python310\\lib\\site-packages\\sklearn\\cluster\\_birch.py:725: ConvergenceWarning: Number of subclusters found (1) by BIRCH is less than (10). Decrease the threshold.\n",
      "  warnings.warn(\n"
     ]
    },
    {
     "name": "stdout",
     "output_type": "stream",
     "text": [
      "[978, 883]\n"
     ]
    },
    {
     "name": "stderr",
     "output_type": "stream",
     "text": [
      " 33%|███▎      | 1/3 [02:23<04:47, 143.73s/it]c:\\Users\\annamiczke\\AppData\\Local\\Programs\\Python\\Python310\\lib\\site-packages\\sklearn\\cluster\\_kmeans.py:1416: FutureWarning: The default value of `n_init` will change from 10 to 'auto' in 1.4. Set the value of `n_init` explicitly to suppress the warning\n",
      "  super()._check_params_vs_input(X, default_n_init=10)\n"
     ]
    },
    {
     "name": "stdout",
     "output_type": "stream",
     "text": [
      "[978, 883]\n",
      "[978, 883]\n",
      "[978, 883]\n",
      "[978, 883]\n",
      "[978, 883]\n",
      "[978, 883]\n"
     ]
    },
    {
     "name": "stderr",
     "output_type": "stream",
     "text": [
      "c:\\Users\\annamiczke\\AppData\\Local\\Programs\\Python\\Python310\\lib\\site-packages\\sklearn\\cluster\\_kmeans.py:1416: FutureWarning: The default value of `n_init` will change from 10 to 'auto' in 1.4. Set the value of `n_init` explicitly to suppress the warning\n",
      "  super()._check_params_vs_input(X, default_n_init=10)\n"
     ]
    },
    {
     "name": "stdout",
     "output_type": "stream",
     "text": [
      "[978, 883]\n",
      "[978, 883]\n",
      "[978, 883]\n",
      "[978, 883]\n",
      "[978, 883]\n",
      "[978, 883]\n"
     ]
    },
    {
     "name": "stderr",
     "output_type": "stream",
     "text": [
      "c:\\Users\\annamiczke\\AppData\\Local\\Programs\\Python\\Python310\\lib\\site-packages\\sklearn\\cluster\\_kmeans.py:1416: FutureWarning: The default value of `n_init` will change from 10 to 'auto' in 1.4. Set the value of `n_init` explicitly to suppress the warning\n",
      "  super()._check_params_vs_input(X, default_n_init=10)\n"
     ]
    },
    {
     "name": "stdout",
     "output_type": "stream",
     "text": [
      "[978, 883]\n",
      "[978, 883]\n",
      "[978, 883]\n",
      "[978, 883]\n",
      "[978, 883]\n",
      "[978, 883]\n"
     ]
    },
    {
     "name": "stderr",
     "output_type": "stream",
     "text": [
      "c:\\Users\\annamiczke\\AppData\\Local\\Programs\\Python\\Python310\\lib\\site-packages\\sklearn\\cluster\\_kmeans.py:1416: FutureWarning: The default value of `n_init` will change from 10 to 'auto' in 1.4. Set the value of `n_init` explicitly to suppress the warning\n",
      "  super()._check_params_vs_input(X, default_n_init=10)\n"
     ]
    },
    {
     "name": "stdout",
     "output_type": "stream",
     "text": [
      "[978, 883]\n",
      "[978, 883]\n",
      "[978, 883]\n",
      "[978, 883]\n",
      "[978, 883]\n"
     ]
    },
    {
     "name": "stderr",
     "output_type": "stream",
     "text": [
      "c:\\Users\\annamiczke\\AppData\\Local\\Programs\\Python\\Python310\\lib\\site-packages\\sklearn\\cluster\\_birch.py:725: ConvergenceWarning: Number of subclusters found (1) by BIRCH is less than (10). Decrease the threshold.\n",
      "  warnings.warn(\n"
     ]
    },
    {
     "name": "stdout",
     "output_type": "stream",
     "text": [
      "[978, 883]\n"
     ]
    },
    {
     "name": "stderr",
     "output_type": "stream",
     "text": [
      "c:\\Users\\annamiczke\\AppData\\Local\\Programs\\Python\\Python310\\lib\\site-packages\\sklearn\\cluster\\_kmeans.py:1416: FutureWarning: The default value of `n_init` will change from 10 to 'auto' in 1.4. Set the value of `n_init` explicitly to suppress the warning\n",
      "  super()._check_params_vs_input(X, default_n_init=10)\n"
     ]
    },
    {
     "name": "stdout",
     "output_type": "stream",
     "text": [
      "[978, 883]\n",
      "[978, 883]\n",
      "[978, 883]\n",
      "[978, 883]\n",
      "[978, 883]\n",
      "[978, 883]\n"
     ]
    },
    {
     "name": "stderr",
     "output_type": "stream",
     "text": [
      "c:\\Users\\annamiczke\\AppData\\Local\\Programs\\Python\\Python310\\lib\\site-packages\\sklearn\\cluster\\_kmeans.py:1416: FutureWarning: The default value of `n_init` will change from 10 to 'auto' in 1.4. Set the value of `n_init` explicitly to suppress the warning\n",
      "  super()._check_params_vs_input(X, default_n_init=10)\n"
     ]
    },
    {
     "name": "stdout",
     "output_type": "stream",
     "text": [
      "[978, 883]\n",
      "[978, 883]\n",
      "[978, 883]\n",
      "[978, 883]\n",
      "[978, 883]\n"
     ]
    },
    {
     "name": "stderr",
     "output_type": "stream",
     "text": [
      "c:\\Users\\annamiczke\\AppData\\Local\\Programs\\Python\\Python310\\lib\\site-packages\\sklearn\\cluster\\_birch.py:725: ConvergenceWarning: Number of subclusters found (1) by BIRCH is less than (10). Decrease the threshold.\n",
      "  warnings.warn(\n"
     ]
    },
    {
     "name": "stdout",
     "output_type": "stream",
     "text": [
      "[978, 883]\n"
     ]
    },
    {
     "name": "stderr",
     "output_type": "stream",
     "text": [
      " 67%|██████▋   | 2/3 [04:43<02:21, 141.51s/it]c:\\Users\\annamiczke\\AppData\\Local\\Programs\\Python\\Python310\\lib\\site-packages\\sklearn\\cluster\\_kmeans.py:1416: FutureWarning: The default value of `n_init` will change from 10 to 'auto' in 1.4. Set the value of `n_init` explicitly to suppress the warning\n",
      "  super()._check_params_vs_input(X, default_n_init=10)\n"
     ]
    },
    {
     "name": "stdout",
     "output_type": "stream",
     "text": [
      "[978, 883]\n",
      "[978, 883]\n",
      "[978, 883]\n",
      "[978, 883]\n",
      "[978, 883]\n",
      "[978, 883]\n"
     ]
    },
    {
     "name": "stderr",
     "output_type": "stream",
     "text": [
      "c:\\Users\\annamiczke\\AppData\\Local\\Programs\\Python\\Python310\\lib\\site-packages\\sklearn\\cluster\\_kmeans.py:1416: FutureWarning: The default value of `n_init` will change from 10 to 'auto' in 1.4. Set the value of `n_init` explicitly to suppress the warning\n",
      "  super()._check_params_vs_input(X, default_n_init=10)\n"
     ]
    },
    {
     "name": "stdout",
     "output_type": "stream",
     "text": [
      "[978, 883]\n",
      "[978, 883]\n",
      "[978, 883]\n",
      "[978, 883]\n",
      "[978, 883]\n",
      "[978, 883]\n"
     ]
    },
    {
     "name": "stderr",
     "output_type": "stream",
     "text": [
      "c:\\Users\\annamiczke\\AppData\\Local\\Programs\\Python\\Python310\\lib\\site-packages\\sklearn\\cluster\\_kmeans.py:1416: FutureWarning: The default value of `n_init` will change from 10 to 'auto' in 1.4. Set the value of `n_init` explicitly to suppress the warning\n",
      "  super()._check_params_vs_input(X, default_n_init=10)\n"
     ]
    },
    {
     "name": "stdout",
     "output_type": "stream",
     "text": [
      "[978, 883]\n",
      "[978, 883]\n",
      "[978, 883]\n",
      "[978, 883]\n",
      "[978, 883]\n",
      "[978, 883]\n"
     ]
    },
    {
     "name": "stderr",
     "output_type": "stream",
     "text": [
      "c:\\Users\\annamiczke\\AppData\\Local\\Programs\\Python\\Python310\\lib\\site-packages\\sklearn\\cluster\\_kmeans.py:1416: FutureWarning: The default value of `n_init` will change from 10 to 'auto' in 1.4. Set the value of `n_init` explicitly to suppress the warning\n",
      "  super()._check_params_vs_input(X, default_n_init=10)\n"
     ]
    },
    {
     "name": "stdout",
     "output_type": "stream",
     "text": [
      "[978, 883]\n",
      "[978, 883]\n",
      "[978, 883]\n",
      "[978, 883]\n",
      "[978, 883]\n"
     ]
    },
    {
     "name": "stderr",
     "output_type": "stream",
     "text": [
      "c:\\Users\\annamiczke\\AppData\\Local\\Programs\\Python\\Python310\\lib\\site-packages\\sklearn\\cluster\\_birch.py:725: ConvergenceWarning: Number of subclusters found (1) by BIRCH is less than (10). Decrease the threshold.\n",
      "  warnings.warn(\n"
     ]
    },
    {
     "name": "stdout",
     "output_type": "stream",
     "text": [
      "[978, 883]\n"
     ]
    },
    {
     "name": "stderr",
     "output_type": "stream",
     "text": [
      "c:\\Users\\annamiczke\\AppData\\Local\\Programs\\Python\\Python310\\lib\\site-packages\\sklearn\\cluster\\_kmeans.py:1416: FutureWarning: The default value of `n_init` will change from 10 to 'auto' in 1.4. Set the value of `n_init` explicitly to suppress the warning\n",
      "  super()._check_params_vs_input(X, default_n_init=10)\n"
     ]
    },
    {
     "name": "stdout",
     "output_type": "stream",
     "text": [
      "[978, 883]\n",
      "[978, 883]\n",
      "[978, 883]\n",
      "[978, 883]\n",
      "[978, 883]\n",
      "[978, 883]\n"
     ]
    },
    {
     "name": "stderr",
     "output_type": "stream",
     "text": [
      "c:\\Users\\annamiczke\\AppData\\Local\\Programs\\Python\\Python310\\lib\\site-packages\\sklearn\\cluster\\_kmeans.py:1416: FutureWarning: The default value of `n_init` will change from 10 to 'auto' in 1.4. Set the value of `n_init` explicitly to suppress the warning\n",
      "  super()._check_params_vs_input(X, default_n_init=10)\n"
     ]
    },
    {
     "name": "stdout",
     "output_type": "stream",
     "text": [
      "[978, 883]\n",
      "[978, 883]\n",
      "[978, 883]\n",
      "[978, 883]\n",
      "[978, 883]\n"
     ]
    },
    {
     "name": "stderr",
     "output_type": "stream",
     "text": [
      "c:\\Users\\annamiczke\\AppData\\Local\\Programs\\Python\\Python310\\lib\\site-packages\\sklearn\\cluster\\_birch.py:725: ConvergenceWarning: Number of subclusters found (1) by BIRCH is less than (10). Decrease the threshold.\n",
      "  warnings.warn(\n"
     ]
    },
    {
     "name": "stdout",
     "output_type": "stream",
     "text": [
      "[978, 883]\n"
     ]
    },
    {
     "name": "stderr",
     "output_type": "stream",
     "text": [
      "100%|██████████| 3/3 [07:04<00:00, 141.48s/it]\n"
     ]
    }
   ],
   "source": [
    "imputers = [SimpleImputer(strategy='mean'),\n",
    "            SimpleImputer(strategy='median'),\n",
    "            KNNImputer(n_neighbors=4, weights='uniform')]\n",
    "preprocessors = [[], [MinMaxScaler()],\n",
    "                 [StandardScaler()], [Normalizer()],\n",
    "                 [StandardScaler()],\n",
    "                 [MinMaxScaler(), Normalizer()]]\n",
    "clusterers = [KMeans(n_clusters=20), \n",
    "              DBSCAN(eps=0.5, min_samples=5),\n",
    "              AgglomerativeClustering(n_clusters=20),\n",
    "              SpectralClustering(n_clusters=20),\n",
    "              OPTICS(min_samples=5),\n",
    "              Birch(n_clusters=10)]\n",
    "errors = {}\n",
    "\n",
    "for i,imputer in enumerate(tqdm(imputers)):\n",
    "    for preprocessor in preprocessors:\n",
    "        for clusterer in clusterers:\n",
    "            data = Data('ml-latest-small', \n",
    "                        imputer=imputer,\n",
    "                        preprocessors=preprocessor)\n",
    "\n",
    "            recommender = ClusteringBasedRecommender(\n",
    "                data=data.train_data_table_for_clustering_normalized,\n",
    "                data_unnormalized=data.train_data_table_for_clustering,\n",
    "                movie_genres=data.movie_genres,\n",
    "                clusterer=clusterer,apriori=False\n",
    "                )\n",
    "            recommender.train()\n",
    "            errors[(imputer, tuple(preprocessor), clusterer)] = test_error(2, recommender,data,2, sample_size=100)\n"
   ]
  },
  {
   "cell_type": "code",
   "execution_count": 3,
   "metadata": {},
   "outputs": [
    {
     "name": "stderr",
     "output_type": "stream",
     "text": [
      "  0%|          | 0/20 [00:00<?, ?it/s]"
     ]
    },
    {
     "name": "stdout",
     "output_type": "stream",
     "text": [
      "980\n"
     ]
    },
    {
     "name": "stderr",
     "output_type": "stream",
     "text": [
      "  5%|▌         | 1/20 [00:55<17:28, 55.18s/it]"
     ]
    },
    {
     "name": "stdout",
     "output_type": "stream",
     "text": [
      "623\n",
      "788\n"
     ]
    },
    {
     "name": "stderr",
     "output_type": "stream",
     "text": [
      " 10%|█         | 2/20 [00:56<06:58, 23.26s/it]"
     ]
    },
    {
     "name": "stdout",
     "output_type": "stream",
     "text": [
      "881\n",
      "1610\n"
     ]
    },
    {
     "name": "stderr",
     "output_type": "stream",
     "text": [
      " 15%|█▌        | 3/20 [06:38<47:51, 168.91s/it]"
     ]
    },
    {
     "name": "stdout",
     "output_type": "stream",
     "text": [
      "773\n"
     ]
    },
    {
     "name": "stderr",
     "output_type": "stream",
     "text": [
      " 20%|██        | 4/20 [06:38<27:19, 102.48s/it]"
     ]
    },
    {
     "name": "stdout",
     "output_type": "stream",
     "text": [
      "531\n",
      "455\n",
      "1233\n"
     ]
    },
    {
     "name": "stderr",
     "output_type": "stream",
     "text": [
      " 25%|██▌       | 5/20 [09:20<30:57, 123.85s/it]"
     ]
    },
    {
     "name": "stdout",
     "output_type": "stream",
     "text": [
      "690\n",
      "998\n"
     ]
    },
    {
     "name": "stderr",
     "output_type": "stream",
     "text": [
      " 30%|███       | 6/20 [09:46<21:05, 90.39s/it] "
     ]
    },
    {
     "name": "stdout",
     "output_type": "stream",
     "text": [
      "824\n",
      "1309\n"
     ]
    },
    {
     "name": "stderr",
     "output_type": "stream",
     "text": [
      " 35%|███▌      | 7/20 [10:04<14:27, 66.72s/it]"
     ]
    },
    {
     "name": "stdout",
     "output_type": "stream",
     "text": [
      "962\n",
      "1178\n"
     ]
    },
    {
     "name": "stderr",
     "output_type": "stream",
     "text": [
      " 40%|████      | 8/20 [10:22<10:16, 51.34s/it]"
     ]
    },
    {
     "name": "stdout",
     "output_type": "stream",
     "text": [
      "935\n",
      "898\n"
     ]
    },
    {
     "name": "stderr",
     "output_type": "stream",
     "text": [
      " 45%|████▌     | 9/20 [10:23<06:31, 35.61s/it]"
     ]
    },
    {
     "name": "stdout",
     "output_type": "stream",
     "text": [
      "708\n",
      "1471\n"
     ]
    },
    {
     "name": "stderr",
     "output_type": "stream",
     "text": [
      " 50%|█████     | 10/20 [18:29<29:07, 174.71s/it]"
     ]
    },
    {
     "name": "stdout",
     "output_type": "stream",
     "text": [
      "582\n",
      "1082\n"
     ]
    },
    {
     "name": "stderr",
     "output_type": "stream",
     "text": [
      " 55%|█████▌    | 11/20 [18:35<18:26, 122.93s/it]"
     ]
    },
    {
     "name": "stdout",
     "output_type": "stream",
     "text": [
      "1487\n",
      "280\n",
      "218\n",
      "617\n"
     ]
    },
    {
     "name": "stderr",
     "output_type": "stream",
     "text": [
      " 65%|██████▌   | 13/20 [18:35<07:39, 65.66s/it] "
     ]
    },
    {
     "name": "stdout",
     "output_type": "stream",
     "text": [
      "492\n",
      "814\n"
     ]
    },
    {
     "name": "stderr",
     "output_type": "stream",
     "text": [
      " 70%|███████   | 14/20 [18:45<05:09, 51.66s/it]"
     ]
    },
    {
     "name": "stdout",
     "output_type": "stream",
     "text": [
      "1592\n",
      "1207\n"
     ]
    },
    {
     "name": "stderr",
     "output_type": "stream",
     "text": [
      " 75%|███████▌  | 15/20 [18:49<03:16, 39.28s/it]"
     ]
    },
    {
     "name": "stdout",
     "output_type": "stream",
     "text": [
      "1351\n",
      "915\n"
     ]
    },
    {
     "name": "stderr",
     "output_type": "stream",
     "text": [
      " 80%|████████  | 16/20 [18:51<01:55, 28.97s/it]"
     ]
    },
    {
     "name": "stdout",
     "output_type": "stream",
     "text": [
      "1024\n",
      "1543\n"
     ]
    },
    {
     "name": "stderr",
     "output_type": "stream",
     "text": [
      " 85%|████████▌ | 17/20 [20:11<02:09, 43.30s/it]"
     ]
    },
    {
     "name": "stdout",
     "output_type": "stream",
     "text": [
      "862\n",
      "1474\n"
     ]
    },
    {
     "name": "stderr",
     "output_type": "stream",
     "text": [
      " 90%|█████████ | 18/20 [29:11<06:10, 185.35s/it]"
     ]
    },
    {
     "name": "stdout",
     "output_type": "stream",
     "text": [
      "676\n",
      "1059\n"
     ]
    },
    {
     "name": "stderr",
     "output_type": "stream",
     "text": [
      " 95%|█████████▌| 19/20 [29:38<02:19, 139.43s/it]"
     ]
    },
    {
     "name": "stdout",
     "output_type": "stream",
     "text": [
      "1062\n",
      "354\n",
      "319\n"
     ]
    },
    {
     "name": "stderr",
     "output_type": "stream",
     "text": [
      "100%|██████████| 20/20 [29:38<00:00, 88.92s/it] \n"
     ]
    },
    {
     "name": "stdout",
     "output_type": "stream",
     "text": [
      "('Sci-Fi', 'rating_4.0', 'userId_186')\n",
      "('rating_3.0', 'userId_54')\n",
      "('355', 'rating_3.0')\n",
      "('159093', 'rating_4.0')\n",
      "('Comedy', 'rating_3.0', 'userId_436')\n",
      "('2600', 'rating_4.0')\n",
      "('2291', 'rating_4.0')\n",
      "('81834', 'rating_3.0')\n",
      "('rating_3.0', 'userId_109')\n",
      "('50', 'rating_2.0')\n",
      "average error when predicting ratings:\n",
      "0.6469251206559179 (SimpleImputer(strategy='median'), (), AgglomerativeClustering(n_clusters=20))\n"
     ]
    }
   ],
   "source": [
    "'''best option tried with assosciation rules apriori\n",
    "watch out- process like 30 mins\n",
    "printing, the sizes of frequent  itemsets generated, to see progress\n",
    "and printing the matched assosciation rules to have some comparison '''\n",
    "imputer = SimpleImputer(strategy='median')\n",
    "preprocessor = []\n",
    "clusterer = AgglomerativeClustering(n_clusters=20)\n",
    "#clusterer =KMeans(n_clusters=20)\n",
    "data = Data('ml-latest-small', \n",
    "                        imputer= imputer,\n",
    "                        preprocessors=preprocessor)\n",
    "errors = {}\n",
    "\n",
    "recommender = ClusteringBasedRecommender(\n",
    "    data=data.train_data_table_for_clustering_normalized,\n",
    "    data_unnormalized=data.train_data_table_for_clustering,\n",
    "    movie_genres=data.movie_genres,\n",
    "    clusterer=clusterer,apriori=True)\n",
    "recommender.train()\n",
    "errors[(imputer, tuple(preprocessor), clusterer)] = test_error(2, recommender,data,2, sample_size=100)\n",
    "print(\"average error when predicting ratings:\")\n",
    "for key, value in sorted(errors.items(), key=lambda x: x[1]):\n",
    "    print(value, key)"
   ]
  },
  {
   "cell_type": "code",
   "execution_count": 9,
   "metadata": {},
   "outputs": [
    {
     "name": "stdout",
     "output_type": "stream",
     "text": [
      "average error when predicting ratings:\n",
      "0.6691391529062851 (SimpleImputer(strategy='median'), (), AgglomerativeClustering(n_clusters=20))\n",
      "0.6721764552273872 (SimpleImputer(strategy='median'), (), KMeans(n_clusters=20))\n",
      "0.6750110407597765 (SimpleImputer(strategy='median'), (MinMaxScaler(),), KMeans(n_clusters=20))\n",
      "0.6761412865641284 (SimpleImputer(strategy='median'), (MinMaxScaler(),), AgglomerativeClustering(n_clusters=20))\n",
      "0.6761706837328801 (SimpleImputer(strategy='median'), (StandardScaler(),), KMeans(n_clusters=20))\n",
      "0.6762948602212068 (SimpleImputer(), (), KMeans(n_clusters=20))\n",
      "0.6768241960831751 (SimpleImputer(), (), Birch(n_clusters=10))\n",
      "0.6774146558400831 (SimpleImputer(), (MinMaxScaler(),), KMeans(n_clusters=20))\n",
      "0.6802747075594189 (SimpleImputer(), (StandardScaler(),), KMeans(n_clusters=20))\n",
      "0.6809074763464446 (KNNImputer(n_neighbors=4), (StandardScaler(),), KMeans(n_clusters=20))\n",
      "0.6810594346258958 (SimpleImputer(), (StandardScaler(),), KMeans(n_clusters=20))\n",
      "0.6822060947333347 (KNNImputer(n_neighbors=4), (MinMaxScaler(),), AgglomerativeClustering(n_clusters=20))\n",
      "0.6851389429732488 (KNNImputer(n_neighbors=4), (), AgglomerativeClustering(n_clusters=20))\n",
      "0.687129881396878 (KNNImputer(n_neighbors=4), (), KMeans(n_clusters=20))\n",
      "0.6885725295121063 (SimpleImputer(strategy='median'), (StandardScaler(),), AgglomerativeClustering(n_clusters=20))\n",
      "0.6885725295121063 (SimpleImputer(strategy='median'), (StandardScaler(),), AgglomerativeClustering(n_clusters=20))\n",
      "0.688770245558872 (KNNImputer(n_neighbors=4), (StandardScaler(),), AgglomerativeClustering(n_clusters=20))\n",
      "0.688770245558872 (KNNImputer(n_neighbors=4), (StandardScaler(),), AgglomerativeClustering(n_clusters=20))\n",
      "0.6912448339406424 (SimpleImputer(), (StandardScaler(),), AgglomerativeClustering(n_clusters=20))\n",
      "0.6912448339406424 (SimpleImputer(), (StandardScaler(),), AgglomerativeClustering(n_clusters=20))\n",
      "0.6922070432508917 (KNNImputer(n_neighbors=4), (StandardScaler(),), Birch(n_clusters=10))\n",
      "0.6922070432508917 (KNNImputer(n_neighbors=4), (StandardScaler(),), Birch(n_clusters=10))\n",
      "0.6927482592374619 (KNNImputer(n_neighbors=4), (StandardScaler(),), KMeans(n_clusters=20))\n",
      "0.6946689273838451 (SimpleImputer(), (MinMaxScaler(),), AgglomerativeClustering(n_clusters=20))\n",
      "0.6952899064140361 (SimpleImputer(), (), AgglomerativeClustering(n_clusters=20))\n",
      "0.6961287210072042 (KNNImputer(n_neighbors=4), (MinMaxScaler(),), KMeans(n_clusters=20))\n",
      "0.6963736274326415 (SimpleImputer(strategy='median'), (), Birch(n_clusters=10))\n",
      "0.6975945119525739 (SimpleImputer(strategy='median'), (StandardScaler(),), KMeans(n_clusters=20))\n",
      "0.6977925000542184 (KNNImputer(n_neighbors=4), (), Birch(n_clusters=10))\n",
      "0.7031258174468029 (SimpleImputer(strategy='median'), (StandardScaler(),), Birch(n_clusters=10))\n",
      "0.7031258174468029 (SimpleImputer(strategy='median'), (StandardScaler(),), Birch(n_clusters=10))\n",
      "0.7032483706595585 (KNNImputer(n_neighbors=4), (MinMaxScaler(),), SpectralClustering(n_clusters=20))\n",
      "0.7035515538223622 (KNNImputer(n_neighbors=4), (MinMaxScaler(),), Birch(n_clusters=10))\n",
      "0.7055746262567495 (SimpleImputer(strategy='median'), (MinMaxScaler(),), SpectralClustering(n_clusters=20))\n",
      "0.7077266507307698 (SimpleImputer(), (StandardScaler(),), Birch(n_clusters=10))\n",
      "0.7077266507307698 (SimpleImputer(), (StandardScaler(),), Birch(n_clusters=10))\n",
      "0.7119000750263045 (SimpleImputer(), (MinMaxScaler(),), SpectralClustering(n_clusters=20))\n",
      "0.723628082573375 (SimpleImputer(), (MinMaxScaler(), Normalizer()), KMeans(n_clusters=20))\n",
      "0.7239422113706426 (SimpleImputer(), (Normalizer(),), KMeans(n_clusters=20))\n",
      "0.7272107257892799 (SimpleImputer(strategy='median'), (Normalizer(),), KMeans(n_clusters=20))\n",
      "0.7290641469913688 (SimpleImputer(strategy='median'), (MinMaxScaler(), Normalizer()), KMeans(n_clusters=20))\n",
      "0.7422601575006464 (SimpleImputer(), (MinMaxScaler(), Normalizer()), AgglomerativeClustering(n_clusters=20))\n",
      "0.7465333187131664 (SimpleImputer(), (Normalizer(),), AgglomerativeClustering(n_clusters=20))\n",
      "0.7488117365503033 (SimpleImputer(strategy='median'), (MinMaxScaler(), Normalizer()), SpectralClustering(n_clusters=20))\n",
      "0.7541839385562957 (SimpleImputer(strategy='median'), (Normalizer(),), AgglomerativeClustering(n_clusters=20))\n",
      "0.7547639053748308 (SimpleImputer(strategy='median'), (StandardScaler(),), SpectralClustering(n_clusters=20))\n",
      "0.7555604035137564 (SimpleImputer(strategy='median'), (MinMaxScaler(), Normalizer()), AgglomerativeClustering(n_clusters=20))\n",
      "0.7593436402992146 (SimpleImputer(strategy='median'), (Normalizer(),), SpectralClustering(n_clusters=20))\n",
      "0.7603659313732345 (SimpleImputer(strategy='median'), (StandardScaler(),), SpectralClustering(n_clusters=20))\n",
      "0.7609051969838612 (SimpleImputer(), (StandardScaler(),), SpectralClustering(n_clusters=20))\n",
      "0.7609051969838612 (SimpleImputer(), (StandardScaler(),), SpectralClustering(n_clusters=20))\n",
      "0.7609772486297754 (SimpleImputer(), (MinMaxScaler(),), Birch(n_clusters=10))\n",
      "0.7619877271197603 (KNNImputer(n_neighbors=4), (), OPTICS())\n",
      "0.7620823736698814 (SimpleImputer(strategy='median'), (MinMaxScaler(),), Birch(n_clusters=10))\n",
      "0.7624479034314389 (SimpleImputer(), (Normalizer(),), SpectralClustering(n_clusters=20))\n",
      "0.7703366469502582 (KNNImputer(n_neighbors=4), (Normalizer(),), KMeans(n_clusters=20))\n",
      "0.7724611126215126 (KNNImputer(n_neighbors=4), (MinMaxScaler(), Normalizer()), KMeans(n_clusters=20))\n",
      "0.7762243100113699 (KNNImputer(n_neighbors=4), (MinMaxScaler(), Normalizer()), SpectralClustering(n_clusters=20))\n",
      "0.7770983803135378 (KNNImputer(n_neighbors=4), (MinMaxScaler(), Normalizer()), AgglomerativeClustering(n_clusters=20))\n",
      "0.7780426236488707 (SimpleImputer(), (MinMaxScaler(), Normalizer()), SpectralClustering(n_clusters=20))\n",
      "0.7788545006855515 (KNNImputer(n_neighbors=4), (Normalizer(),), AgglomerativeClustering(n_clusters=20))\n",
      "0.7815552547036007 (SimpleImputer(strategy='median'), (), OPTICS())\n",
      "0.7871240564122 (KNNImputer(n_neighbors=4), (StandardScaler(),), OPTICS())\n",
      "0.7871240564122 (KNNImputer(n_neighbors=4), (StandardScaler(),), OPTICS())\n",
      "0.787861793787354 (SimpleImputer(), (StandardScaler(),), OPTICS())\n",
      "0.787861793787354 (SimpleImputer(), (StandardScaler(),), OPTICS())\n",
      "0.7886188029612171 (SimpleImputer(), (Normalizer(),), OPTICS())\n",
      "0.7887829102925673 (SimpleImputer(strategy='median'), (MinMaxScaler(), Normalizer()), OPTICS())\n",
      "0.789144059715332 (SimpleImputer(), (MinMaxScaler(), Normalizer()), OPTICS())\n",
      "0.7896708666237081 (KNNImputer(n_neighbors=4), (Normalizer(),), SpectralClustering(n_clusters=20))\n",
      "0.7911474591824446 (SimpleImputer(strategy='median'), (), DBSCAN())\n",
      "0.7911474591824446 (SimpleImputer(strategy='median'), (StandardScaler(),), DBSCAN())\n",
      "0.7911474591824446 (SimpleImputer(strategy='median'), (StandardScaler(),), OPTICS())\n",
      "0.7911474591824446 (SimpleImputer(strategy='median'), (Normalizer(),), DBSCAN())\n",
      "0.7911474591824446 (SimpleImputer(strategy='median'), (Normalizer(),), Birch(n_clusters=10))\n",
      "0.7911474591824446 (SimpleImputer(strategy='median'), (StandardScaler(),), DBSCAN())\n",
      "0.7911474591824446 (SimpleImputer(strategy='median'), (StandardScaler(),), OPTICS())\n",
      "0.7911474591824446 (SimpleImputer(strategy='median'), (MinMaxScaler(), Normalizer()), Birch(n_clusters=10))\n",
      "0.7912594222158469 (SimpleImputer(strategy='median'), (MinMaxScaler(), Normalizer()), DBSCAN())\n",
      "0.7913877111138262 (KNNImputer(n_neighbors=4), (), DBSCAN())\n",
      "0.7913877111138262 (KNNImputer(n_neighbors=4), (StandardScaler(),), DBSCAN())\n",
      "0.7913877111138262 (KNNImputer(n_neighbors=4), (Normalizer(),), DBSCAN())\n",
      "0.7913877111138262 (KNNImputer(n_neighbors=4), (Normalizer(),), Birch(n_clusters=10))\n",
      "0.7913877111138262 (KNNImputer(n_neighbors=4), (StandardScaler(),), DBSCAN())\n",
      "0.7913877111138262 (KNNImputer(n_neighbors=4), (MinMaxScaler(), Normalizer()), Birch(n_clusters=10))\n",
      "0.7915821205458592 (KNNImputer(n_neighbors=4), (MinMaxScaler(), Normalizer()), DBSCAN())\n",
      "0.7917806958830316 (SimpleImputer(), (), DBSCAN())\n",
      "0.7917806958830316 (SimpleImputer(), (), OPTICS())\n",
      "0.7917806958830316 (SimpleImputer(), (MinMaxScaler(),), OPTICS())\n",
      "0.7917806958830316 (SimpleImputer(), (StandardScaler(),), DBSCAN())\n",
      "0.7917806958830316 (SimpleImputer(), (Normalizer(),), DBSCAN())\n",
      "0.7917806958830316 (SimpleImputer(), (Normalizer(),), Birch(n_clusters=10))\n",
      "0.7917806958830316 (SimpleImputer(), (StandardScaler(),), DBSCAN())\n",
      "0.7917806958830316 (SimpleImputer(), (MinMaxScaler(), Normalizer()), Birch(n_clusters=10))\n",
      "0.7918965550907899 (SimpleImputer(), (MinMaxScaler(), Normalizer()), DBSCAN())\n",
      "0.793799914765743 (KNNImputer(n_neighbors=4), (StandardScaler(),), SpectralClustering(n_clusters=20))\n",
      "0.7942140161325426 (SimpleImputer(), (), SpectralClustering(n_clusters=20))\n",
      "0.7942570235668597 (KNNImputer(n_neighbors=4), (MinMaxScaler(), Normalizer()), OPTICS())\n",
      "0.7944353892841343 (SimpleImputer(strategy='median'), (MinMaxScaler(),), OPTICS())\n",
      "0.7945614458329366 (KNNImputer(n_neighbors=4), (MinMaxScaler(),), OPTICS())\n",
      "0.7949788727092953 (KNNImputer(n_neighbors=4), (Normalizer(),), OPTICS())\n",
      "0.795649227023632 (SimpleImputer(strategy='median'), (), SpectralClustering(n_clusters=20))\n",
      "0.8010194160853623 (SimpleImputer(), (MinMaxScaler(),), DBSCAN())\n",
      "0.8030280511951324 (SimpleImputer(strategy='median'), (MinMaxScaler(),), DBSCAN())\n",
      "0.8036423656121521 (SimpleImputer(strategy='median'), (Normalizer(),), OPTICS())\n",
      "0.8054328382377234 (KNNImputer(n_neighbors=4), (), SpectralClustering(n_clusters=20))\n",
      "0.8061063461905666 (KNNImputer(n_neighbors=4), (StandardScaler(),), SpectralClustering(n_clusters=20))\n",
      "0.8093125171854998 (KNNImputer(n_neighbors=4), (MinMaxScaler(),), DBSCAN())\n"
     ]
    }
   ],
   "source": [
    "print(\"average error when predicting ratings:\")\n",
    "for key, value in sorted(errors.items(), key=lambda x: x[1]):\n",
    "    print(value, key)"
   ]
  }
 ],
 "metadata": {
  "kernelspec": {
   "display_name": "Python 3",
   "language": "python",
   "name": "python3"
  },
  "language_info": {
   "codemirror_mode": {
    "name": "ipython",
    "version": 3
   },
   "file_extension": ".py",
   "mimetype": "text/x-python",
   "name": "python",
   "nbconvert_exporter": "python",
   "pygments_lexer": "ipython3",
   "version": "3.10.2"
  }
 },
 "nbformat": 4,
 "nbformat_minor": 2
}
